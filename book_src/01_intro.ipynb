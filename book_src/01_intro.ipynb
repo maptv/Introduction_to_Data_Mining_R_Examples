{
 "cells": [
  {
   "cell_type": "raw",
   "id": "108d2d41",
   "metadata": {},
   "source": [
    "---\n",
    "editor_options: \n",
    "  markdown: \n",
    "    wrap: 72\n",
    "---"
   ]
  },
  {
   "cell_type": "markdown",
   "id": "27dac9a3",
   "metadata": {},
   "source": [
    "# Introduction"
   ]
  },
  {
   "cell_type": "code",
   "execution_count": 16,
   "id": "ecf689a8-9b31-4da7-a91a-7d72c92e727f",
   "metadata": {},
   "outputs": [
    {
     "name": "stdout",
     "output_type": "stream",
     "text": [
      "[1] 4\n"
     ]
    },
    {
     "data": {
      "text/html": [
       "'numeric'"
      ],
      "text/latex": [
       "'numeric'"
      ],
      "text/markdown": [
       "'numeric'"
      ],
      "text/plain": [
       "[1] \"numeric\""
      ]
     },
     "metadata": {},
     "output_type": "display_data"
    },
    {
     "name": "stdout",
     "output_type": "stream",
     "text": [
      "[1] TRUE\n",
      "[1] \"logical\"\n",
      "[1] \"3.7\"     \"numeric\"\n",
      "[1] \"This is a string\" \"character\"       \n"
     ]
    }
   ],
   "source": [
    "x = 4              # integer\n",
    "print(x)\n",
    "class(x)\n",
    "\n",
    "y = TRUE           # boolean (True, False)\n",
    "print(y)\n",
    "print(class(y))\n",
    "\n",
    "z = 3.7            # floating point\n",
    "print(c(z, class(z)))\n",
    "\n",
    "s = \"This is a string\"    # string\n",
    "print(c(s, class(s)))"
   ]
  },
  {
   "cell_type": "code",
   "execution_count": 24,
   "id": "b155700c-43da-4301-b2ea-a47dde5c44ed",
   "metadata": {},
   "outputs": [
    {
     "name": "stdout",
     "output_type": "stream",
     "text": [
      " num 4\n"
     ]
    }
   ],
   "source": [
    "str(x)"
   ]
  },
  {
   "cell_type": "code",
   "execution_count": 21,
   "id": "8eb57a9e-b28f-4e97-aabf-a0900b526974",
   "metadata": {},
   "outputs": [
    {
     "data": {
      "text/html": [
       "'numeric'"
      ],
      "text/latex": [
       "'numeric'"
      ],
      "text/markdown": [
       "'numeric'"
      ],
      "text/plain": [
       "[1] \"numeric\""
      ]
     },
     "metadata": {},
     "output_type": "display_data"
    }
   ],
   "source": [
    "class(x)"
   ]
  },
  {
   "cell_type": "code",
   "execution_count": 20,
   "id": "f3f8e72d-122e-4687-9ef9-325aeee0e3c3",
   "metadata": {},
   "outputs": [],
   "source": [
    "x = 4            # integer\n",
    "x1 = x + 4       # addition \n",
    "x2 = x * 3       # multiplication\n",
    "# x += 2           # equivalent to x = x + 2\n",
    "x3 = x       \n",
    "# x *= 3           # equivalent to x = x * 3\n",
    "x4 = x      \n",
    "# x5 = x % 4       # modulo (remainder) operator"
   ]
  },
  {
   "cell_type": "code",
   "execution_count": null,
   "id": "62e937a7-186e-4e0b-bd95-5a9244b1265d",
   "metadata": {},
   "outputs": [],
   "source": [
    "base::"
   ]
  },
  {
   "cell_type": "code",
   "execution_count": 53,
   "id": "bebbf4f7-fc39-410e-891f-f23fff426860",
   "metadata": {
    "tags": []
   },
   "outputs": [
    {
     "data": {
      "text/html": [
       "54.5981500331442"
      ],
      "text/latex": [
       "54.5981500331442"
      ],
      "text/markdown": [
       "54.5981500331442"
      ],
      "text/plain": [
       "[1] 54.59815"
      ]
     },
     "metadata": {},
     "output_type": "display_data"
    }
   ],
   "source": [
    "exp(4)"
   ]
  },
  {
   "cell_type": "code",
   "execution_count": null,
   "id": "672c6287-0368-4350-9024-7aa77467c03c",
   "metadata": {},
   "outputs": [],
   "source": [
    "z = 3.7          # floating point number\n",
    "z1 = z - 2       # subtraction\n",
    "z2 = z / 3       # division\n",
    "z3 = z // 3      # integer division\n",
    "z4 = z ** 2      # square of z \n",
    "z5 = z4 ** 0.5   # square root\n",
    "z6 = pow(z,2)    # equivalent to square of z\n",
    "z7 = round(z)    # rounding z to its nearest integer \n",
    "z8 = int(z)      # type casting float to int\n",
    "\n",
    "print(x,x1,x2,x3,x4,x5)\n",
    "print(z,z1,z2,z3,z4)\n",
    "print(z5,z6,z7,z8)"
   ]
  },
  {
   "cell_type": "markdown",
   "id": "dfc61272",
   "metadata": {},
   "source": [
    "**Packages used for this chapter:** `r format_pkgs(pkgs)`\n",
    "\n",
    "## Used Software\n",
    "\n",
    "This companion book assumes that you have\n",
    "[R](https://cran.r-project.org/) and [RStudio\n",
    "Desktop](https://www.rstudio.com/products/rstudio/) installed and that\n",
    "you are familiar with the basics of R, how to run R code and install\n",
    "packages.\n",
    "\n",
    "If you are new to R, then working through the official R manual [An\n",
    "Introduction to\n",
    "R](https://cran.r-project.org/doc/manuals/r-release/R-intro.html)\n",
    "[@RCore2021] will get you started. There are many introduction videos\n",
    "for RStudio and a basic video that shows you how to run code and how to\n",
    "install packages will suffice.\n",
    "\n",
    "The code in this book uses `tidyverse` to manipulate data and `ggplot2`\n",
    "for visualization. A great introduction to these very useful tools can\n",
    "be found in the freely available web book [R for Data\n",
    "Science](https://r4ds.had.co.nz) by @Wickham2017.\n",
    "\n",
    "## Tidyverse"
   ]
  },
  {
   "cell_type": "code",
   "execution_count": null,
   "id": "b0c4c00b-033e-4789-bce0-4ae7468b6a5b",
   "metadata": {},
   "outputs": [],
   "source": [
    "utils::"
   ]
  },
  {
   "cell_type": "code",
   "execution_count": 22,
   "id": "d1961526",
   "metadata": {},
   "outputs": [
    {
     "name": "stderr",
     "output_type": "stream",
     "text": [
      "Registered S3 methods overwritten by 'ggplot2':\n",
      "  method         from \n",
      "  [.quosures     rlang\n",
      "  c.quosures     rlang\n",
      "  print.quosures rlang\n",
      "Registered S3 method overwritten by 'rvest':\n",
      "  method            from\n",
      "  read_xml.response xml2\n",
      "── Attaching packages ─────────────────────────────────────── tidyverse 1.2.1 ──\n",
      "✔ ggplot2 3.1.1       ✔ purrr   0.3.2  \n",
      "✔ tibble  2.1.1       ✔ dplyr   0.8.0.1\n",
      "✔ tidyr   0.8.3       ✔ stringr 1.4.0  \n",
      "✔ readr   1.3.1       ✔ forcats 0.4.0  \n",
      "── Conflicts ────────────────────────────────────────── tidyverse_conflicts() ──\n",
      "✖ dplyr::filter() masks stats::filter()\n",
      "✖ dplyr::lag()    masks stats::lag()\n"
     ]
    }
   ],
   "source": [
    "library(tidyverse)"
   ]
  },
  {
   "cell_type": "code",
   "execution_count": null,
   "id": "951ea29c-6ff1-496a-ae00-ca5fff421b0c",
   "metadata": {},
   "outputs": [],
   "source": [
    "base::cut"
   ]
  },
  {
   "cell_type": "code",
   "execution_count": 29,
   "id": "8352c383-86e8-4cce-af99-51409a9c3306",
   "metadata": {
    "collapsed": true,
    "jupyter": {
     "outputs_hidden": true
    },
    "tags": []
   },
   "outputs": [
    {
     "data": {
      "text/html": [
       "\n",
       "<table width=\"100%\" summary=\"page for cut {base}\"><tr><td>cut {base}</td><td style=\"text-align: right;\">R Documentation</td></tr></table>\n",
       "\n",
       "<h2>Convert Numeric to Factor</h2>\n",
       "\n",
       "<h3>Description</h3>\n",
       "\n",
       "<p><code>cut</code> divides the range of <code>x</code> into intervals\n",
       "and codes the values in <code>x</code> according to which\n",
       "interval they fall.  The leftmost interval corresponds to level one,\n",
       "the next leftmost to level two and so on.\n",
       "</p>\n",
       "\n",
       "\n",
       "<h3>Usage</h3>\n",
       "\n",
       "<pre>\n",
       "cut(x, ...)\n",
       "\n",
       "## Default S3 method:\n",
       "cut(x, breaks, labels = NULL,\n",
       "    include.lowest = FALSE, right = TRUE, dig.lab = 3,\n",
       "    ordered_result = FALSE, ...)\n",
       "</pre>\n",
       "\n",
       "\n",
       "<h3>Arguments</h3>\n",
       "\n",
       "<table summary=\"R argblock\">\n",
       "<tr valign=\"top\"><td><code>x</code></td>\n",
       "<td>\n",
       "<p>a numeric vector which is to be converted to a factor by cutting.</p>\n",
       "</td></tr>\n",
       "<tr valign=\"top\"><td><code>breaks</code></td>\n",
       "<td>\n",
       "<p>either a numeric vector of two or more unique cut points or a\n",
       "single number (greater than or equal to 2) giving the number of\n",
       "intervals into which <code>x</code> is to be cut.</p>\n",
       "</td></tr>\n",
       "<tr valign=\"top\"><td><code>labels</code></td>\n",
       "<td>\n",
       "<p>labels for the levels of the resulting category.  By default,\n",
       "labels are constructed using <code>\"(a,b]\"</code> interval notation.  If\n",
       "<code>labels = FALSE</code>, simple integer codes are returned instead of\n",
       "a factor.</p>\n",
       "</td></tr>\n",
       "<tr valign=\"top\"><td><code>include.lowest</code></td>\n",
       "<td>\n",
       "<p>logical, indicating if an &lsquo;x[i]&rsquo; equal to\n",
       "the lowest (or highest, for <code>right = FALSE</code>) &lsquo;breaks&rsquo;\n",
       "value should be included.</p>\n",
       "</td></tr>\n",
       "<tr valign=\"top\"><td><code>right</code></td>\n",
       "<td>\n",
       "<p>logical, indicating if the intervals should be closed on\n",
       "the right (and open on the left) or vice versa.</p>\n",
       "</td></tr>\n",
       "<tr valign=\"top\"><td><code>dig.lab</code></td>\n",
       "<td>\n",
       "<p>integer which is used when labels are not given.  It\n",
       "determines the number of digits used in formatting the break numbers.</p>\n",
       "</td></tr>\n",
       "<tr valign=\"top\"><td><code>ordered_result</code></td>\n",
       "<td>\n",
       "<p>logical: should the result be an ordered factor?</p>\n",
       "</td></tr>\n",
       "<tr valign=\"top\"><td><code>...</code></td>\n",
       "<td>\n",
       "<p>further arguments passed to or from other methods.</p>\n",
       "</td></tr>\n",
       "</table>\n",
       "\n",
       "\n",
       "<h3>Details</h3>\n",
       "\n",
       "<p>When <code>breaks</code> is specified as a single number, the range of the\n",
       "data is divided into <code>breaks</code> pieces of equal length, and then\n",
       "the outer limits are moved away by 0.1% of the range to ensure that\n",
       "the extreme values both fall within the break intervals.  (If <code>x</code>\n",
       "is a constant vector, equal-length intervals are created, one of\n",
       "which includes the single value.)\n",
       "</p>\n",
       "<p>If a <code>labels</code> parameter is specified, its values are used to name\n",
       "the factor levels.  If none is specified, the factor level labels are\n",
       "constructed as <code>\"(b1, b2]\"</code>, <code>\"(b2, b3]\"</code> etc. for\n",
       "<code>right = TRUE</code> and as <code>\"[b1, b2)\"</code>, ... if <code>right =\n",
       "    FALSE</code>.\n",
       "In this case, <code>dig.lab</code> indicates the minimum number of digits\n",
       "should be used in formatting the numbers <code>b1</code>, <code>b2</code>, ....\n",
       "A larger value (up to 12) will be used if needed to distinguish\n",
       "between any pair of endpoints: if this fails labels such as\n",
       "<code>\"Range3\"</code> will be used.  Formatting is done by\n",
       "<code>formatC</code>.\n",
       "</p>\n",
       "<p>The default method will sort a numeric vector of <code>breaks</code>, but\n",
       "other methods are not required to and <code>labels</code> will correspond to\n",
       "the intervals after sorting.\n",
       "</p>\n",
       "<p>As from <span style=\"font-family: Courier New, Courier; color: #666666;\"><b>R</b></span> 3.2.0, <code>getOption(\"OutDec\")</code> is consulted when labels\n",
       "are constructed for <code>labels = NULL</code>.\n",
       "</p>\n",
       "\n",
       "\n",
       "<h3>Value</h3>\n",
       "\n",
       "<p>A <code>factor</code> is returned, unless <code>labels = FALSE</code> which\n",
       "results in an integer vector of level codes.\n",
       "</p>\n",
       "<p>Values which fall outside the range of <code>breaks</code> are coded as\n",
       "<code>NA</code>, as are <code>NaN</code> and <code>NA</code> values.\n",
       "</p>\n",
       "\n",
       "\n",
       "<h3>Note</h3>\n",
       "\n",
       "<p>Instead of <code>table(cut(x, br))</code>, <code>hist(x, br, plot = FALSE)</code> is\n",
       "more efficient and less memory hungry.  Instead of <code>cut(*,\n",
       "    labels = FALSE)</code>, <code>findInterval()</code> is more efficient.\n",
       "</p>\n",
       "\n",
       "\n",
       "<h3>References</h3>\n",
       "\n",
       "<p>Becker, R. A., Chambers, J. M. and Wilks, A. R. (1988)\n",
       "<em>The New S Language</em>.\n",
       "Wadsworth &amp; Brooks/Cole.\n",
       "</p>\n",
       "\n",
       "\n",
       "<h3>See Also</h3>\n",
       "\n",
       "<p><code>split</code> for splitting a variable according to a group factor;\n",
       "<code>factor</code>, <code>tabulate</code>, <code>table</code>,\n",
       "<code>findInterval</code>.\n",
       "</p>\n",
       "<p><code>quantile</code> for ways of choosing breaks of roughly equal\n",
       "content (rather than length).\n",
       "</p>\n",
       "<p><code>.bincode</code> for a bare-bones version.\n",
       "</p>\n",
       "\n",
       "\n",
       "<h3>Examples</h3>\n",
       "\n",
       "<pre>\n",
       "Z &lt;- stats::rnorm(10000)\n",
       "table(cut(Z, breaks = -6:6))\n",
       "sum(table(cut(Z, breaks = -6:6, labels = FALSE)))\n",
       "sum(graphics::hist(Z, breaks = -6:6, plot = FALSE)$counts)\n",
       "\n",
       "cut(rep(1,5), 4) #-- dummy\n",
       "tx0 &lt;- c(9, 4, 6, 5, 3, 10, 5, 3, 5)\n",
       "x &lt;- rep(0:8, tx0)\n",
       "stopifnot(table(x) == tx0)\n",
       "\n",
       "table( cut(x, b = 8))\n",
       "table( cut(x, breaks = 3*(-2:5)))\n",
       "table( cut(x, breaks = 3*(-2:5), right = FALSE))\n",
       "\n",
       "##--- some values OUTSIDE the breaks :\n",
       "table(cx  &lt;- cut(x, breaks = 2*(0:4)))\n",
       "table(cxl &lt;- cut(x, breaks = 2*(0:4), right = FALSE))\n",
       "which(is.na(cx));  x[is.na(cx)]  #-- the first 9  values  0\n",
       "which(is.na(cxl)); x[is.na(cxl)] #-- the last  5  values  8\n",
       "\n",
       "\n",
       "## Label construction:\n",
       "y &lt;- stats::rnorm(100)\n",
       "table(cut(y, breaks = pi/3*(-3:3)))\n",
       "table(cut(y, breaks = pi/3*(-3:3), dig.lab = 4))\n",
       "\n",
       "table(cut(y, breaks =  1*(-3:3), dig.lab = 4))\n",
       "# extra digits don't \"harm\" here\n",
       "table(cut(y, breaks =  1*(-3:3), right = FALSE))\n",
       "#- the same, since no exact INT!\n",
       "\n",
       "## sometimes the default dig.lab is not enough to be avoid confusion:\n",
       "aaa &lt;- c(1,2,3,4,5,2,3,4,5,6,7)\n",
       "cut(aaa, 3)\n",
       "cut(aaa, 3, dig.lab = 4, ordered = TRUE)\n",
       "\n",
       "## one way to extract the breakpoints\n",
       "labs &lt;- levels(cut(aaa, 3))\n",
       "cbind(lower = as.numeric( sub(\"\\\\((.+),.*\", \"\\\\1\", labs) ),\n",
       "      upper = as.numeric( sub(\"[^,]*,([^]]*)\\\\]\", \"\\\\1\", labs) ))\n",
       "</pre>\n",
       "\n",
       "<hr /><div style=\"text-align: center;\">[Package <em>base</em> version 3.6.1 ]</div>"
      ],
      "text/latex": [
       "\\inputencoding{utf8}\n",
       "\\HeaderA{cut}{Convert Numeric to Factor}{cut}\n",
       "\\methaliasA{cut.default}{cut}{cut.default}\n",
       "\\keyword{category}{cut}\n",
       "%\n",
       "\\begin{Description}\\relax\n",
       "\\code{cut} divides the range of \\code{x} into intervals\n",
       "and codes the values in \\code{x} according to which\n",
       "interval they fall.  The leftmost interval corresponds to level one,\n",
       "the next leftmost to level two and so on.\n",
       "\\end{Description}\n",
       "%\n",
       "\\begin{Usage}\n",
       "\\begin{verbatim}\n",
       "cut(x, ...)\n",
       "\n",
       "## Default S3 method:\n",
       "cut(x, breaks, labels = NULL,\n",
       "    include.lowest = FALSE, right = TRUE, dig.lab = 3,\n",
       "    ordered_result = FALSE, ...)\n",
       "\\end{verbatim}\n",
       "\\end{Usage}\n",
       "%\n",
       "\\begin{Arguments}\n",
       "\\begin{ldescription}\n",
       "\\item[\\code{x}] a numeric vector which is to be converted to a factor by cutting.\n",
       "\\item[\\code{breaks}] either a numeric vector of two or more unique cut points or a\n",
       "single number (greater than or equal to 2) giving the number of\n",
       "intervals into which \\code{x} is to be cut.\n",
       "\\item[\\code{labels}] labels for the levels of the resulting category.  By default,\n",
       "labels are constructed using \\code{\"(a,b]\"} interval notation.  If\n",
       "\\code{labels = FALSE}, simple integer codes are returned instead of\n",
       "a factor.\n",
       "\\item[\\code{include.lowest}] logical, indicating if an `x[i]' equal to\n",
       "the lowest (or highest, for \\code{right = FALSE}) `breaks'\n",
       "value should be included.\n",
       "\\item[\\code{right}] logical, indicating if the intervals should be closed on\n",
       "the right (and open on the left) or vice versa.\n",
       "\\item[\\code{dig.lab}] integer which is used when labels are not given.  It\n",
       "determines the number of digits used in formatting the break numbers.\n",
       "\\item[\\code{ordered\\_result}] logical: should the result be an ordered factor?\n",
       "\\item[\\code{...}] further arguments passed to or from other methods.\n",
       "\\end{ldescription}\n",
       "\\end{Arguments}\n",
       "%\n",
       "\\begin{Details}\\relax\n",
       "When \\code{breaks} is specified as a single number, the range of the\n",
       "data is divided into \\code{breaks} pieces of equal length, and then\n",
       "the outer limits are moved away by 0.1\\% of the range to ensure that\n",
       "the extreme values both fall within the break intervals.  (If \\code{x}\n",
       "is a constant vector, equal-length intervals are created, one of\n",
       "which includes the single value.)\n",
       "\n",
       "If a \\code{labels} parameter is specified, its values are used to name\n",
       "the factor levels.  If none is specified, the factor level labels are\n",
       "constructed as \\code{\"(b1, b2]\"}, \\code{\"(b2, b3]\"} etc. for\n",
       "\\code{right = TRUE} and as \\code{\"[b1, b2)\"}, \\ldots if \\code{right =\n",
       "    FALSE}.\n",
       "In this case, \\code{dig.lab} indicates the minimum number of digits\n",
       "should be used in formatting the numbers \\code{b1}, \\code{b2}, \\ldots.\n",
       "A larger value (up to 12) will be used if needed to distinguish\n",
       "between any pair of endpoints: if this fails labels such as\n",
       "\\code{\"Range3\"} will be used.  Formatting is done by\n",
       "\\code{\\LinkA{formatC}{formatC}}.\n",
       "\n",
       "The default method will sort a numeric vector of \\code{breaks}, but\n",
       "other methods are not required to and \\code{labels} will correspond to\n",
       "the intervals after sorting.\n",
       "\n",
       "As from \\R{} 3.2.0, \\code{getOption(\"OutDec\")} is consulted when labels\n",
       "are constructed for \\code{labels = NULL}.\n",
       "\\end{Details}\n",
       "%\n",
       "\\begin{Value}\n",
       "A \\code{\\LinkA{factor}{factor}} is returned, unless \\code{labels = FALSE} which\n",
       "results in an integer vector of level codes.\n",
       "\n",
       "Values which fall outside the range of \\code{breaks} are coded as\n",
       "\\code{NA}, as are \\code{NaN} and \\code{NA} values.\n",
       "\\end{Value}\n",
       "%\n",
       "\\begin{Note}\\relax\n",
       "Instead of \\code{table(cut(x, br))}, \\code{hist(x, br, plot = FALSE)} is\n",
       "more efficient and less memory hungry.  Instead of \\code{cut(*,\n",
       "    labels = FALSE)}, \\code{\\LinkA{findInterval}{findInterval}()} is more efficient.\n",
       "\\end{Note}\n",
       "%\n",
       "\\begin{References}\\relax\n",
       "Becker, R. A., Chambers, J. M. and Wilks, A. R. (1988)\n",
       "\\emph{The New S Language}.\n",
       "Wadsworth \\& Brooks/Cole.\n",
       "\\end{References}\n",
       "%\n",
       "\\begin{SeeAlso}\\relax\n",
       "\\code{\\LinkA{split}{split}} for splitting a variable according to a group factor;\n",
       "\\code{\\LinkA{factor}{factor}}, \\code{\\LinkA{tabulate}{tabulate}}, \\code{\\LinkA{table}{table}},\n",
       "\\code{\\LinkA{findInterval}{findInterval}}.\n",
       "\n",
       "\\code{\\LinkA{quantile}{quantile}} for ways of choosing breaks of roughly equal\n",
       "content (rather than length).\n",
       "\n",
       "\\code{\\LinkA{.bincode}{.bincode}} for a bare-bones version.\n",
       "\\end{SeeAlso}\n",
       "%\n",
       "\\begin{Examples}\n",
       "\\begin{ExampleCode}\n",
       "Z <- stats::rnorm(10000)\n",
       "table(cut(Z, breaks = -6:6))\n",
       "sum(table(cut(Z, breaks = -6:6, labels = FALSE)))\n",
       "sum(graphics::hist(Z, breaks = -6:6, plot = FALSE)$counts)\n",
       "\n",
       "cut(rep(1,5), 4) #-- dummy\n",
       "tx0 <- c(9, 4, 6, 5, 3, 10, 5, 3, 5)\n",
       "x <- rep(0:8, tx0)\n",
       "stopifnot(table(x) == tx0)\n",
       "\n",
       "table( cut(x, b = 8))\n",
       "table( cut(x, breaks = 3*(-2:5)))\n",
       "table( cut(x, breaks = 3*(-2:5), right = FALSE))\n",
       "\n",
       "##--- some values OUTSIDE the breaks :\n",
       "table(cx  <- cut(x, breaks = 2*(0:4)))\n",
       "table(cxl <- cut(x, breaks = 2*(0:4), right = FALSE))\n",
       "which(is.na(cx));  x[is.na(cx)]  #-- the first 9  values  0\n",
       "which(is.na(cxl)); x[is.na(cxl)] #-- the last  5  values  8\n",
       "\n",
       "\n",
       "## Label construction:\n",
       "y <- stats::rnorm(100)\n",
       "table(cut(y, breaks = pi/3*(-3:3)))\n",
       "table(cut(y, breaks = pi/3*(-3:3), dig.lab = 4))\n",
       "\n",
       "table(cut(y, breaks =  1*(-3:3), dig.lab = 4))\n",
       "# extra digits don't \"harm\" here\n",
       "table(cut(y, breaks =  1*(-3:3), right = FALSE))\n",
       "#- the same, since no exact INT!\n",
       "\n",
       "## sometimes the default dig.lab is not enough to be avoid confusion:\n",
       "aaa <- c(1,2,3,4,5,2,3,4,5,6,7)\n",
       "cut(aaa, 3)\n",
       "cut(aaa, 3, dig.lab = 4, ordered = TRUE)\n",
       "\n",
       "## one way to extract the breakpoints\n",
       "labs <- levels(cut(aaa, 3))\n",
       "cbind(lower = as.numeric( sub(\"\\\\((.+),.*\", \"\\\\1\", labs) ),\n",
       "      upper = as.numeric( sub(\"[^,]*,([^]]*)\\\\]\", \"\\\\1\", labs) ))\n",
       "\\end{ExampleCode}\n",
       "\\end{Examples}"
      ],
      "text/plain": [
       "cut                    package:base                    R Documentation\n",
       "\n",
       "_\bC_\bo_\bn_\bv_\be_\br_\bt _\bN_\bu_\bm_\be_\br_\bi_\bc _\bt_\bo _\bF_\ba_\bc_\bt_\bo_\br\n",
       "\n",
       "_\bD_\be_\bs_\bc_\br_\bi_\bp_\bt_\bi_\bo_\bn:\n",
       "\n",
       "     ‘cut’ divides the range of ‘x’ into intervals and codes the values\n",
       "     in ‘x’ according to which interval they fall.  The leftmost\n",
       "     interval corresponds to level one, the next leftmost to level two\n",
       "     and so on.\n",
       "\n",
       "_\bU_\bs_\ba_\bg_\be:\n",
       "\n",
       "     cut(x, ...)\n",
       "     \n",
       "     ## Default S3 method:\n",
       "     cut(x, breaks, labels = NULL,\n",
       "         include.lowest = FALSE, right = TRUE, dig.lab = 3,\n",
       "         ordered_result = FALSE, ...)\n",
       "     \n",
       "_\bA_\br_\bg_\bu_\bm_\be_\bn_\bt_\bs:\n",
       "\n",
       "       x: a numeric vector which is to be converted to a factor by\n",
       "          cutting.\n",
       "\n",
       "  breaks: either a numeric vector of two or more unique cut points or a\n",
       "          single number (greater than or equal to 2) giving the number\n",
       "          of intervals into which ‘x’ is to be cut.\n",
       "\n",
       "  labels: labels for the levels of the resulting category.  By default,\n",
       "          labels are constructed using ‘\"(a,b]\"’ interval notation.  If\n",
       "          ‘labels = FALSE’, simple integer codes are returned instead\n",
       "          of a factor.\n",
       "\n",
       "include.lowest: logical, indicating if an ‘x[i]’ equal to the lowest\n",
       "          (or highest, for ‘right = FALSE’) ‘breaks’ value should be\n",
       "          included.\n",
       "\n",
       "   right: logical, indicating if the intervals should be closed on the\n",
       "          right (and open on the left) or vice versa.\n",
       "\n",
       " dig.lab: integer which is used when labels are not given.  It\n",
       "          determines the number of digits used in formatting the break\n",
       "          numbers.\n",
       "\n",
       "ordered_result: logical: should the result be an ordered factor?\n",
       "\n",
       "     ...: further arguments passed to or from other methods.\n",
       "\n",
       "_\bD_\be_\bt_\ba_\bi_\bl_\bs:\n",
       "\n",
       "     When ‘breaks’ is specified as a single number, the range of the\n",
       "     data is divided into ‘breaks’ pieces of equal length, and then the\n",
       "     outer limits are moved away by 0.1% of the range to ensure that\n",
       "     the extreme values both fall within the break intervals.  (If ‘x’\n",
       "     is a constant vector, equal-length intervals are created, one of\n",
       "     which includes the single value.)\n",
       "\n",
       "     If a ‘labels’ parameter is specified, its values are used to name\n",
       "     the factor levels.  If none is specified, the factor level labels\n",
       "     are constructed as ‘\"(b1, b2]\"’, ‘\"(b2, b3]\"’ etc. for ‘right =\n",
       "     TRUE’ and as ‘\"[b1, b2)\"’, ... if ‘right = FALSE’.  In this case,\n",
       "     ‘dig.lab’ indicates the minimum number of digits should be used in\n",
       "     formatting the numbers ‘b1’, ‘b2’, ....  A larger value (up to 12)\n",
       "     will be used if needed to distinguish between any pair of\n",
       "     endpoints: if this fails labels such as ‘\"Range3\"’ will be used.\n",
       "     Formatting is done by ‘formatC’.\n",
       "\n",
       "     The default method will sort a numeric vector of ‘breaks’, but\n",
       "     other methods are not required to and ‘labels’ will correspond to\n",
       "     the intervals after sorting.\n",
       "\n",
       "     As from R 3.2.0, ‘getOption(\"OutDec\")’ is consulted when labels\n",
       "     are constructed for ‘labels = NULL’.\n",
       "\n",
       "_\bV_\ba_\bl_\bu_\be:\n",
       "\n",
       "     A ‘factor’ is returned, unless ‘labels = FALSE’ which results in\n",
       "     an integer vector of level codes.\n",
       "\n",
       "     Values which fall outside the range of ‘breaks’ are coded as ‘NA’,\n",
       "     as are ‘NaN’ and ‘NA’ values.\n",
       "\n",
       "_\bN_\bo_\bt_\be:\n",
       "\n",
       "     Instead of ‘table(cut(x, br))’, ‘hist(x, br, plot = FALSE)’ is\n",
       "     more efficient and less memory hungry.  Instead of ‘cut(*, labels\n",
       "     = FALSE)’, ‘findInterval()’ is more efficient.\n",
       "\n",
       "_\bR_\be_\bf_\be_\br_\be_\bn_\bc_\be_\bs:\n",
       "\n",
       "     Becker, R. A., Chambers, J. M. and Wilks, A. R. (1988) _The New S\n",
       "     Language_.  Wadsworth & Brooks/Cole.\n",
       "\n",
       "_\bS_\be_\be _\bA_\bl_\bs_\bo:\n",
       "\n",
       "     ‘split’ for splitting a variable according to a group factor;\n",
       "     ‘factor’, ‘tabulate’, ‘table’, ‘findInterval’.\n",
       "\n",
       "     ‘quantile’ for ways of choosing breaks of roughly equal content\n",
       "     (rather than length).\n",
       "\n",
       "     ‘.bincode’ for a bare-bones version.\n",
       "\n",
       "_\bE_\bx_\ba_\bm_\bp_\bl_\be_\bs:\n",
       "\n",
       "     Z <- stats::rnorm(10000)\n",
       "     table(cut(Z, breaks = -6:6))\n",
       "     sum(table(cut(Z, breaks = -6:6, labels = FALSE)))\n",
       "     sum(graphics::hist(Z, breaks = -6:6, plot = FALSE)$counts)\n",
       "     \n",
       "     cut(rep(1,5), 4) #-- dummy\n",
       "     tx0 <- c(9, 4, 6, 5, 3, 10, 5, 3, 5)\n",
       "     x <- rep(0:8, tx0)\n",
       "     stopifnot(table(x) == tx0)\n",
       "     \n",
       "     table( cut(x, b = 8))\n",
       "     table( cut(x, breaks = 3*(-2:5)))\n",
       "     table( cut(x, breaks = 3*(-2:5), right = FALSE))\n",
       "     \n",
       "     ##--- some values OUTSIDE the breaks :\n",
       "     table(cx  <- cut(x, breaks = 2*(0:4)))\n",
       "     table(cxl <- cut(x, breaks = 2*(0:4), right = FALSE))\n",
       "     which(is.na(cx));  x[is.na(cx)]  #-- the first 9  values  0\n",
       "     which(is.na(cxl)); x[is.na(cxl)] #-- the last  5  values  8\n",
       "     \n",
       "     \n",
       "     ## Label construction:\n",
       "     y <- stats::rnorm(100)\n",
       "     table(cut(y, breaks = pi/3*(-3:3)))\n",
       "     table(cut(y, breaks = pi/3*(-3:3), dig.lab = 4))\n",
       "     \n",
       "     table(cut(y, breaks =  1*(-3:3), dig.lab = 4))\n",
       "     # extra digits don't \"harm\" here\n",
       "     table(cut(y, breaks =  1*(-3:3), right = FALSE))\n",
       "     #- the same, since no exact INT!\n",
       "     \n",
       "     ## sometimes the default dig.lab is not enough to be avoid confusion:\n",
       "     aaa <- c(1,2,3,4,5,2,3,4,5,6,7)\n",
       "     cut(aaa, 3)\n",
       "     cut(aaa, 3, dig.lab = 4, ordered = TRUE)\n",
       "     \n",
       "     ## one way to extract the breakpoints\n",
       "     labs <- levels(cut(aaa, 3))\n",
       "     cbind(lower = as.numeric( sub(\"\\\\((.+),.*\", \"\\\\1\", labs) ),\n",
       "           upper = as.numeric( sub(\"[^,]*,([^]]*)\\\\]\", \"\\\\1\", labs) ))\n",
       "     "
      ]
     },
     "metadata": {},
     "output_type": "display_data"
    }
   ],
   "source": [
    "?cut"
   ]
  },
  {
   "cell_type": "code",
   "execution_count": 27,
   "id": "da61fdfb-d87d-4ae3-8545-26359eac60b3",
   "metadata": {},
   "outputs": [
    {
     "data": {
      "text/html": [
       "<pre class=language-r><code>function (.data, ..., .preserve = FALSE) \n",
       "{\n",
       "<span style=white-space:pre-wrap>    UseMethod(\"filter\")</span>\n",
       "}</code></pre>"
      ],
      "text/latex": [
       "\\begin{minted}{r}\n",
       "function (.data, ..., .preserve = FALSE) \n",
       "\\{\n",
       "    UseMethod(\"filter\")\n",
       "\\}\n",
       "\\end{minted}"
      ],
      "text/markdown": [
       "```r\n",
       "function (.data, ..., .preserve = FALSE) \n",
       "{\n",
       "    UseMethod(\"filter\")\n",
       "}\n",
       "```"
      ],
      "text/plain": [
       "function (.data, ..., .preserve = FALSE) \n",
       "{\n",
       "    UseMethod(\"filter\")\n",
       "}\n",
       "<bytecode: 0x7fc544552748>\n",
       "<environment: namespace:dplyr>"
      ]
     },
     "metadata": {},
     "output_type": "display_data"
    }
   ],
   "source": [
    "filter"
   ]
  },
  {
   "cell_type": "code",
   "execution_count": 25,
   "id": "af9e83f9-0445-4b24-93f7-4b36e43181ab",
   "metadata": {},
   "outputs": [
    {
     "data": {
      "text/html": [
       "<pre class=language-r><code>function (.data, ..., .preserve = FALSE) \n",
       "{\n",
       "<span style=white-space:pre-wrap>    UseMethod(\"filter\")</span>\n",
       "}</code></pre>"
      ],
      "text/latex": [
       "\\begin{minted}{r}\n",
       "function (.data, ..., .preserve = FALSE) \n",
       "\\{\n",
       "    UseMethod(\"filter\")\n",
       "\\}\n",
       "\\end{minted}"
      ],
      "text/markdown": [
       "```r\n",
       "function (.data, ..., .preserve = FALSE) \n",
       "{\n",
       "    UseMethod(\"filter\")\n",
       "}\n",
       "```"
      ],
      "text/plain": [
       "function (.data, ..., .preserve = FALSE) \n",
       "{\n",
       "    UseMethod(\"filter\")\n",
       "}\n",
       "<bytecode: 0x7fc544552748>\n",
       "<environment: namespace:dplyr>"
      ]
     },
     "metadata": {},
     "output_type": "display_data"
    }
   ],
   "source": [
    "dplyr::filter"
   ]
  },
  {
   "cell_type": "code",
   "execution_count": 26,
   "id": "8665ce60-61e7-4586-bdec-d367416449fd",
   "metadata": {
    "collapsed": true,
    "jupyter": {
     "outputs_hidden": true
    },
    "tags": []
   },
   "outputs": [
    {
     "data": {
      "text/html": [
       "<pre class=language-r><code>function (x, filter, method = c(\"convolution\", \"recursive\"), \n",
       "<span style=white-space:pre-wrap>    sides = 2L, circular = FALSE, init = NULL) </span>\n",
       "{\n",
       "<span style=white-space:pre-wrap>    method &lt;- match.arg(method)</span>\n",
       "<span style=white-space:pre-wrap>    x &lt;- as.ts(x)</span>\n",
       "<span style=white-space:pre-wrap>    storage.mode(x) &lt;- \"double\"</span>\n",
       "<span style=white-space:pre-wrap>    xtsp &lt;- tsp(x)</span>\n",
       "<span style=white-space:pre-wrap>    n &lt;- as.integer(NROW(x))</span>\n",
       "<span style=white-space:pre-wrap>    if (is.na(n)) </span>\n",
       "<span style=white-space:pre-wrap>        stop(gettextf(\"invalid value of %s\", \"NROW(x)\"), domain = NA)</span>\n",
       "<span style=white-space:pre-wrap>    nser &lt;- NCOL(x)</span>\n",
       "<span style=white-space:pre-wrap>    filter &lt;- as.double(filter)</span>\n",
       "<span style=white-space:pre-wrap>    nfilt &lt;- as.integer(length(filter))</span>\n",
       "<span style=white-space:pre-wrap>    if (is.na(nfilt)) </span>\n",
       "<span style=white-space:pre-wrap>        stop(gettextf(\"invalid value of %s\", \"length(filter)\"), </span>\n",
       "<span style=white-space:pre-wrap>            domain = NA)</span>\n",
       "<span style=white-space:pre-wrap>    if (anyNA(filter)) </span>\n",
       "<span style=white-space:pre-wrap>        stop(\"missing values in 'filter'\")</span>\n",
       "<span style=white-space:pre-wrap>    if (method == \"convolution\") {</span>\n",
       "<span style=white-space:pre-wrap>        if (nfilt &gt; n) </span>\n",
       "<span style=white-space:pre-wrap>            stop(\"'filter' is longer than time series\")</span>\n",
       "<span style=white-space:pre-wrap>        sides &lt;- as.integer(sides)</span>\n",
       "<span style=white-space:pre-wrap>        if (is.na(sides) || (sides != 1L &amp;&amp; sides != 2L)) </span>\n",
       "<span style=white-space:pre-wrap>            stop(\"argument 'sides' must be 1 or 2\")</span>\n",
       "<span style=white-space:pre-wrap>        circular &lt;- as.logical(circular)</span>\n",
       "<span style=white-space:pre-wrap>        if (is.na(circular)) </span>\n",
       "<span style=white-space:pre-wrap>            stop(\"'circular' must be logical and not NA\")</span>\n",
       "<span style=white-space:pre-wrap>        if (is.matrix(x)) {</span>\n",
       "<span style=white-space:pre-wrap>            y &lt;- matrix(NA, n, nser)</span>\n",
       "<span style=white-space:pre-wrap>            for (i in seq_len(nser)) y[, i] &lt;- .Call(C_cfilter, </span>\n",
       "<span style=white-space:pre-wrap>                x[, i], filter, sides, circular)</span>\n",
       "<span style=white-space:pre-wrap>        }</span>\n",
       "<span style=white-space:pre-wrap>        else y &lt;- .Call(C_cfilter, x, filter, sides, circular)</span>\n",
       "<span style=white-space:pre-wrap>    }</span>\n",
       "<span style=white-space:pre-wrap>    else {</span>\n",
       "<span style=white-space:pre-wrap>        if (missing(init)) {</span>\n",
       "<span style=white-space:pre-wrap>            init &lt;- matrix(0, nfilt, nser)</span>\n",
       "<span style=white-space:pre-wrap>        }</span>\n",
       "<span style=white-space:pre-wrap>        else {</span>\n",
       "<span style=white-space:pre-wrap>            ni &lt;- NROW(init)</span>\n",
       "<span style=white-space:pre-wrap>            if (ni != nfilt) </span>\n",
       "<span style=white-space:pre-wrap>                stop(\"length of 'init' must equal length of 'filter'\")</span>\n",
       "<span style=white-space:pre-wrap>            if (NCOL(init) != 1L &amp;&amp; NCOL(init) != nser) {</span>\n",
       "<span style=white-space:pre-wrap>                stop(sprintf(ngettext(nser, \"'init' must have %d column\", </span>\n",
       "<span style=white-space:pre-wrap>                  \"'init' must have 1 or %d columns\", domain = \"R-stats\"), </span>\n",
       "<span style=white-space:pre-wrap>                  nser), domain = NA)</span>\n",
       "<span style=white-space:pre-wrap>            }</span>\n",
       "<span style=white-space:pre-wrap>            if (!is.matrix(init)) </span>\n",
       "<span style=white-space:pre-wrap>                dim(init) &lt;- c(nfilt, nser)</span>\n",
       "<span style=white-space:pre-wrap>        }</span>\n",
       "<span style=white-space:pre-wrap>        ind &lt;- seq_len(nfilt)</span>\n",
       "<span style=white-space:pre-wrap>        if (is.matrix(x)) {</span>\n",
       "<span style=white-space:pre-wrap>            y &lt;- matrix(NA, n, nser)</span>\n",
       "<span style=white-space:pre-wrap>            for (i in seq_len(nser)) y[, i] &lt;- .Call(C_rfilter, </span>\n",
       "<span style=white-space:pre-wrap>                x[, i], filter, c(rev(init[, i]), double(n)))[-ind]</span>\n",
       "<span style=white-space:pre-wrap>        }</span>\n",
       "<span style=white-space:pre-wrap>        else y &lt;- .Call(C_rfilter, x, filter, c(rev(init[, 1L]), </span>\n",
       "<span style=white-space:pre-wrap>            double(n)))[-ind]</span>\n",
       "<span style=white-space:pre-wrap>    }</span>\n",
       "<span style=white-space:pre-wrap>    tsp(y) &lt;- xtsp</span>\n",
       "<span style=white-space:pre-wrap>    class(y) &lt;- if (nser &gt; 1L) </span>\n",
       "<span style=white-space:pre-wrap>        c(\"mts\", \"ts\")</span>\n",
       "<span style=white-space:pre-wrap>    else \"ts\"</span>\n",
       "<span style=white-space:pre-wrap>    y</span>\n",
       "}</code></pre>"
      ],
      "text/latex": [
       "\\begin{minted}{r}\n",
       "function (x, filter, method = c(\"convolution\", \"recursive\"), \n",
       "    sides = 2L, circular = FALSE, init = NULL) \n",
       "\\{\n",
       "    method <- match.arg(method)\n",
       "    x <- as.ts(x)\n",
       "    storage.mode(x) <- \"double\"\n",
       "    xtsp <- tsp(x)\n",
       "    n <- as.integer(NROW(x))\n",
       "    if (is.na(n)) \n",
       "        stop(gettextf(\"invalid value of \\%s\", \"NROW(x)\"), domain = NA)\n",
       "    nser <- NCOL(x)\n",
       "    filter <- as.double(filter)\n",
       "    nfilt <- as.integer(length(filter))\n",
       "    if (is.na(nfilt)) \n",
       "        stop(gettextf(\"invalid value of \\%s\", \"length(filter)\"), \n",
       "            domain = NA)\n",
       "    if (anyNA(filter)) \n",
       "        stop(\"missing values in 'filter'\")\n",
       "    if (method == \"convolution\") \\{\n",
       "        if (nfilt > n) \n",
       "            stop(\"'filter' is longer than time series\")\n",
       "        sides <- as.integer(sides)\n",
       "        if (is.na(sides) \\textbar{}\\textbar{} (sides != 1L \\&\\& sides != 2L)) \n",
       "            stop(\"argument 'sides' must be 1 or 2\")\n",
       "        circular <- as.logical(circular)\n",
       "        if (is.na(circular)) \n",
       "            stop(\"'circular' must be logical and not NA\")\n",
       "        if (is.matrix(x)) \\{\n",
       "            y <- matrix(NA, n, nser)\n",
       "            for (i in seq\\_len(nser)) y{[}, i{]} <- .Call(C\\_cfilter, \n",
       "                x{[}, i{]}, filter, sides, circular)\n",
       "        \\}\n",
       "        else y <- .Call(C\\_cfilter, x, filter, sides, circular)\n",
       "    \\}\n",
       "    else \\{\n",
       "        if (missing(init)) \\{\n",
       "            init <- matrix(0, nfilt, nser)\n",
       "        \\}\n",
       "        else \\{\n",
       "            ni <- NROW(init)\n",
       "            if (ni != nfilt) \n",
       "                stop(\"length of 'init' must equal length of 'filter'\")\n",
       "            if (NCOL(init) != 1L \\&\\& NCOL(init) != nser) \\{\n",
       "                stop(sprintf(ngettext(nser, \"'init' must have \\%d column\", \n",
       "                  \"'init' must have 1 or \\%d columns\", domain = \"R-stats\"), \n",
       "                  nser), domain = NA)\n",
       "            \\}\n",
       "            if (!is.matrix(init)) \n",
       "                dim(init) <- c(nfilt, nser)\n",
       "        \\}\n",
       "        ind <- seq\\_len(nfilt)\n",
       "        if (is.matrix(x)) \\{\n",
       "            y <- matrix(NA, n, nser)\n",
       "            for (i in seq\\_len(nser)) y{[}, i{]} <- .Call(C\\_rfilter, \n",
       "                x{[}, i{]}, filter, c(rev(init{[}, i{]}), double(n))){[}-ind{]}\n",
       "        \\}\n",
       "        else y <- .Call(C\\_rfilter, x, filter, c(rev(init{[}, 1L{]}), \n",
       "            double(n))){[}-ind{]}\n",
       "    \\}\n",
       "    tsp(y) <- xtsp\n",
       "    class(y) <- if (nser > 1L) \n",
       "        c(\"mts\", \"ts\")\n",
       "    else \"ts\"\n",
       "    y\n",
       "\\}\n",
       "\\end{minted}"
      ],
      "text/markdown": [
       "```r\n",
       "function (x, filter, method = c(\"convolution\", \"recursive\"), \n",
       "    sides = 2L, circular = FALSE, init = NULL) \n",
       "{\n",
       "    method <- match.arg(method)\n",
       "    x <- as.ts(x)\n",
       "    storage.mode(x) <- \"double\"\n",
       "    xtsp <- tsp(x)\n",
       "    n <- as.integer(NROW(x))\n",
       "    if (is.na(n)) \n",
       "        stop(gettextf(\"invalid value of %s\", \"NROW(x)\"), domain = NA)\n",
       "    nser <- NCOL(x)\n",
       "    filter <- as.double(filter)\n",
       "    nfilt <- as.integer(length(filter))\n",
       "    if (is.na(nfilt)) \n",
       "        stop(gettextf(\"invalid value of %s\", \"length(filter)\"), \n",
       "            domain = NA)\n",
       "    if (anyNA(filter)) \n",
       "        stop(\"missing values in 'filter'\")\n",
       "    if (method == \"convolution\") {\n",
       "        if (nfilt > n) \n",
       "            stop(\"'filter' is longer than time series\")\n",
       "        sides <- as.integer(sides)\n",
       "        if (is.na(sides) || (sides != 1L && sides != 2L)) \n",
       "            stop(\"argument 'sides' must be 1 or 2\")\n",
       "        circular <- as.logical(circular)\n",
       "        if (is.na(circular)) \n",
       "            stop(\"'circular' must be logical and not NA\")\n",
       "        if (is.matrix(x)) {\n",
       "            y <- matrix(NA, n, nser)\n",
       "            for (i in seq_len(nser)) y[, i] <- .Call(C_cfilter, \n",
       "                x[, i], filter, sides, circular)\n",
       "        }\n",
       "        else y <- .Call(C_cfilter, x, filter, sides, circular)\n",
       "    }\n",
       "    else {\n",
       "        if (missing(init)) {\n",
       "            init <- matrix(0, nfilt, nser)\n",
       "        }\n",
       "        else {\n",
       "            ni <- NROW(init)\n",
       "            if (ni != nfilt) \n",
       "                stop(\"length of 'init' must equal length of 'filter'\")\n",
       "            if (NCOL(init) != 1L && NCOL(init) != nser) {\n",
       "                stop(sprintf(ngettext(nser, \"'init' must have %d column\", \n",
       "                  \"'init' must have 1 or %d columns\", domain = \"R-stats\"), \n",
       "                  nser), domain = NA)\n",
       "            }\n",
       "            if (!is.matrix(init)) \n",
       "                dim(init) <- c(nfilt, nser)\n",
       "        }\n",
       "        ind <- seq_len(nfilt)\n",
       "        if (is.matrix(x)) {\n",
       "            y <- matrix(NA, n, nser)\n",
       "            for (i in seq_len(nser)) y[, i] <- .Call(C_rfilter, \n",
       "                x[, i], filter, c(rev(init[, i]), double(n)))[-ind]\n",
       "        }\n",
       "        else y <- .Call(C_rfilter, x, filter, c(rev(init[, 1L]), \n",
       "            double(n)))[-ind]\n",
       "    }\n",
       "    tsp(y) <- xtsp\n",
       "    class(y) <- if (nser > 1L) \n",
       "        c(\"mts\", \"ts\")\n",
       "    else \"ts\"\n",
       "    y\n",
       "}\n",
       "```"
      ],
      "text/plain": [
       "function (x, filter, method = c(\"convolution\", \"recursive\"), \n",
       "    sides = 2L, circular = FALSE, init = NULL) \n",
       "{\n",
       "    method <- match.arg(method)\n",
       "    x <- as.ts(x)\n",
       "    storage.mode(x) <- \"double\"\n",
       "    xtsp <- tsp(x)\n",
       "    n <- as.integer(NROW(x))\n",
       "    if (is.na(n)) \n",
       "        stop(gettextf(\"invalid value of %s\", \"NROW(x)\"), domain = NA)\n",
       "    nser <- NCOL(x)\n",
       "    filter <- as.double(filter)\n",
       "    nfilt <- as.integer(length(filter))\n",
       "    if (is.na(nfilt)) \n",
       "        stop(gettextf(\"invalid value of %s\", \"length(filter)\"), \n",
       "            domain = NA)\n",
       "    if (anyNA(filter)) \n",
       "        stop(\"missing values in 'filter'\")\n",
       "    if (method == \"convolution\") {\n",
       "        if (nfilt > n) \n",
       "            stop(\"'filter' is longer than time series\")\n",
       "        sides <- as.integer(sides)\n",
       "        if (is.na(sides) || (sides != 1L && sides != 2L)) \n",
       "            stop(\"argument 'sides' must be 1 or 2\")\n",
       "        circular <- as.logical(circular)\n",
       "        if (is.na(circular)) \n",
       "            stop(\"'circular' must be logical and not NA\")\n",
       "        if (is.matrix(x)) {\n",
       "            y <- matrix(NA, n, nser)\n",
       "            for (i in seq_len(nser)) y[, i] <- .Call(C_cfilter, \n",
       "                x[, i], filter, sides, circular)\n",
       "        }\n",
       "        else y <- .Call(C_cfilter, x, filter, sides, circular)\n",
       "    }\n",
       "    else {\n",
       "        if (missing(init)) {\n",
       "            init <- matrix(0, nfilt, nser)\n",
       "        }\n",
       "        else {\n",
       "            ni <- NROW(init)\n",
       "            if (ni != nfilt) \n",
       "                stop(\"length of 'init' must equal length of 'filter'\")\n",
       "            if (NCOL(init) != 1L && NCOL(init) != nser) {\n",
       "                stop(sprintf(ngettext(nser, \"'init' must have %d column\", \n",
       "                  \"'init' must have 1 or %d columns\", domain = \"R-stats\"), \n",
       "                  nser), domain = NA)\n",
       "            }\n",
       "            if (!is.matrix(init)) \n",
       "                dim(init) <- c(nfilt, nser)\n",
       "        }\n",
       "        ind <- seq_len(nfilt)\n",
       "        if (is.matrix(x)) {\n",
       "            y <- matrix(NA, n, nser)\n",
       "            for (i in seq_len(nser)) y[, i] <- .Call(C_rfilter, \n",
       "                x[, i], filter, c(rev(init[, i]), double(n)))[-ind]\n",
       "        }\n",
       "        else y <- .Call(C_rfilter, x, filter, c(rev(init[, 1L]), \n",
       "            double(n)))[-ind]\n",
       "    }\n",
       "    tsp(y) <- xtsp\n",
       "    class(y) <- if (nser > 1L) \n",
       "        c(\"mts\", \"ts\")\n",
       "    else \"ts\"\n",
       "    y\n",
       "}\n",
       "<bytecode: 0x7fc546767ca0>\n",
       "<environment: namespace:stats>"
      ]
     },
     "metadata": {},
     "output_type": "display_data"
    }
   ],
   "source": [
    "stats::filter"
   ]
  },
  {
   "cell_type": "code",
   "execution_count": 47,
   "id": "7882bd13-3b1c-4982-bf09-9df32754f15d",
   "metadata": {},
   "outputs": [
    {
     "name": "stdout",
     "output_type": "stream",
     "text": [
      "False\n",
      "True\n",
      "True\n"
     ]
    }
   ],
   "source": [
    "y1 = True\n",
    "y2 = False\n",
    "\n",
    "print(y1 and y2)       # logical AND\n",
    "print(y1 or y2)        # logical OR\n",
    "print(y1 and not y2)   # logical NOT"
   ]
  },
  {
   "cell_type": "markdown",
   "id": "40d8ddad",
   "metadata": {},
   "source": [
    "`tidyverse` [@R-tidyverse] is a collection of many very useful packages\n",
    "that work well together by sharing design principles and data\n",
    "structures. `tidyverse` also includes `ggplot2` [@R-ggplot2] for\n",
    "visualization.\n",
    "\n",
    "In this book, we will use\n",
    "\n",
    "-   tidyverse tibbles to replace R's built-in data.frames,\n",
    "-   the pipe operator `%>%` to chain functions together, and\n",
    "-   data transformation functions like `filter()`, `arrange()`,\n",
    "    `select()`, `group_by()`, and `mutate()` provided by the tidyverse\n",
    "    package `dplyr`.\n",
    "\n",
    "A good introduction can be found in the [Section on Data\n",
    "Wrangling](https://r4ds.had.co.nz/wrangle-intro.html) [@Wickham2017],\n",
    "and a very useful reference resource is the [RStudio Data Transformation\n",
    "Cheat\n",
    "Sheet](https://github.com/rstudio/cheatsheets/raw/master/data-transformation.pdf).\n",
    "\n",
    "Here is a short example. We create a tibble with the price in dollars\n",
    "per pound and the vitamin C content in milligrams (mg) per pound for\n",
    "three fruit."
   ]
  },
  {
   "cell_type": "code",
   "execution_count": 61,
   "id": "d40e4fd8-b9b3-4086-a1f7-8d80dd75abb1",
   "metadata": {},
   "outputs": [
    {
     "name": "stdout",
     "output_type": "stream",
     "text": [
      "[1] FALSE\n"
     ]
    }
   ],
   "source": [
    "y1 = TRUE\n",
    "y2 = FALSE\n",
    "\n",
    "print(y1 & y2) "
   ]
  },
  {
   "cell_type": "code",
   "execution_count": 62,
   "id": "ee3b7725-598c-4ccb-af64-d10bbdf3ee65",
   "metadata": {},
   "outputs": [
    {
     "name": "stdout",
     "output_type": "stream",
     "text": [
      "[1] TRUE\n",
      "[1] TRUE\n"
     ]
    }
   ],
   "source": [
    "      # logical AND\n",
    "print(y1 | y2)        # logical OR\n",
    "print(y1 & ! y2)   # logical NOT"
   ]
  },
  {
   "cell_type": "code",
   "execution_count": 37,
   "id": "cd875e3b",
   "metadata": {},
   "outputs": [
    {
     "data": {
      "text/html": [
       "<table>\n",
       "<thead><tr><th scope=col>name</th><th scope=col>price</th><th scope=col>vitamin_c</th></tr></thead>\n",
       "<tbody>\n",
       "\t<tr><td>apple </td><td>2.5   </td><td> 20   </td></tr>\n",
       "\t<tr><td>banana</td><td>2.0   </td><td> 45   </td></tr>\n",
       "\t<tr><td>orange</td><td>3.5   </td><td>250   </td></tr>\n",
       "</tbody>\n",
       "</table>\n"
      ],
      "text/latex": [
       "\\begin{tabular}{r|lll}\n",
       " name & price & vitamin\\_c\\\\\n",
       "\\hline\n",
       "\t apple  & 2.5    &  20   \\\\\n",
       "\t banana & 2.0    &  45   \\\\\n",
       "\t orange & 3.5    & 250   \\\\\n",
       "\\end{tabular}\n"
      ],
      "text/markdown": [
       "\n",
       "| name | price | vitamin_c |\n",
       "|---|---|---|\n",
       "| apple  | 2.5    |  20    |\n",
       "| banana | 2.0    |  45    |\n",
       "| orange | 3.5    | 250    |\n",
       "\n"
      ],
      "text/plain": [
       "  name   price vitamin_c\n",
       "1 apple  2.5    20      \n",
       "2 banana 2.0    45      \n",
       "3 orange 3.5   250      "
      ]
     },
     "metadata": {},
     "output_type": "display_data"
    }
   ],
   "source": [
    "tibble(\n",
    "  name = c(\"apple\", \"banana\", \"orange\"), \n",
    "  price = c(2.5, 2.0, 3.5), \n",
    "  vitamin_c = c(20, 45, 250)\n",
    ") -> fruit\n",
    "fruit"
   ]
  },
  {
   "cell_type": "markdown",
   "id": "02ff5807",
   "metadata": {},
   "source": [
    "Now we add a column with the vitamin C (in mg) that a dollar buys you,\n",
    "filter only fruit that provides more than 20 mg and then order (arrange)\n",
    "the data by the vitamin C per dollar from largest to smallest."
   ]
  },
  {
   "cell_type": "code",
   "execution_count": 39,
   "id": "5fa6924d-4e2c-41a7-a225-a04111dc1dad",
   "metadata": {},
   "outputs": [
    {
     "ename": "ERROR",
     "evalue": "Error in eval(expr, envir, enclos): объект 'vitamin_c' не найден\n",
     "output_type": "error",
     "traceback": [
      "Error in eval(expr, envir, enclos): объект 'vitamin_c' не найден\nTraceback:\n"
     ]
    }
   ],
   "source": [
    "vitamin_c"
   ]
  },
  {
   "cell_type": "code",
   "execution_count": 74,
   "id": "23ce73fe-d917-4ecf-8402-6d48f8085b13",
   "metadata": {},
   "outputs": [
    {
     "name": "stderr",
     "output_type": "stream",
     "text": [
      "\n",
      "Attaching package: ‘dbplyr’\n",
      "\n",
      "The following objects are masked from ‘package:dplyr’:\n",
      "\n",
      "    ident, sql\n",
      "\n"
     ]
    }
   ],
   "source": [
    "library(dbplyr)"
   ]
  },
  {
   "cell_type": "code",
   "execution_count": null,
   "id": "3ff66f02-1a68-45f4-9ffa-a97c6869e5dd",
   "metadata": {},
   "outputs": [],
   "source": []
  },
  {
   "cell_type": "code",
   "execution_count": 48,
   "id": "12690c12",
   "metadata": {},
   "outputs": [
    {
     "ename": "ERROR",
     "evalue": "Error in parse(text = x, srcfile = src): <text>:1:40: неожиданный '>'\n1: affordable_vitamin_c_sources <- fruit |>\n                                           ^\n",
     "output_type": "error",
     "traceback": [
      "Error in parse(text = x, srcfile = src): <text>:1:40: неожиданный '>'\n1: affordable_vitamin_c_sources <- fruit |>\n                                           ^\nTraceback:\n"
     ]
    }
   ],
   "source": [
    "affordable_vitamin_c_sources <- fruit %>% \n",
    "  mutate(vitamin_c_per_dollar = vitamin_c / price) %>% \n",
    "  filter(vitamin_c_per_dollar > 20) %>% \n",
    "  arrange(desc(vitamin_c_per_dollar))\n",
    "affordable_vitamin_c_sources "
   ]
  },
  {
   "cell_type": "markdown",
   "id": "3e75ad4f",
   "metadata": {},
   "source": [
    "The pipes operator `%>%` lets you compose a sequence of function calls\n",
    "in a more readable way by passing the value to the left on as the first\n",
    "argument to the function to the right.\n",
    "\n",
    "## ggplot2\n",
    "\n",
    "For visualization, we will use mainly `ggplot2`. The *gg* in `ggplot2`\n",
    "stands for **The Grammar of Graphics** introduced in @Wilkinson2005. The\n",
    "main idea is that every graph is built from the same basic components:\n",
    "\n",
    "-   the data,\n",
    "-   a coordinate system, and\n",
    "-   visual marks representing the data (geoms).\n",
    "\n",
    "In `ggplot2`, the components are combined using the `+` operator.\n",
    "\n",
    "> `ggplot(data, mapping = aes(x = ..., y = ..., color = ...)) +`\n",
    "> `geom_point()`\n",
    "\n",
    "Since we typically use a Cartesian coordinate system, `ggplot` uses that\n",
    "by default. Each `geom_` function uses a `stat_` function to calculate\n",
    "what is visualizes. For example, `geom_bar` uses `stat_count` to create\n",
    "a bar chart by counting how often each value appears in the data (see\n",
    "`? geom_bar`). `geom_point` just uses the stat `\"identity\"` to display\n",
    "the points using the coordinates as they are. A great introduction can\n",
    "be found in the [Chapter on Data\n",
    "Visualization](https://r4ds.had.co.nz/data-visualisation.html)\n",
    "[@Wickham2017], and very useful is [RStudio's Data Visualization Cheat\n",
    "Sheet](https://github.com/rstudio/cheatsheets/raw/master/data-visualization-2.1.pdf).\n",
    "\n",
    "We can visualize our fruit data as a scatter plot."
   ]
  },
  {
   "cell_type": "code",
   "execution_count": 73,
   "id": "ef079f55",
   "metadata": {},
   "outputs": [
    {
     "data": {
      "image/png": "[encoded data removed]",
      "text/plain": [
       "plot without title"
      ]
     },
     "metadata": {},
     "output_type": "display_data"
    }
   ],
   "source": [
    "ggplot(fruit, aes(x = price, y = vitamin_c)) + \n",
    "  geom_point() + theme_bw()"
   ]
  },
  {
   "cell_type": "markdown",
   "id": "484073fe",
   "metadata": {},
   "source": [
    "Alternatively, we can visualize the vitamin C content of each fruit\n",
    "using bars."
   ]
  },
  {
   "cell_type": "code",
   "execution_count": 84,
   "id": "3e90026d",
   "metadata": {},
   "outputs": [
    {
     "data": {
      "image/png": "[encoded data removed]",
      "text/plain": [
       "plot without title"
      ]
     },
     "metadata": {},
     "output_type": "display_data"
    }
   ],
   "source": [
    "ggplot(fruit, aes(x = name, y = vitamin_c)) + \n",
    "  geom_col() + theme_bw()"
   ]
  },
  {
   "cell_type": "markdown",
   "id": "e7736efc",
   "metadata": {},
   "source": [
    "Note that `geom_bar` by default tries to aggregate data by counting, but\n",
    "we just want to visualize the value already available in the tibble, so\n",
    "we specify the identity statistic."
   ]
  }
 ],
 "metadata": {
  "jupytext": {
   "cell_metadata_filter": "tags,name,-all",
   "main_language": "R",
   "notebook_metadata_filter": "-all"
  },
  "kernelspec": {
   "display_name": "R",
   "language": "R",
   "name": "ir"
  },
  "language_info": {
   "codemirror_mode": "r",
   "file_extension": ".r",
   "mimetype": "text/x-r-source",
   "name": "R",
   "pygments_lexer": "r",
   "version": "3.6.1"
  }
 },
 "nbformat": 4,
 "nbformat_minor": 5
}
