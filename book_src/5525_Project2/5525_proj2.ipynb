{
 "cells": [
  {
   "cell_type": "markdown",
   "id": "020e6a83-65e5-451b-ad92-06dc061bc96b",
   "metadata": {
    "pycharm": {
     "name": "#%% md\n"
    }
   },
   "source": [
    "Project 2 - Clustering\n",
    "\n",
    "CS (STAT) 5525\n",
    "\n",
    "# Instructions and Experiments\n",
    "\n",
    "Note: Please read the entire project description before you begin. The goal of this project is to analyze the performance of clustering algorithms on several synthetic and real-world data sets. This will be done in the following steps:\n",
    "\n",
    "* First, you will explore the data sets.\n",
    "* Next, you will perform a series of experiments on which you will be asked to answer a series of questions. For these experiments, you will be running a python Jupyter notebook.\n",
    "* Third, you will compile your answers in the form of a report.\n",
    "\n",
    "# Python Jupyter Notebooks\n",
    "\n",
    "We recommend installing Jupyter using Anaconda as it will also install other regularly used packages for scientific computing and data science. Some pointers to setup Jupyter notebooks on your system:\n",
    "\n",
    "* Video link - https://www.youtube.com/watch?v=MvN7Wdh0Juk\n",
    "* Medium Link - https://medium.com/@neuralnets/beginners-quick-guide-for-handlingissues-launching-jupyter-notebook-for-python-using-anaconda-8be3d57a209b\n",
    "* Tutorials link - https://www.dataquest.io/blog/jupyter-notebook-tutorial/, https://www.youtube.com/watch?v=3C9E2yPBw7s\n",
    "\n",
    "\n",
    "## Before you Begin\n",
    "* Visually explore the data sets in the experiments below, and consider the following:\n",
    "  * types of attributes\n",
    "  * class distribution\n",
    "  * which attributes appear to be good predictors, if any\n",
    "  * possible correlation between attributes\n",
    "  * any special structure that you might observe\n",
    "\n",
    "  Note: The discussion of this exploration is not required in the report, but this step will help you get ready to answer the questions that follow\n",
    "\n",
    "## Report and Submission\n",
    "* Write a report addressing the experiment questions. Your project will be evaluated based only on what you write on the report. Submit the report as a PDF file on Canvas.\n",
    "* Collect output from all your experiments and submit your Jupyter notebooks (cells displaying output) electronically as a separate zipped file on Canvas. We will look at your outputs if something is ambiguous in your report. Copy and paste the output from the Jupyter notebook into your report only to the limited extent needed to support your answers.\n",
    "\n",
    "### Problem 1\n",
    "\n",
    "The files for this problem are under Experiment 1 folder. Datasets to be used for experimentation: `2d data`, `chameleon`, `elliptical`, and `vertebrate`. Jupyter notebook: `cluster analysis.ipynb`. In this experiment, you will use different clustering techniques provided by the scikit-learn library package to answer the following questions:\n",
    "\n",
    "1. On the movie ratings dataset, k-means clustering assign users to two clusters: cluster 0 has users with more affiinity for horror movies, and cluster 1 has users with more affinity for action movies. Given the cluster centroids, assign the following users to their respective cluster assignment:\n",
    "\n",
    "\n",
    "| User   | Exorcist | Omen  | Star Wars  | Jaws  |\n",
    "| ------ | -------- | ----- | ---------- | ----- |\n",
    "| Paul   | 4        | 5     | 2          | 4     |\n",
    "| Adel   | 1        | 2     | 3          | 4     |\n",
    "| Kevin  | 2        | 3     | 5          | 5     |\n",
    "| Jessi  | 1        | 1     | 3          | 2     |"
   ]
  },
  {
   "cell_type": "code",
   "execution_count": 4,
   "id": "46418623-ea54-41d3-aac7-16d740c01e46",
   "metadata": {
    "tags": []
   },
   "outputs": [],
   "source": [
    "import io\n",
    "import pandas as pd"
   ]
  },
  {
   "cell_type": "code",
   "execution_count": 8,
   "id": "0c566d32-767b-423a-8ab7-b3874779090b",
   "metadata": {
    "tags": []
   },
   "outputs": [
    {
     "data": {
      "text/html": [
       "<div>\n",
       "<style scoped>\n",
       "    .dataframe tbody tr th:only-of-type {\n",
       "        vertical-align: middle;\n",
       "    }\n",
       "\n",
       "    .dataframe tbody tr th {\n",
       "        vertical-align: top;\n",
       "    }\n",
       "\n",
       "    .dataframe thead th {\n",
       "        text-align: right;\n",
       "    }\n",
       "</style>\n",
       "<table border=\"1\" class=\"dataframe\">\n",
       "  <thead>\n",
       "    <tr style=\"text-align: right;\">\n",
       "      <th></th>\n",
       "      <th>Exorcist</th>\n",
       "      <th>Omen</th>\n",
       "      <th>StarWars</th>\n",
       "      <th>Jaws</th>\n",
       "    </tr>\n",
       "    <tr>\n",
       "      <th>User</th>\n",
       "      <th></th>\n",
       "      <th></th>\n",
       "      <th></th>\n",
       "      <th></th>\n",
       "    </tr>\n",
       "  </thead>\n",
       "  <tbody>\n",
       "    <tr>\n",
       "      <th>Paul</th>\n",
       "      <td>4</td>\n",
       "      <td>5</td>\n",
       "      <td>2</td>\n",
       "      <td>4</td>\n",
       "    </tr>\n",
       "    <tr>\n",
       "      <th>Adel</th>\n",
       "      <td>1</td>\n",
       "      <td>2</td>\n",
       "      <td>3</td>\n",
       "      <td>4</td>\n",
       "    </tr>\n",
       "    <tr>\n",
       "      <th>Kevin</th>\n",
       "      <td>2</td>\n",
       "      <td>3</td>\n",
       "      <td>5</td>\n",
       "      <td>5</td>\n",
       "    </tr>\n",
       "    <tr>\n",
       "      <th>Jessi</th>\n",
       "      <td>1</td>\n",
       "      <td>1</td>\n",
       "      <td>3</td>\n",
       "      <td>2</td>\n",
       "    </tr>\n",
       "  </tbody>\n",
       "</table>\n",
       "</div>"
      ],
      "text/plain": [
       "      Exorcist Omen StarWars Jaws\n",
       "User                             \n",
       "Paul         4    5        2    4\n",
       "Adel         1    2        3    4\n",
       "Kevin        2    3        5    5\n",
       "Jessi        1    1        3    2"
      ]
     },
     "execution_count": 8,
     "metadata": {},
     "output_type": "execute_result"
    }
   ],
   "source": [
    "md_table_string = \"\"\"\n",
    "| User   | Exorcist | Omen  | Star Wars  | Jaws  |\n",
    "| ------ | -------- | ----- | ---------- | ----- |\n",
    "| Paul   | 4        | 5     | 2          | 4     |\n",
    "| Adel   | 1        | 2     | 3          | 4     |\n",
    "| Kevin  | 2        | 3     | 5          | 5     |\n",
    "| Jessi  | 1        | 1     | 3          | 2     |\n",
    "\"\"\"\n",
    "\n",
    "df = pd.read_csv(\n",
    "    io.StringIO(md_table_string.replace(' ', '')),\n",
    "    sep='|',\n",
    "    index_col=1\n",
    ").dropna(\n",
    "    axis=1,\n",
    "    how='all'\n",
    ").iloc[1:]\n",
    "df"
   ]
  },
  {
   "cell_type": "markdown",
   "id": "925db04c-c1e0-469e-9d25-37e2d7fc12ad",
   "metadata": {
    "pycharm": {
     "name": "#%% md\n"
    }
   },
   "source": [
    "2. To determine the optimal value of K in K-means, a common approach is to use the Elbow Method, where the idea is to find a K value that shows the sharpest change in slope of the SSE curve. For the movie rating dataset, what value of K would you arrive at by applying the Elbow Method visually? Briefly explain your reasoning."
   ]
  },
  {
   "cell_type": "code",
   "execution_count": null,
   "id": "83a86f78-d79d-4254-a190-f7bf5ae3a7b5",
   "metadata": {},
   "outputs": [],
   "source": []
  },
  {
   "cell_type": "markdown",
   "id": "e002d256-596a-450d-bbf4-6aad1bedbcea",
   "metadata": {
    "pycharm": {
     "name": "#%% md\n"
    }
   },
   "source": [
    "3. On the Vertebrate dataset, we illustrate the results of using three hierarchical clustering algorithms (1) single link (MIN), (2) complete link (MAX), and (3) group average. Given the class label in the original dataset, compute the cophenetic correlation coefficient of the clustering produced by each algorithm. Which clustering algorithm shows the best match with the class labels?"
   ]
  },
  {
   "cell_type": "code",
   "execution_count": null,
   "id": "a9637575-bd0b-4bd6-ae6f-c1b411e1ce1a",
   "metadata": {},
   "outputs": [],
   "source": []
  },
  {
   "cell_type": "markdown",
   "id": "455577ee-0056-4de8-8755-458778e93cff",
   "metadata": {
    "pycharm": {
     "name": "#%% md\n"
    }
   },
   "source": [
    "4. On the chameleon dataset, how many clusters are produced by DBSCAN when the minimum number of points (min samples) is set to 1, 2, 3, 4, and 5, respectively, while neighborhood radius (eps) is set to a constant value of 15.5. For each instance, copy and paste the plot of the clusters."
   ]
  },
  {
   "cell_type": "code",
   "execution_count": null,
   "id": "b4baae0d-d31c-4a4d-a7ba-b37d892eeef5",
   "metadata": {},
   "outputs": [],
   "source": []
  },
  {
   "cell_type": "markdown",
   "id": "1b224f10-0861-4757-ace5-35093c405dbb",
   "metadata": {
    "pycharm": {
     "name": "#%% md\n"
    }
   },
   "source": [
    "5. For elliptical and 2D data, we applied k-means with k = 2. What happens if we use k = 10 for both these datasets? Copy and paste the clusters formed."
   ]
  },
  {
   "cell_type": "code",
   "execution_count": null,
   "id": "79b173db-59aa-474d-9be1-941e913efb24",
   "metadata": {},
   "outputs": [],
   "source": []
  },
  {
   "cell_type": "markdown",
   "id": "764a5716-dcca-4b31-a7b7-0fca6f7a8903",
   "metadata": {
    "pycharm": {
     "name": "#%% md\n"
    }
   },
   "source": [
    "### Problem 2\n",
    "\n",
    "The files for this problem are under Experiment 2 folder. Datasets to be used for experimentation are : `samsung test labels`, `samsung train labels`, `samsung train`, `samsung test`. Jupyter notebook: `pca and clustering.ipynb`. The data comes from the accelerometers and gyros of Samsung Galaxy S3 mobile phones (https://archive.ics.uci.edu/ml/datasets/Human+Activity+Recognition+Using+Smartphones).\n",
    "\n",
    "\n",
    "\f",
    "In this data, the type of activity a person was performing with a phone in their pocket is also known - whether they were walking, standing, lying down, sitting, walking up or walking down the stairs. Answer the following questions:\n",
    "1. Let us look at the correspondence between the cluster labels and the original activity class labels. We see that each cluster has points coming from multiple classes, and is thus impure. Let's look at the maximum percentage of points in a cluster that are coming from a single class, which we can call as the 'purity' metric. For example, if a cluster consisting of 300 points has the following distribution of class labels:\n",
    "\n",
    "* class 1 - 200\n",
    "* class 3 - 50\n",
    "* class 6 - 50\n",
    "\n",
    "then the purity metric for this cluster will be 200/300, which is approximately 0.67. A higher value of this metric for a cluster signifies higher purity of the cluster. Compute this metric for all of the 6 clusters produced by running Kmeans with K = 6 on the given dataset. What is the maximum purity metric across all 6 clusters?"
   ]
  },
  {
   "cell_type": "code",
   "execution_count": null,
   "id": "a7d1f41b-8245-40d8-ab8b-5764d93285fa",
   "metadata": {},
   "outputs": [],
   "source": []
  },
  {
   "cell_type": "markdown",
   "id": "1f16e00f-069e-4d15-949f-b484e9433c10",
   "metadata": {
    "pycharm": {
     "name": "#%% md\n"
    }
   },
   "source": [
    "2. What is the maximum purity metric for any cluster if we run Kmeans with K = 10 on the same dataset? Explain the rise/fall in purity as we increase K from 6 to 10."
   ]
  },
  {
   "cell_type": "code",
   "execution_count": null,
   "id": "889e670e-4c0e-4b15-8647-9fdb4d5f8bc6",
   "metadata": {},
   "outputs": [],
   "source": []
  },
  {
   "cell_type": "markdown",
   "id": "b54f6fa8-dc7c-4b5e-8fb3-0ba697591a7d",
   "metadata": {
    "pycharm": {
     "name": "#%% md\n"
    }
   },
   "source": [
    "### Problem 3\n",
    "\n",
    "The files for this problem are under Experiment 3 folder. Jupyter notebook: `covid-19research-challenge.ipynb`. In this experiment, we will be looking at the problem of clustering real-world research articles related to COVID-19. Dataset Download URL: https:// drive.google.com/file/d/1IC0s9QoBLWFN9tRI-z2QbJJWgngfAm8w/view?usp=sharing (Filename: CORD-19-research-challenge.zip, File size: 1.58 GB). Please download and unzip this file in the Experiment 3 folder before running the Python notebook for this problem. Dataset Description: In response to the COVID-19 pandemic, the White House and a coalition of leading research groups have prepared the COVID-19 Open Research Dataset (CORD-19). CORD-19 is a resource of over 29,000 scholarly articles, including over 13,000 with full text, about COVID-19, SARS-CoV-2, and related coronaviruses. This freely available dataset is provided to the global research community to apply recent advances in natural language processing and other AI techniques to generate new insights in support of the ongoing fight against this infectious disease. There is a growing urgency for these approaches because of the rapid acceleration in modern coronavirus literature, making it difficult for the medical research community to keep up. Answer the following questions.\n",
    "\n",
    "1. After handling duplicates, what is the count, mean, standard deviation minimum, and maximum values for the abstract word count and body word count?"
   ]
  },
  {
   "cell_type": "code",
   "execution_count": null,
   "id": "b04412b3-b23e-40c5-8ff6-393e28bec2d7",
   "metadata": {},
   "outputs": [],
   "source": []
  },
  {
   "cell_type": "markdown",
   "id": "d269262e-7dbd-4301-a6c1-6c982ba7f5dd",
   "metadata": {
    "pycharm": {
     "name": "#%% md\n"
    }
   },
   "source": [
    "2. Given the following word list: ['the', '2019', 'novel', 'coronavirus', 'sarscov2', 'identified', 'as', 'the', 'cause'], what is its corresponding list of 2-grams ?"
   ]
  },
  {
   "cell_type": "code",
   "execution_count": null,
   "id": "f2d44891-608b-4cd0-8114-b8737c633f2d",
   "metadata": {},
   "outputs": [],
   "source": []
  },
  {
   "cell_type": "markdown",
   "id": "41497961-705b-4d65-bc72-db079d606704",
   "metadata": {
    "pycharm": {
     "name": "#%% md\n"
    }
   },
   "source": [
    "3. When we applied k-means clustering with K = 10 on the data created using HashingVectorizer features from 2-grams, we could see that some clusters still had some overlap in the t-SNE plot. Can you improve this by changing the number of clusters? What value of K visually leads to good separation among the clusters in the t-SNE plot? Copy and paste the corresponding t-SNE plot."
   ]
  },
  {
   "cell_type": "code",
   "execution_count": null,
   "id": "d4bf3224-fd71-420c-8ce5-9dbbbe5a4a29",
   "metadata": {},
   "outputs": [],
   "source": []
  },
  {
   "cell_type": "markdown",
   "id": "3f8e719c-eb05-48b8-b5c4-0d1b1c0f309c",
   "metadata": {
    "pycharm": {
     "name": "#%% md\n"
    }
   },
   "source": [
    "4. By using tf-idf vectorizer and plain text features instead of 2-grams, we could see that the clusters obtained from K-means clustering (with K = 10) are more separable in the t-SNE plot. What happens when we apply the tf-idf vectorizer on the 2-gram representation of documents instead of plain text, and then apply K-means clustering with K = 10? Copy and paste the corresponding t-SNE plot."
   ]
  },
  {
   "cell_type": "code",
   "execution_count": null,
   "id": "343fc71c-b75d-41d4-80df-5f03a218d007",
   "metadata": {},
   "outputs": [],
   "source": []
  }
 ],
 "metadata": {
  "kernelspec": {
   "display_name": "Python 3 (ipykernel)",
   "language": "python",
   "name": "python3"
  },
  "language_info": {
   "codemirror_mode": {
    "name": "ipython",
    "version": 3
   },
   "file_extension": ".py",
   "mimetype": "text/x-python",
   "name": "python",
   "nbconvert_exporter": "python",
   "pygments_lexer": "ipython3",
   "version": "3.9.16"
  }
 },
 "nbformat": 4,
 "nbformat_minor": 5
}
