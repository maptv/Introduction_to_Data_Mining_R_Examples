{
 "cells": [
  {
   "cell_type": "raw",
   "id": "a8ba0f68",
   "metadata": {},
   "source": [
    "---\n",
    "title: \"An R Companion for Introduction to Data Mining\"\n",
    "author: \"Michael Hahsler\"\n",
    "date: \"`r Sys.Date()`\"\n",
    "site: bookdown::bookdown_site\n",
    "github-repo: mhahsler/Introduction_to_Data_Mining_R_Examples\n",
    "documentclass: book\n",
    "cover-image: images/cover.png\n",
    "bibliography: [book.bib, packages.bib]\n",
    "#biblio-style: apalike\n",
    "link-citations: yes\n",
    "nocite: '@*'\n",
    "description: \"This book contains documented R examples to accompany several chapters of the popular data mining textbook _Introduction to Data Mining_ by Pang-Ning Tan, Michael Steinbach and Vipin Kumar.\"\n",
    "editor_options: \n",
    "  markdown: \n",
    "    wrap: 72\n",
    "---"
   ]
  },
  {
   "cell_type": "code",
   "execution_count": null,
   "id": "497579e3",
   "metadata": {
    "name": "setup",
    "tags": [
     "remove_cell"
    ]
   },
   "outputs": [],
   "source": [
    "options(\n",
    "  htmltools.dir.version = FALSE, formatR.indent = 2,\n",
    "  width = 55, digits = 4, warnPartialMatchAttr = FALSE, warnPartialMatchDollar = FALSE\n",
    ")\n",
    "local({\n",
    "  r = getOption('repos')\n",
    "  if (!length(r) || identical(unname(r['CRAN']), '@CRAN@'))\n",
    "    r['CRAN'] = 'https://cran.rstudio.com' \n",
    "  options(repos = r)\n",
    "})"
   ]
  },
  {
   "cell_type": "code",
   "execution_count": null,
   "id": "c90cfe69",
   "metadata": {
    "tags": [
     "remove_cell"
    ]
   },
   "outputs": [],
   "source": [
    "all_pkgs <- character()\n",
    "\n",
    "format_pkgs <- function(pkgs)\n",
    "  paste(sapply(pkgs, FUN = function(p) sprintf('_%s_ [@R-%s]', p ,p)), collapse = ', ')"
   ]
  },
  {
   "cell_type": "markdown",
   "id": "11d29e85",
   "metadata": {},
   "source": [
    "# Preface {.unnumbered}"
   ]
  },
  {
   "cell_type": "code",
   "execution_count": null,
   "id": "0fc3b637",
   "metadata": {
    "fig.align": "center",
    "include": "#R_CODE#identical(knitr:::pandoc_to(), 'html')",
    "out.width": "50%",
    "tags": [
     "remove_input"
    ]
   },
   "outputs": [],
   "source": [
    "knitr::include_graphics('images/cover.png', dpi = NA)"
   ]
  },
  {
   "cell_type": "markdown",
   "id": "64d80831",
   "metadata": {},
   "source": [
    "This book contains documented R examples to accompany several chapters\n",
    "of the popular data mining textbook [*Introduction to Data\n",
    "Mining*](https://www-users.cs.umn.edu/~kumar001/dmbook/) by Pang-Ning\n",
    "Tan, Michael Steinbach, Anuj Karpatne and Vipin Kumar. The companion\n",
    "book can be used with either edition: 1st edition [@Tan2005] or 2nd\n",
    "edition [@Tan2018].\n",
    "\n",
    "The code examples collected in this book were developed for the course\n",
    "[CS 7331 - Data Mining](http://michael.hahsler.net/SMU/EMIS7331) taught\n",
    "at [SMU](http://www.smu.edu) since Spring 2013 and will be regularly\n",
    "updated and improved. The latest update includes the use of the popular\n",
    "packages in the meta-package `tidyverse` [@R-tidyverse] including\n",
    "`ggplot2` [@R-ggplot2] for data wrangling and visualization along with\n",
    "`caret` [@R-caret] for model building.\n",
    "\n",
    "Please use the edit function within this book or visit the [book's\n",
    "GitHub project\n",
    "page](https://github.com/mhahsler/Introduction_to_Data_Mining_R_Examples)\n",
    "to submit corrections or suggest improvements. To cite this book use:\n",
    "\n",
    "> Michael Hahsler (2021). *An R Companion for Introduction to Data\n",
    "> Mining.* Online Book.\n",
    "> <https://mhahsler.github.io/Introduction_to_Data_Mining_R_Examples/book/>\n",
    "\n",
    "I hope this book helps you to learn to use R more efficiently for your\n",
    "data mining projects.\n",
    "\n",
    "Michael Hahsler\n",
    "\n",
    "## License {.unnumbered}\n",
    "\n",
    "![Creative Commons License](images/by-nc-sa.png) The online version of\n",
    "this book is licensed under the [Creative Commons\n",
    "Attribution-NonCommercial-ShareAlike 4.0 International\n",
    "License](http://creativecommons.org/licenses/by-nc-sa/4.0/).\n",
    "\n",
    "The cover art is based on\n",
    "[\"rocks\"](https://www.flickr.com/photos/69017177@N00/5063131410) by\n",
    "[stebulus](https://www.flickr.com/photos/69017177@N00) licensed with [CC\n",
    "BY\n",
    "2.0](https://creativecommons.org/licenses/by/2.0/?ref=ccsearch&atype=rich)."
   ]
  }
 ],
 "metadata": {
  "jupytext": {
   "cell_metadata_filter": "fig.align,tags,include,out.width,name,-all",
   "main_language": "R",
   "notebook_metadata_filter": "-all"
  }
 },
 "nbformat": 4,
 "nbformat_minor": 5
}
