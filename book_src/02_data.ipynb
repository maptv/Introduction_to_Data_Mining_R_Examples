{
 "cells": [
  {
   "cell_type": "raw",
   "id": "e7150185",
   "metadata": {},
   "source": [
    "---\n",
    "editor_options: \n",
    "  markdown: \n",
    "    wrap: 72\n",
    "---"
   ]
  },
  {
   "cell_type": "markdown",
   "id": "806656d0",
   "metadata": {},
   "source": [
    "# Data\n",
    "\n",
    "This chapter provides examples for cleaning and preparing data for data\n",
    "mining."
   ]
  },
  {
   "cell_type": "markdown",
   "id": "9c60e610",
   "metadata": {},
   "source": [
    "**Packages used for this chapter:** `r format_pkgs(pkgs)`\n",
    "\n",
    "## The Iris Dataset"
   ]
  },
  {
   "cell_type": "code",
   "execution_count": null,
   "id": "c8e9bf7d",
   "metadata": {
    "tags": [
     "remove_cell"
    ]
   },
   "outputs": [],
   "source": [
    "options(digits = 3)"
   ]
  },
  {
   "cell_type": "markdown",
   "id": "7cbcf1c9",
   "metadata": {},
   "source": [
    "We will use a toy dataset that comes with R. [Fisher's iris\n",
    "dataset](https://en.wikipedia.org/wiki/Iris_flower_data_set) gives the\n",
    "measurements in centimeters of the variables sepal length, sepal width\n",
    "petal length, and petal width for 150 flowers. The dataset contains 50\n",
    "flowers from each of 3 species of iris. The species are Iris Setosa,\n",
    "Iris Versicolor, and Iris Virginica. For more details see `? iris`.\n",
    "\n",
    "We load the iris data set. Datasets that come with R or R packages can\n",
    "be loaded with `data()`. The standard format for data in R is a\n",
    "data.frame. We convert the data.frame into a tidyverse tibble."
   ]
  },
  {
   "cell_type": "code",
   "execution_count": 18,
   "id": "22131c33-3721-4d2d-8d11-d385b17b1893",
   "metadata": {
    "tags": []
   },
   "outputs": [
    {
     "name": "stdout",
     "output_type": "stream",
     "text": [
      "List of 4\n",
      " $ title  : chr \"Data sets\"\n",
      " $ header : NULL\n",
      " $ results: chr [1:134, 1:4] \"forcats\" \"stringr\" \"stringr\" \"stringr\" ...\n",
      "  ..- attr(*, \"dimnames\")=List of 2\n",
      "  .. ..$ : NULL\n",
      "  .. ..$ : chr [1:4] \"Package\" \"LibPath\" \"Item\" \"Title\"\n",
      " $ footer : chr \"Use ‘data(package = .packages(all.available = TRUE))’\\nto list the data sets in all *available* packages.\"\n",
      " - attr(*, \"class\")= chr \"packageIQR\"\n"
     ]
    }
   ],
   "source": [
    "str(data())"
   ]
  },
  {
   "cell_type": "code",
   "execution_count": 2,
   "id": "054aa294",
   "metadata": {},
   "outputs": [
    {
     "name": "stderr",
     "output_type": "stream",
     "text": [
      "Registered S3 methods overwritten by 'ggplot2':\n",
      "  method         from \n",
      "  [.quosures     rlang\n",
      "  c.quosures     rlang\n",
      "  print.quosures rlang\n",
      "Registered S3 method overwritten by 'rvest':\n",
      "  method            from\n",
      "  read_xml.response xml2\n",
      "── Attaching packages ─────────────────────────────────────── tidyverse 1.2.1 ──\n",
      "✔ ggplot2 3.1.1       ✔ purrr   0.3.2  \n",
      "✔ tibble  2.1.1       ✔ dplyr   0.8.0.1\n",
      "✔ tidyr   0.8.3       ✔ stringr 1.4.0  \n",
      "✔ readr   1.3.1       ✔ forcats 0.4.0  \n",
      "── Conflicts ────────────────────────────────────────── tidyverse_conflicts() ──\n",
      "✖ dplyr::filter() masks stats::filter()\n",
      "✖ dplyr::lag()    masks stats::lag()\n"
     ]
    },
    {
     "data": {
      "text/html": [
       "<table>\n",
       "<thead><tr><th scope=col>Sepal.Length</th><th scope=col>Sepal.Width</th><th scope=col>Petal.Length</th><th scope=col>Petal.Width</th><th scope=col>Species</th></tr></thead>\n",
       "<tbody>\n",
       "\t<tr><td>5.1   </td><td>3.5   </td><td>1.4   </td><td>0.2   </td><td>setosa</td></tr>\n",
       "\t<tr><td>4.9   </td><td>3.0   </td><td>1.4   </td><td>0.2   </td><td>setosa</td></tr>\n",
       "\t<tr><td>4.7   </td><td>3.2   </td><td>1.3   </td><td>0.2   </td><td>setosa</td></tr>\n",
       "\t<tr><td>4.6   </td><td>3.1   </td><td>1.5   </td><td>0.2   </td><td>setosa</td></tr>\n",
       "\t<tr><td>5.0   </td><td>3.6   </td><td>1.4   </td><td>0.2   </td><td>setosa</td></tr>\n",
       "\t<tr><td>5.4   </td><td>3.9   </td><td>1.7   </td><td>0.4   </td><td>setosa</td></tr>\n",
       "\t<tr><td>4.6   </td><td>3.4   </td><td>1.4   </td><td>0.3   </td><td>setosa</td></tr>\n",
       "\t<tr><td>5.0   </td><td>3.4   </td><td>1.5   </td><td>0.2   </td><td>setosa</td></tr>\n",
       "\t<tr><td>4.4   </td><td>2.9   </td><td>1.4   </td><td>0.2   </td><td>setosa</td></tr>\n",
       "\t<tr><td>4.9   </td><td>3.1   </td><td>1.5   </td><td>0.1   </td><td>setosa</td></tr>\n",
       "\t<tr><td>5.4   </td><td>3.7   </td><td>1.5   </td><td>0.2   </td><td>setosa</td></tr>\n",
       "\t<tr><td>4.8   </td><td>3.4   </td><td>1.6   </td><td>0.2   </td><td>setosa</td></tr>\n",
       "\t<tr><td>4.8   </td><td>3.0   </td><td>1.4   </td><td>0.1   </td><td>setosa</td></tr>\n",
       "\t<tr><td>4.3   </td><td>3.0   </td><td>1.1   </td><td>0.1   </td><td>setosa</td></tr>\n",
       "\t<tr><td>5.8   </td><td>4.0   </td><td>1.2   </td><td>0.2   </td><td>setosa</td></tr>\n",
       "\t<tr><td>5.7   </td><td>4.4   </td><td>1.5   </td><td>0.4   </td><td>setosa</td></tr>\n",
       "\t<tr><td>5.4   </td><td>3.9   </td><td>1.3   </td><td>0.4   </td><td>setosa</td></tr>\n",
       "\t<tr><td>5.1   </td><td>3.5   </td><td>1.4   </td><td>0.3   </td><td>setosa</td></tr>\n",
       "\t<tr><td>5.7   </td><td>3.8   </td><td>1.7   </td><td>0.3   </td><td>setosa</td></tr>\n",
       "\t<tr><td>5.1   </td><td>3.8   </td><td>1.5   </td><td>0.3   </td><td>setosa</td></tr>\n",
       "\t<tr><td>5.4   </td><td>3.4   </td><td>1.7   </td><td>0.2   </td><td>setosa</td></tr>\n",
       "\t<tr><td>5.1   </td><td>3.7   </td><td>1.5   </td><td>0.4   </td><td>setosa</td></tr>\n",
       "\t<tr><td>4.6   </td><td>3.6   </td><td>1.0   </td><td>0.2   </td><td>setosa</td></tr>\n",
       "\t<tr><td>5.1   </td><td>3.3   </td><td>1.7   </td><td>0.5   </td><td>setosa</td></tr>\n",
       "\t<tr><td>4.8   </td><td>3.4   </td><td>1.9   </td><td>0.2   </td><td>setosa</td></tr>\n",
       "\t<tr><td>5.0   </td><td>3.0   </td><td>1.6   </td><td>0.2   </td><td>setosa</td></tr>\n",
       "\t<tr><td>5.0   </td><td>3.4   </td><td>1.6   </td><td>0.4   </td><td>setosa</td></tr>\n",
       "\t<tr><td>5.2   </td><td>3.5   </td><td>1.5   </td><td>0.2   </td><td>setosa</td></tr>\n",
       "\t<tr><td>5.2   </td><td>3.4   </td><td>1.4   </td><td>0.2   </td><td>setosa</td></tr>\n",
       "\t<tr><td>4.7   </td><td>3.2   </td><td>1.6   </td><td>0.2   </td><td>setosa</td></tr>\n",
       "\t<tr><td>...</td><td>...</td><td>...</td><td>...</td><td>...</td></tr>\n",
       "\t<tr><td>6.9      </td><td>3.2      </td><td>5.7      </td><td>2.3      </td><td>virginica</td></tr>\n",
       "\t<tr><td>5.6      </td><td>2.8      </td><td>4.9      </td><td>2.0      </td><td>virginica</td></tr>\n",
       "\t<tr><td>7.7      </td><td>2.8      </td><td>6.7      </td><td>2.0      </td><td>virginica</td></tr>\n",
       "\t<tr><td>6.3      </td><td>2.7      </td><td>4.9      </td><td>1.8      </td><td>virginica</td></tr>\n",
       "\t<tr><td>6.7      </td><td>3.3      </td><td>5.7      </td><td>2.1      </td><td>virginica</td></tr>\n",
       "\t<tr><td>7.2      </td><td>3.2      </td><td>6.0      </td><td>1.8      </td><td>virginica</td></tr>\n",
       "\t<tr><td>6.2      </td><td>2.8      </td><td>4.8      </td><td>1.8      </td><td>virginica</td></tr>\n",
       "\t<tr><td>6.1      </td><td>3.0      </td><td>4.9      </td><td>1.8      </td><td>virginica</td></tr>\n",
       "\t<tr><td>6.4      </td><td>2.8      </td><td>5.6      </td><td>2.1      </td><td>virginica</td></tr>\n",
       "\t<tr><td>7.2      </td><td>3.0      </td><td>5.8      </td><td>1.6      </td><td>virginica</td></tr>\n",
       "\t<tr><td>7.4      </td><td>2.8      </td><td>6.1      </td><td>1.9      </td><td>virginica</td></tr>\n",
       "\t<tr><td>7.9      </td><td>3.8      </td><td>6.4      </td><td>2.0      </td><td>virginica</td></tr>\n",
       "\t<tr><td>6.4      </td><td>2.8      </td><td>5.6      </td><td>2.2      </td><td>virginica</td></tr>\n",
       "\t<tr><td>6.3      </td><td>2.8      </td><td>5.1      </td><td>1.5      </td><td>virginica</td></tr>\n",
       "\t<tr><td>6.1      </td><td>2.6      </td><td>5.6      </td><td>1.4      </td><td>virginica</td></tr>\n",
       "\t<tr><td>7.7      </td><td>3.0      </td><td>6.1      </td><td>2.3      </td><td>virginica</td></tr>\n",
       "\t<tr><td>6.3      </td><td>3.4      </td><td>5.6      </td><td>2.4      </td><td>virginica</td></tr>\n",
       "\t<tr><td>6.4      </td><td>3.1      </td><td>5.5      </td><td>1.8      </td><td>virginica</td></tr>\n",
       "\t<tr><td>6.0      </td><td>3.0      </td><td>4.8      </td><td>1.8      </td><td>virginica</td></tr>\n",
       "\t<tr><td>6.9      </td><td>3.1      </td><td>5.4      </td><td>2.1      </td><td>virginica</td></tr>\n",
       "\t<tr><td>6.7      </td><td>3.1      </td><td>5.6      </td><td>2.4      </td><td>virginica</td></tr>\n",
       "\t<tr><td>6.9      </td><td>3.1      </td><td>5.1      </td><td>2.3      </td><td>virginica</td></tr>\n",
       "\t<tr><td>5.8      </td><td>2.7      </td><td>5.1      </td><td>1.9      </td><td>virginica</td></tr>\n",
       "\t<tr><td>6.8      </td><td>3.2      </td><td>5.9      </td><td>2.3      </td><td>virginica</td></tr>\n",
       "\t<tr><td>6.7      </td><td>3.3      </td><td>5.7      </td><td>2.5      </td><td>virginica</td></tr>\n",
       "\t<tr><td>6.7      </td><td>3.0      </td><td>5.2      </td><td>2.3      </td><td>virginica</td></tr>\n",
       "\t<tr><td>6.3      </td><td>2.5      </td><td>5.0      </td><td>1.9      </td><td>virginica</td></tr>\n",
       "\t<tr><td>6.5      </td><td>3.0      </td><td>5.2      </td><td>2.0      </td><td>virginica</td></tr>\n",
       "\t<tr><td>6.2      </td><td>3.4      </td><td>5.4      </td><td>2.3      </td><td>virginica</td></tr>\n",
       "\t<tr><td>5.9      </td><td>3.0      </td><td>5.1      </td><td>1.8      </td><td>virginica</td></tr>\n",
       "</tbody>\n",
       "</table>\n"
      ],
      "text/latex": [
       "\\begin{tabular}{r|lllll}\n",
       " Sepal.Length & Sepal.Width & Petal.Length & Petal.Width & Species\\\\\n",
       "\\hline\n",
       "\t 5.1    & 3.5    & 1.4    & 0.2    & setosa\\\\\n",
       "\t 4.9    & 3.0    & 1.4    & 0.2    & setosa\\\\\n",
       "\t 4.7    & 3.2    & 1.3    & 0.2    & setosa\\\\\n",
       "\t 4.6    & 3.1    & 1.5    & 0.2    & setosa\\\\\n",
       "\t 5.0    & 3.6    & 1.4    & 0.2    & setosa\\\\\n",
       "\t 5.4    & 3.9    & 1.7    & 0.4    & setosa\\\\\n",
       "\t 4.6    & 3.4    & 1.4    & 0.3    & setosa\\\\\n",
       "\t 5.0    & 3.4    & 1.5    & 0.2    & setosa\\\\\n",
       "\t 4.4    & 2.9    & 1.4    & 0.2    & setosa\\\\\n",
       "\t 4.9    & 3.1    & 1.5    & 0.1    & setosa\\\\\n",
       "\t 5.4    & 3.7    & 1.5    & 0.2    & setosa\\\\\n",
       "\t 4.8    & 3.4    & 1.6    & 0.2    & setosa\\\\\n",
       "\t 4.8    & 3.0    & 1.4    & 0.1    & setosa\\\\\n",
       "\t 4.3    & 3.0    & 1.1    & 0.1    & setosa\\\\\n",
       "\t 5.8    & 4.0    & 1.2    & 0.2    & setosa\\\\\n",
       "\t 5.7    & 4.4    & 1.5    & 0.4    & setosa\\\\\n",
       "\t 5.4    & 3.9    & 1.3    & 0.4    & setosa\\\\\n",
       "\t 5.1    & 3.5    & 1.4    & 0.3    & setosa\\\\\n",
       "\t 5.7    & 3.8    & 1.7    & 0.3    & setosa\\\\\n",
       "\t 5.1    & 3.8    & 1.5    & 0.3    & setosa\\\\\n",
       "\t 5.4    & 3.4    & 1.7    & 0.2    & setosa\\\\\n",
       "\t 5.1    & 3.7    & 1.5    & 0.4    & setosa\\\\\n",
       "\t 4.6    & 3.6    & 1.0    & 0.2    & setosa\\\\\n",
       "\t 5.1    & 3.3    & 1.7    & 0.5    & setosa\\\\\n",
       "\t 4.8    & 3.4    & 1.9    & 0.2    & setosa\\\\\n",
       "\t 5.0    & 3.0    & 1.6    & 0.2    & setosa\\\\\n",
       "\t 5.0    & 3.4    & 1.6    & 0.4    & setosa\\\\\n",
       "\t 5.2    & 3.5    & 1.5    & 0.2    & setosa\\\\\n",
       "\t 5.2    & 3.4    & 1.4    & 0.2    & setosa\\\\\n",
       "\t 4.7    & 3.2    & 1.6    & 0.2    & setosa\\\\\n",
       "\t ... & ... & ... & ... & ...\\\\\n",
       "\t 6.9       & 3.2       & 5.7       & 2.3       & virginica\\\\\n",
       "\t 5.6       & 2.8       & 4.9       & 2.0       & virginica\\\\\n",
       "\t 7.7       & 2.8       & 6.7       & 2.0       & virginica\\\\\n",
       "\t 6.3       & 2.7       & 4.9       & 1.8       & virginica\\\\\n",
       "\t 6.7       & 3.3       & 5.7       & 2.1       & virginica\\\\\n",
       "\t 7.2       & 3.2       & 6.0       & 1.8       & virginica\\\\\n",
       "\t 6.2       & 2.8       & 4.8       & 1.8       & virginica\\\\\n",
       "\t 6.1       & 3.0       & 4.9       & 1.8       & virginica\\\\\n",
       "\t 6.4       & 2.8       & 5.6       & 2.1       & virginica\\\\\n",
       "\t 7.2       & 3.0       & 5.8       & 1.6       & virginica\\\\\n",
       "\t 7.4       & 2.8       & 6.1       & 1.9       & virginica\\\\\n",
       "\t 7.9       & 3.8       & 6.4       & 2.0       & virginica\\\\\n",
       "\t 6.4       & 2.8       & 5.6       & 2.2       & virginica\\\\\n",
       "\t 6.3       & 2.8       & 5.1       & 1.5       & virginica\\\\\n",
       "\t 6.1       & 2.6       & 5.6       & 1.4       & virginica\\\\\n",
       "\t 7.7       & 3.0       & 6.1       & 2.3       & virginica\\\\\n",
       "\t 6.3       & 3.4       & 5.6       & 2.4       & virginica\\\\\n",
       "\t 6.4       & 3.1       & 5.5       & 1.8       & virginica\\\\\n",
       "\t 6.0       & 3.0       & 4.8       & 1.8       & virginica\\\\\n",
       "\t 6.9       & 3.1       & 5.4       & 2.1       & virginica\\\\\n",
       "\t 6.7       & 3.1       & 5.6       & 2.4       & virginica\\\\\n",
       "\t 6.9       & 3.1       & 5.1       & 2.3       & virginica\\\\\n",
       "\t 5.8       & 2.7       & 5.1       & 1.9       & virginica\\\\\n",
       "\t 6.8       & 3.2       & 5.9       & 2.3       & virginica\\\\\n",
       "\t 6.7       & 3.3       & 5.7       & 2.5       & virginica\\\\\n",
       "\t 6.7       & 3.0       & 5.2       & 2.3       & virginica\\\\\n",
       "\t 6.3       & 2.5       & 5.0       & 1.9       & virginica\\\\\n",
       "\t 6.5       & 3.0       & 5.2       & 2.0       & virginica\\\\\n",
       "\t 6.2       & 3.4       & 5.4       & 2.3       & virginica\\\\\n",
       "\t 5.9       & 3.0       & 5.1       & 1.8       & virginica\\\\\n",
       "\\end{tabular}\n"
      ],
      "text/markdown": [
       "\n",
       "| Sepal.Length | Sepal.Width | Petal.Length | Petal.Width | Species |\n",
       "|---|---|---|---|---|\n",
       "| 5.1    | 3.5    | 1.4    | 0.2    | setosa |\n",
       "| 4.9    | 3.0    | 1.4    | 0.2    | setosa |\n",
       "| 4.7    | 3.2    | 1.3    | 0.2    | setosa |\n",
       "| 4.6    | 3.1    | 1.5    | 0.2    | setosa |\n",
       "| 5.0    | 3.6    | 1.4    | 0.2    | setosa |\n",
       "| 5.4    | 3.9    | 1.7    | 0.4    | setosa |\n",
       "| 4.6    | 3.4    | 1.4    | 0.3    | setosa |\n",
       "| 5.0    | 3.4    | 1.5    | 0.2    | setosa |\n",
       "| 4.4    | 2.9    | 1.4    | 0.2    | setosa |\n",
       "| 4.9    | 3.1    | 1.5    | 0.1    | setosa |\n",
       "| 5.4    | 3.7    | 1.5    | 0.2    | setosa |\n",
       "| 4.8    | 3.4    | 1.6    | 0.2    | setosa |\n",
       "| 4.8    | 3.0    | 1.4    | 0.1    | setosa |\n",
       "| 4.3    | 3.0    | 1.1    | 0.1    | setosa |\n",
       "| 5.8    | 4.0    | 1.2    | 0.2    | setosa |\n",
       "| 5.7    | 4.4    | 1.5    | 0.4    | setosa |\n",
       "| 5.4    | 3.9    | 1.3    | 0.4    | setosa |\n",
       "| 5.1    | 3.5    | 1.4    | 0.3    | setosa |\n",
       "| 5.7    | 3.8    | 1.7    | 0.3    | setosa |\n",
       "| 5.1    | 3.8    | 1.5    | 0.3    | setosa |\n",
       "| 5.4    | 3.4    | 1.7    | 0.2    | setosa |\n",
       "| 5.1    | 3.7    | 1.5    | 0.4    | setosa |\n",
       "| 4.6    | 3.6    | 1.0    | 0.2    | setosa |\n",
       "| 5.1    | 3.3    | 1.7    | 0.5    | setosa |\n",
       "| 4.8    | 3.4    | 1.9    | 0.2    | setosa |\n",
       "| 5.0    | 3.0    | 1.6    | 0.2    | setosa |\n",
       "| 5.0    | 3.4    | 1.6    | 0.4    | setosa |\n",
       "| 5.2    | 3.5    | 1.5    | 0.2    | setosa |\n",
       "| 5.2    | 3.4    | 1.4    | 0.2    | setosa |\n",
       "| 4.7    | 3.2    | 1.6    | 0.2    | setosa |\n",
       "| ... | ... | ... | ... | ... |\n",
       "| 6.9       | 3.2       | 5.7       | 2.3       | virginica |\n",
       "| 5.6       | 2.8       | 4.9       | 2.0       | virginica |\n",
       "| 7.7       | 2.8       | 6.7       | 2.0       | virginica |\n",
       "| 6.3       | 2.7       | 4.9       | 1.8       | virginica |\n",
       "| 6.7       | 3.3       | 5.7       | 2.1       | virginica |\n",
       "| 7.2       | 3.2       | 6.0       | 1.8       | virginica |\n",
       "| 6.2       | 2.8       | 4.8       | 1.8       | virginica |\n",
       "| 6.1       | 3.0       | 4.9       | 1.8       | virginica |\n",
       "| 6.4       | 2.8       | 5.6       | 2.1       | virginica |\n",
       "| 7.2       | 3.0       | 5.8       | 1.6       | virginica |\n",
       "| 7.4       | 2.8       | 6.1       | 1.9       | virginica |\n",
       "| 7.9       | 3.8       | 6.4       | 2.0       | virginica |\n",
       "| 6.4       | 2.8       | 5.6       | 2.2       | virginica |\n",
       "| 6.3       | 2.8       | 5.1       | 1.5       | virginica |\n",
       "| 6.1       | 2.6       | 5.6       | 1.4       | virginica |\n",
       "| 7.7       | 3.0       | 6.1       | 2.3       | virginica |\n",
       "| 6.3       | 3.4       | 5.6       | 2.4       | virginica |\n",
       "| 6.4       | 3.1       | 5.5       | 1.8       | virginica |\n",
       "| 6.0       | 3.0       | 4.8       | 1.8       | virginica |\n",
       "| 6.9       | 3.1       | 5.4       | 2.1       | virginica |\n",
       "| 6.7       | 3.1       | 5.6       | 2.4       | virginica |\n",
       "| 6.9       | 3.1       | 5.1       | 2.3       | virginica |\n",
       "| 5.8       | 2.7       | 5.1       | 1.9       | virginica |\n",
       "| 6.8       | 3.2       | 5.9       | 2.3       | virginica |\n",
       "| 6.7       | 3.3       | 5.7       | 2.5       | virginica |\n",
       "| 6.7       | 3.0       | 5.2       | 2.3       | virginica |\n",
       "| 6.3       | 2.5       | 5.0       | 1.9       | virginica |\n",
       "| 6.5       | 3.0       | 5.2       | 2.0       | virginica |\n",
       "| 6.2       | 3.4       | 5.4       | 2.3       | virginica |\n",
       "| 5.9       | 3.0       | 5.1       | 1.8       | virginica |\n",
       "\n"
      ],
      "text/plain": [
       "    Sepal.Length Sepal.Width Petal.Length Petal.Width Species  \n",
       "1   5.1          3.5         1.4          0.2         setosa   \n",
       "2   4.9          3.0         1.4          0.2         setosa   \n",
       "3   4.7          3.2         1.3          0.2         setosa   \n",
       "4   4.6          3.1         1.5          0.2         setosa   \n",
       "5   5.0          3.6         1.4          0.2         setosa   \n",
       "6   5.4          3.9         1.7          0.4         setosa   \n",
       "7   4.6          3.4         1.4          0.3         setosa   \n",
       "8   5.0          3.4         1.5          0.2         setosa   \n",
       "9   4.4          2.9         1.4          0.2         setosa   \n",
       "10  4.9          3.1         1.5          0.1         setosa   \n",
       "11  5.4          3.7         1.5          0.2         setosa   \n",
       "12  4.8          3.4         1.6          0.2         setosa   \n",
       "13  4.8          3.0         1.4          0.1         setosa   \n",
       "14  4.3          3.0         1.1          0.1         setosa   \n",
       "15  5.8          4.0         1.2          0.2         setosa   \n",
       "16  5.7          4.4         1.5          0.4         setosa   \n",
       "17  5.4          3.9         1.3          0.4         setosa   \n",
       "18  5.1          3.5         1.4          0.3         setosa   \n",
       "19  5.7          3.8         1.7          0.3         setosa   \n",
       "20  5.1          3.8         1.5          0.3         setosa   \n",
       "21  5.4          3.4         1.7          0.2         setosa   \n",
       "22  5.1          3.7         1.5          0.4         setosa   \n",
       "23  4.6          3.6         1.0          0.2         setosa   \n",
       "24  5.1          3.3         1.7          0.5         setosa   \n",
       "25  4.8          3.4         1.9          0.2         setosa   \n",
       "26  5.0          3.0         1.6          0.2         setosa   \n",
       "27  5.0          3.4         1.6          0.4         setosa   \n",
       "28  5.2          3.5         1.5          0.2         setosa   \n",
       "29  5.2          3.4         1.4          0.2         setosa   \n",
       "30  4.7          3.2         1.6          0.2         setosa   \n",
       "... ...          ...         ...          ...         ...      \n",
       "121 6.9          3.2         5.7          2.3         virginica\n",
       "122 5.6          2.8         4.9          2.0         virginica\n",
       "123 7.7          2.8         6.7          2.0         virginica\n",
       "124 6.3          2.7         4.9          1.8         virginica\n",
       "125 6.7          3.3         5.7          2.1         virginica\n",
       "126 7.2          3.2         6.0          1.8         virginica\n",
       "127 6.2          2.8         4.8          1.8         virginica\n",
       "128 6.1          3.0         4.9          1.8         virginica\n",
       "129 6.4          2.8         5.6          2.1         virginica\n",
       "130 7.2          3.0         5.8          1.6         virginica\n",
       "131 7.4          2.8         6.1          1.9         virginica\n",
       "132 7.9          3.8         6.4          2.0         virginica\n",
       "133 6.4          2.8         5.6          2.2         virginica\n",
       "134 6.3          2.8         5.1          1.5         virginica\n",
       "135 6.1          2.6         5.6          1.4         virginica\n",
       "136 7.7          3.0         6.1          2.3         virginica\n",
       "137 6.3          3.4         5.6          2.4         virginica\n",
       "138 6.4          3.1         5.5          1.8         virginica\n",
       "139 6.0          3.0         4.8          1.8         virginica\n",
       "140 6.9          3.1         5.4          2.1         virginica\n",
       "141 6.7          3.1         5.6          2.4         virginica\n",
       "142 6.9          3.1         5.1          2.3         virginica\n",
       "143 5.8          2.7         5.1          1.9         virginica\n",
       "144 6.8          3.2         5.9          2.3         virginica\n",
       "145 6.7          3.3         5.7          2.5         virginica\n",
       "146 6.7          3.0         5.2          2.3         virginica\n",
       "147 6.3          2.5         5.0          1.9         virginica\n",
       "148 6.5          3.0         5.2          2.0         virginica\n",
       "149 6.2          3.4         5.4          2.3         virginica\n",
       "150 5.9          3.0         5.1          1.8         virginica"
      ]
     },
     "metadata": {},
     "output_type": "display_data"
    }
   ],
   "source": [
    "library(tidyverse)\n",
    "data(iris)\n",
    "iris <- as_tibble(iris)\n",
    "iris"
   ]
  },
  {
   "cell_type": "markdown",
   "id": "1d7eb03d",
   "metadata": {},
   "source": [
    "We see that the data contains 150 rows (flowers) and 5 features. tibbles\n",
    "only show the first few rows and do not show all features, if they do\n",
    "not fit the screen width. We can call `print` and define how many rows\n",
    "to show using parameter `n` and force print to show all features by\n",
    "changing the `width` to infinity."
   ]
  },
  {
   "cell_type": "code",
   "execution_count": null,
   "id": "a5847dc6",
   "metadata": {},
   "outputs": [],
   "source": [
    "print(iris, n = 3, width = Inf)"
   ]
  },
  {
   "cell_type": "markdown",
   "id": "c48f6178",
   "metadata": {},
   "source": [
    "## Data Quality\n",
    "\n",
    "Assessing the quality of the available data is crucial before we start\n",
    "using the data. Start with summary statistics for each column to\n",
    "identify outliers and missing values."
   ]
  },
  {
   "cell_type": "code",
   "execution_count": 19,
   "id": "3c1c9574",
   "metadata": {},
   "outputs": [
    {
     "data": {
      "text/plain": [
       "  Sepal.Length    Sepal.Width     Petal.Length    Petal.Width   \n",
       " Min.   :4.300   Min.   :2.000   Min.   :1.000   Min.   :0.100  \n",
       " 1st Qu.:5.100   1st Qu.:2.800   1st Qu.:1.600   1st Qu.:0.300  \n",
       " Median :5.800   Median :3.000   Median :4.350   Median :1.300  \n",
       " Mean   :5.843   Mean   :3.057   Mean   :3.758   Mean   :1.199  \n",
       " 3rd Qu.:6.400   3rd Qu.:3.300   3rd Qu.:5.100   3rd Qu.:1.800  \n",
       " Max.   :7.900   Max.   :4.400   Max.   :6.900   Max.   :2.500  \n",
       "       Species  \n",
       " setosa    :50  \n",
       " versicolor:50  \n",
       " virginica :50  \n",
       "                \n",
       "                \n",
       "                "
      ]
     },
     "metadata": {},
     "output_type": "display_data"
    }
   ],
   "source": [
    "summary(iris)"
   ]
  },
  {
   "cell_type": "code",
   "execution_count": 21,
   "id": "4546041f-f7fe-4db3-9452-b72761b909cc",
   "metadata": {},
   "outputs": [
    {
     "name": "stdout",
     "output_type": "stream",
     "text": [
      "Observations: 150\n",
      "Variables: 5\n",
      "$ Sepal.Length <dbl> 5.1, 4.9, 4.7, 4.6, 5.0, 5.4, 4.6, 5.0, 4.4, 4.9, 5.4, 4…\n",
      "$ Sepal.Width  <dbl> 3.5, 3.0, 3.2, 3.1, 3.6, 3.9, 3.4, 3.4, 2.9, 3.1, 3.7, 3…\n",
      "$ Petal.Length <dbl> 1.4, 1.4, 1.3, 1.5, 1.4, 1.7, 1.4, 1.5, 1.4, 1.5, 1.5, 1…\n",
      "$ Petal.Width  <dbl> 0.2, 0.2, 0.2, 0.2, 0.2, 0.4, 0.3, 0.2, 0.2, 0.1, 0.2, 0…\n",
      "$ Species      <fct> setosa, setosa, setosa, setosa, setosa, setosa, setosa, …\n"
     ]
    }
   ],
   "source": [
    "glimpse(iris)"
   ]
  },
  {
   "cell_type": "markdown",
   "id": "2133939c",
   "metadata": {},
   "source": [
    "You can also summarize specific columns using a statistic function like\n",
    "`mean()`."
   ]
  },
  {
   "cell_type": "code",
   "execution_count": 22,
   "id": "2516f6bd",
   "metadata": {},
   "outputs": [
    {
     "data": {
      "text/html": [
       "<table>\n",
       "<thead><tr><th scope=col>Sepal.Length</th><th scope=col>Sepal.Width</th><th scope=col>Petal.Length</th><th scope=col>Petal.Width</th></tr></thead>\n",
       "<tbody>\n",
       "\t<tr><td>5.843333</td><td>3.057333</td><td>3.758   </td><td>1.199333</td></tr>\n",
       "</tbody>\n",
       "</table>\n"
      ],
      "text/latex": [
       "\\begin{tabular}{r|llll}\n",
       " Sepal.Length & Sepal.Width & Petal.Length & Petal.Width\\\\\n",
       "\\hline\n",
       "\t 5.843333 & 3.057333 & 3.758    & 1.199333\\\\\n",
       "\\end{tabular}\n"
      ],
      "text/markdown": [
       "\n",
       "| Sepal.Length | Sepal.Width | Petal.Length | Petal.Width |\n",
       "|---|---|---|---|\n",
       "| 5.843333 | 3.057333 | 3.758    | 1.199333 |\n",
       "\n"
      ],
      "text/plain": [
       "  Sepal.Length Sepal.Width Petal.Length Petal.Width\n",
       "1 5.843333     3.057333    3.758        1.199333   "
      ]
     },
     "metadata": {},
     "output_type": "display_data"
    }
   ],
   "source": [
    "iris %>% summarize_if(is.numeric, mean)"
   ]
  },
  {
   "cell_type": "markdown",
   "id": "3372885d",
   "metadata": {},
   "source": [
    "To find outliers or data problems, you need to look for very small\n",
    "values (often a suspicious large number of zeros) using min and for\n",
    "extremely large values using max. Comparing median and mean tells us if\n",
    "the distribution is symmetric.\n",
    "\n",
    "A visual method to inspect the data is to use a scatterplot matrix (we\n",
    "use here `ggpairs()` from package `GGally`). In this plot, we can\n",
    "visually identify noise data points and outliers (points that are far\n",
    "from the majority of other points)."
   ]
  },
  {
   "cell_type": "code",
   "execution_count": null,
   "id": "892ba732-aaa2-4228-93c7-da711e1cf0ff",
   "metadata": {},
   "outputs": [
    {
     "ename": "ERROR",
     "evalue": "Error in parse(text = x, srcfile = src): <text>:1:1: неожиданный ввод\n1: %conda install -y r-GGally\n    ^\n",
     "output_type": "error",
     "traceback": [
      "Error in parse(text = x, srcfile = src): <text>:1:1: неожиданный ввод\n1: %conda install -y r-GGally\n    ^\nTraceback:\n"
     ]
    }
   ],
   "source": [
    "%pip install r"
   ]
  },
  {
   "cell_type": "code",
   "execution_count": 8,
   "id": "2f7dfcc2",
   "metadata": {},
   "outputs": [
    {
     "name": "stderr",
     "output_type": "stream",
     "text": [
      "Warning message:\n",
      "“package ‘GGally’ was built under R version 3.6.3”"
     ]
    },
    {
     "ename": "ERROR",
     "evalue": "Error: package ‘ggplot2’ 3.1.1 is loaded, but >= 3.3.0 is required by ‘GGally’\n",
     "output_type": "error",
     "traceback": [
      "Error: package ‘ggplot2’ 3.1.1 is loaded, but >= 3.3.0 is required by ‘GGally’\nTraceback:\n",
      "1. library(GGally)",
      "2. .getRequiredPackages2(pkgInfo, quietly = quietly)",
      "3. stop(gettextf(msg, sQuote(pkg), current, dep$op, target, sQuote(pkgname)), \n .     call. = FALSE, domain = NA)"
     ]
    }
   ],
   "source": [
    "library(GGally)\n",
    "ggpairs(iris, aes(color = Species))"
   ]
  },
  {
   "cell_type": "markdown",
   "id": "5a134e62",
   "metadata": {},
   "source": [
    "See if you can spot the one red dot that is far away from all others.\n",
    "\n",
    "Many data mining methods require complete data, that is the data cannot\n",
    "contain missing values (`NA`). To remove missing values and duplicates\n",
    "(identical data points which might be a mistake in the data), we often\n",
    "do this:"
   ]
  },
  {
   "cell_type": "code",
   "execution_count": null,
   "id": "4323170d",
   "metadata": {},
   "outputs": [
    {
     "data": {
      "text/plain": [
       "  Sepal.Length    Sepal.Width    Petal.Length    Petal.Width          Species  \n",
       " Min.   :4.300   Min.   :2.00   Min.   :1.000   Min.   :0.100   setosa    :50  \n",
       " 1st Qu.:5.100   1st Qu.:2.80   1st Qu.:1.600   1st Qu.:0.300   versicolor:50  \n",
       " Median :5.800   Median :3.00   Median :4.300   Median :1.300   virginica :49  \n",
       " Mean   :5.844   Mean   :3.06   Mean   :3.749   Mean   :1.195                  \n",
       " 3rd Qu.:6.400   3rd Qu.:3.30   3rd Qu.:5.100   3rd Qu.:1.800                  \n",
       " Max.   :7.900   Max.   :4.40   Max.   :6.900   Max.   :2.500                  "
      ]
     },
     "metadata": {},
     "output_type": "display_data"
    }
   ],
   "source": [
    "clean.data <- iris %>% drop_na() %>% unique()\n",
    "summary(clean.data)"
   ]
  },
  {
   "cell_type": "markdown",
   "id": "1abe3e76",
   "metadata": {},
   "source": [
    "Note that one non-unique case is gone leaving only 149 flowers. The data\n",
    "did not contain missing values, but if it did, they would also have been\n",
    "dropped. Typically, you should spend a lot more time on data cleaning.\n",
    "\n",
    "## Aggregation\n",
    "\n",
    "Data often contains groups and we want to compare these groups. We group\n",
    "the iris dataset by species and then calculate a summary statistic for\n",
    "each group."
   ]
  },
  {
   "cell_type": "code",
   "execution_count": 29,
   "id": "3290b2cb",
   "metadata": {},
   "outputs": [
    {
     "data": {
      "text/html": [
       "<table>\n",
       "<thead><tr><th scope=col>Species</th><th scope=col>Sepal.Length</th><th scope=col>Sepal.Width</th><th scope=col>Petal.Length</th><th scope=col>Petal.Width</th></tr></thead>\n",
       "<tbody>\n",
       "\t<tr><td>setosa    </td><td>5.006     </td><td>3.428     </td><td>1.462     </td><td>0.246     </td></tr>\n",
       "\t<tr><td>versicolor</td><td>5.936     </td><td>2.770     </td><td>4.260     </td><td>1.326     </td></tr>\n",
       "\t<tr><td>virginica </td><td>6.588     </td><td>2.974     </td><td>5.552     </td><td>2.026     </td></tr>\n",
       "</tbody>\n",
       "</table>\n"
      ],
      "text/latex": [
       "\\begin{tabular}{r|lllll}\n",
       " Species & Sepal.Length & Sepal.Width & Petal.Length & Petal.Width\\\\\n",
       "\\hline\n",
       "\t setosa     & 5.006      & 3.428      & 1.462      & 0.246     \\\\\n",
       "\t versicolor & 5.936      & 2.770      & 4.260      & 1.326     \\\\\n",
       "\t virginica  & 6.588      & 2.974      & 5.552      & 2.026     \\\\\n",
       "\\end{tabular}\n"
      ],
      "text/markdown": [
       "\n",
       "| Species | Sepal.Length | Sepal.Width | Petal.Length | Petal.Width |\n",
       "|---|---|---|---|---|\n",
       "| setosa     | 5.006      | 3.428      | 1.462      | 0.246      |\n",
       "| versicolor | 5.936      | 2.770      | 4.260      | 1.326      |\n",
       "| virginica  | 6.588      | 2.974      | 5.552      | 2.026      |\n",
       "\n"
      ],
      "text/plain": [
       "  Species    Sepal.Length Sepal.Width Petal.Length Petal.Width\n",
       "1 setosa     5.006        3.428       1.462        0.246      \n",
       "2 versicolor 5.936        2.770       4.260        1.326      \n",
       "3 virginica  6.588        2.974       5.552        2.026      "
      ]
     },
     "metadata": {},
     "output_type": "display_data"
    },
    {
     "data": {
      "text/html": [
       "<table>\n",
       "<thead><tr><th scope=col>Species</th><th scope=col>Sepal.Length</th><th scope=col>Sepal.Width</th><th scope=col>Petal.Length</th><th scope=col>Petal.Width</th></tr></thead>\n",
       "<tbody>\n",
       "\t<tr><td>setosa    </td><td>5.0       </td><td>3.4       </td><td>1.50      </td><td>0.2       </td></tr>\n",
       "\t<tr><td>versicolor</td><td>5.9       </td><td>2.8       </td><td>4.35      </td><td>1.3       </td></tr>\n",
       "\t<tr><td>virginica </td><td>6.5       </td><td>3.0       </td><td>5.55      </td><td>2.0       </td></tr>\n",
       "</tbody>\n",
       "</table>\n"
      ],
      "text/latex": [
       "\\begin{tabular}{r|lllll}\n",
       " Species & Sepal.Length & Sepal.Width & Petal.Length & Petal.Width\\\\\n",
       "\\hline\n",
       "\t setosa     & 5.0        & 3.4        & 1.50       & 0.2       \\\\\n",
       "\t versicolor & 5.9        & 2.8        & 4.35       & 1.3       \\\\\n",
       "\t virginica  & 6.5        & 3.0        & 5.55       & 2.0       \\\\\n",
       "\\end{tabular}\n"
      ],
      "text/markdown": [
       "\n",
       "| Species | Sepal.Length | Sepal.Width | Petal.Length | Petal.Width |\n",
       "|---|---|---|---|---|\n",
       "| setosa     | 5.0        | 3.4        | 1.50       | 0.2        |\n",
       "| versicolor | 5.9        | 2.8        | 4.35       | 1.3        |\n",
       "| virginica  | 6.5        | 3.0        | 5.55       | 2.0        |\n",
       "\n"
      ],
      "text/plain": [
       "  Species    Sepal.Length Sepal.Width Petal.Length Petal.Width\n",
       "1 setosa     5.0          3.4         1.50         0.2        \n",
       "2 versicolor 5.9          2.8         4.35         1.3        \n",
       "3 virginica  6.5          3.0         5.55         2.0        "
      ]
     },
     "metadata": {},
     "output_type": "display_data"
    }
   ],
   "source": [
    "iris %>% group_by(Species) %>% summarize_all(mean)\n",
    "iris %>% group_by(Species) %>% summarize_all(median)"
   ]
  },
  {
   "cell_type": "markdown",
   "id": "23ace310",
   "metadata": {},
   "source": [
    "Using this information, we can compare how features differ between\n",
    "groups.\n",
    "\n",
    "## Sampling\n",
    "\n",
    "[Sampling](https://en.wikipedia.org/wiki/Sampling_(statistics)) is often\n",
    "used in data mining to reduce the dataset size before modeling or\n",
    "visualization.\n",
    "\n",
    "### Random Sampling\n",
    "\n",
    "The built-in sample function can sample from a vector. Here we sample\n",
    "with replacement."
   ]
  },
  {
   "cell_type": "code",
   "execution_count": 30,
   "id": "ef7b8451",
   "metadata": {},
   "outputs": [
    {
     "data": {
      "text/html": [
       "<ol class=list-inline>\n",
       "\t<li>'A'</li>\n",
       "\t<li>'A'</li>\n",
       "\t<li>'B'</li>\n",
       "\t<li>'A'</li>\n",
       "\t<li>'B'</li>\n",
       "\t<li>'A'</li>\n",
       "\t<li>'C'</li>\n",
       "\t<li>'B'</li>\n",
       "\t<li>'A'</li>\n",
       "\t<li>'A'</li>\n",
       "</ol>\n"
      ],
      "text/latex": [
       "\\begin{enumerate*}\n",
       "\\item 'A'\n",
       "\\item 'A'\n",
       "\\item 'B'\n",
       "\\item 'A'\n",
       "\\item 'B'\n",
       "\\item 'A'\n",
       "\\item 'C'\n",
       "\\item 'B'\n",
       "\\item 'A'\n",
       "\\item 'A'\n",
       "\\end{enumerate*}\n"
      ],
      "text/markdown": [
       "1. 'A'\n",
       "2. 'A'\n",
       "3. 'B'\n",
       "4. 'A'\n",
       "5. 'B'\n",
       "6. 'A'\n",
       "7. 'C'\n",
       "8. 'B'\n",
       "9. 'A'\n",
       "10. 'A'\n",
       "\n",
       "\n"
      ],
      "text/plain": [
       " [1] \"A\" \"A\" \"B\" \"A\" \"B\" \"A\" \"C\" \"B\" \"A\" \"A\""
      ]
     },
     "metadata": {},
     "output_type": "display_data"
    }
   ],
   "source": [
    "sample(c(\"A\", \"B\", \"C\"), size = 10, replace = TRUE)"
   ]
  },
  {
   "cell_type": "markdown",
   "id": "ff34fd1d",
   "metadata": {},
   "source": [
    "We often want to sample rows from a dataset. This can be done by\n",
    "sampling without replacement from a vector with row indices (using the\n",
    "functions `seq()` and `nrow()`). The sample vector is then used to\n",
    "subset the rows of the dataset."
   ]
  },
  {
   "cell_type": "code",
   "execution_count": 32,
   "id": "af89249a-2f40-4a32-9a60-8f7a14b48aa6",
   "metadata": {},
   "outputs": [
    {
     "data": {
      "text/html": [
       "<ol class=list-inline>\n",
       "\t<li>104</li>\n",
       "\t<li>85</li>\n",
       "\t<li>118</li>\n",
       "\t<li>68</li>\n",
       "\t<li>128</li>\n",
       "\t<li>14</li>\n",
       "\t<li>44</li>\n",
       "\t<li>108</li>\n",
       "\t<li>26</li>\n",
       "\t<li>107</li>\n",
       "\t<li>12</li>\n",
       "\t<li>17</li>\n",
       "\t<li>73</li>\n",
       "\t<li>74</li>\n",
       "\t<li>124</li>\n",
       "</ol>\n"
      ],
      "text/latex": [
       "\\begin{enumerate*}\n",
       "\\item 104\n",
       "\\item 85\n",
       "\\item 118\n",
       "\\item 68\n",
       "\\item 128\n",
       "\\item 14\n",
       "\\item 44\n",
       "\\item 108\n",
       "\\item 26\n",
       "\\item 107\n",
       "\\item 12\n",
       "\\item 17\n",
       "\\item 73\n",
       "\\item 74\n",
       "\\item 124\n",
       "\\end{enumerate*}\n"
      ],
      "text/markdown": [
       "1. 104\n",
       "2. 85\n",
       "3. 118\n",
       "4. 68\n",
       "5. 128\n",
       "6. 14\n",
       "7. 44\n",
       "8. 108\n",
       "9. 26\n",
       "10. 107\n",
       "11. 12\n",
       "12. 17\n",
       "13. 73\n",
       "14. 74\n",
       "15. 124\n",
       "\n",
       "\n"
      ],
      "text/plain": [
       " [1] 104  85 118  68 128  14  44 108  26 107  12  17  73  74 124"
      ]
     },
     "metadata": {},
     "output_type": "display_data"
    }
   ],
   "source": [
    "take <- sample(seq(nrow(iris)), size = 15)\n",
    "take"
   ]
  },
  {
   "cell_type": "code",
   "execution_count": 40,
   "id": "ebffd09b-90c5-4352-b3a4-14ecfc6d37b7",
   "metadata": {},
   "outputs": [
    {
     "data": {
      "text/html": [
       "<table>\n",
       "<thead><tr><th scope=col>Sepal.Length</th><th scope=col>Sepal.Width</th><th scope=col>Petal.Length</th><th scope=col>Petal.Width</th><th scope=col>Species</th></tr></thead>\n",
       "<tbody>\n",
       "\t<tr><td>6.6       </td><td>3.0       </td><td>4.4       </td><td>1.4       </td><td>versicolor</td></tr>\n",
       "\t<tr><td>5.1       </td><td>3.3       </td><td>1.7       </td><td>0.5       </td><td>setosa    </td></tr>\n",
       "\t<tr><td>6.4       </td><td>3.1       </td><td>5.5       </td><td>1.8       </td><td>virginica </td></tr>\n",
       "\t<tr><td>5.3       </td><td>3.7       </td><td>1.5       </td><td>0.2       </td><td>setosa    </td></tr>\n",
       "\t<tr><td>7.9       </td><td>3.8       </td><td>6.4       </td><td>2.0       </td><td>virginica </td></tr>\n",
       "\t<tr><td>6.8       </td><td>2.8       </td><td>4.8       </td><td>1.4       </td><td>versicolor</td></tr>\n",
       "\t<tr><td>6.4       </td><td>3.2       </td><td>4.5       </td><td>1.5       </td><td>versicolor</td></tr>\n",
       "\t<tr><td>7.4       </td><td>2.8       </td><td>6.1       </td><td>1.9       </td><td>virginica </td></tr>\n",
       "\t<tr><td>5.5       </td><td>3.5       </td><td>1.3       </td><td>0.2       </td><td>setosa    </td></tr>\n",
       "\t<tr><td>6.1       </td><td>3.0       </td><td>4.9       </td><td>1.8       </td><td>virginica </td></tr>\n",
       "\t<tr><td>6.4       </td><td>3.2       </td><td>5.3       </td><td>2.3       </td><td>virginica </td></tr>\n",
       "\t<tr><td>6.3       </td><td>2.3       </td><td>4.4       </td><td>1.3       </td><td>versicolor</td></tr>\n",
       "\t<tr><td>6.3       </td><td>2.7       </td><td>4.9       </td><td>1.8       </td><td>virginica </td></tr>\n",
       "\t<tr><td>6.7       </td><td>3.0       </td><td>5.2       </td><td>2.3       </td><td>virginica </td></tr>\n",
       "\t<tr><td>5.2       </td><td>3.4       </td><td>1.4       </td><td>0.2       </td><td>setosa    </td></tr>\n",
       "</tbody>\n",
       "</table>\n"
      ],
      "text/latex": [
       "\\begin{tabular}{r|lllll}\n",
       " Sepal.Length & Sepal.Width & Petal.Length & Petal.Width & Species\\\\\n",
       "\\hline\n",
       "\t 6.6        & 3.0        & 4.4        & 1.4        & versicolor\\\\\n",
       "\t 5.1        & 3.3        & 1.7        & 0.5        & setosa    \\\\\n",
       "\t 6.4        & 3.1        & 5.5        & 1.8        & virginica \\\\\n",
       "\t 5.3        & 3.7        & 1.5        & 0.2        & setosa    \\\\\n",
       "\t 7.9        & 3.8        & 6.4        & 2.0        & virginica \\\\\n",
       "\t 6.8        & 2.8        & 4.8        & 1.4        & versicolor\\\\\n",
       "\t 6.4        & 3.2        & 4.5        & 1.5        & versicolor\\\\\n",
       "\t 7.4        & 2.8        & 6.1        & 1.9        & virginica \\\\\n",
       "\t 5.5        & 3.5        & 1.3        & 0.2        & setosa    \\\\\n",
       "\t 6.1        & 3.0        & 4.9        & 1.8        & virginica \\\\\n",
       "\t 6.4        & 3.2        & 5.3        & 2.3        & virginica \\\\\n",
       "\t 6.3        & 2.3        & 4.4        & 1.3        & versicolor\\\\\n",
       "\t 6.3        & 2.7        & 4.9        & 1.8        & virginica \\\\\n",
       "\t 6.7        & 3.0        & 5.2        & 2.3        & virginica \\\\\n",
       "\t 5.2        & 3.4        & 1.4        & 0.2        & setosa    \\\\\n",
       "\\end{tabular}\n"
      ],
      "text/markdown": [
       "\n",
       "| Sepal.Length | Sepal.Width | Petal.Length | Petal.Width | Species |\n",
       "|---|---|---|---|---|\n",
       "| 6.6        | 3.0        | 4.4        | 1.4        | versicolor |\n",
       "| 5.1        | 3.3        | 1.7        | 0.5        | setosa     |\n",
       "| 6.4        | 3.1        | 5.5        | 1.8        | virginica  |\n",
       "| 5.3        | 3.7        | 1.5        | 0.2        | setosa     |\n",
       "| 7.9        | 3.8        | 6.4        | 2.0        | virginica  |\n",
       "| 6.8        | 2.8        | 4.8        | 1.4        | versicolor |\n",
       "| 6.4        | 3.2        | 4.5        | 1.5        | versicolor |\n",
       "| 7.4        | 2.8        | 6.1        | 1.9        | virginica  |\n",
       "| 5.5        | 3.5        | 1.3        | 0.2        | setosa     |\n",
       "| 6.1        | 3.0        | 4.9        | 1.8        | virginica  |\n",
       "| 6.4        | 3.2        | 5.3        | 2.3        | virginica  |\n",
       "| 6.3        | 2.3        | 4.4        | 1.3        | versicolor |\n",
       "| 6.3        | 2.7        | 4.9        | 1.8        | virginica  |\n",
       "| 6.7        | 3.0        | 5.2        | 2.3        | virginica  |\n",
       "| 5.2        | 3.4        | 1.4        | 0.2        | setosa     |\n",
       "\n"
      ],
      "text/plain": [
       "   Sepal.Length Sepal.Width Petal.Length Petal.Width Species   \n",
       "1  6.6          3.0         4.4          1.4         versicolor\n",
       "2  5.1          3.3         1.7          0.5         setosa    \n",
       "3  6.4          3.1         5.5          1.8         virginica \n",
       "4  5.3          3.7         1.5          0.2         setosa    \n",
       "5  7.9          3.8         6.4          2.0         virginica \n",
       "6  6.8          2.8         4.8          1.4         versicolor\n",
       "7  6.4          3.2         4.5          1.5         versicolor\n",
       "8  7.4          2.8         6.1          1.9         virginica \n",
       "9  5.5          3.5         1.3          0.2         setosa    \n",
       "10 6.1          3.0         4.9          1.8         virginica \n",
       "11 6.4          3.2         5.3          2.3         virginica \n",
       "12 6.3          2.3         4.4          1.3         versicolor\n",
       "13 6.3          2.7         4.9          1.8         virginica \n",
       "14 6.7          3.0         5.2          2.3         virginica \n",
       "15 5.2          3.4         1.4          0.2         setosa    "
      ]
     },
     "metadata": {},
     "output_type": "display_data"
    }
   ],
   "source": [
    "sample_n(clean.data, 15)"
   ]
  },
  {
   "cell_type": "code",
   "execution_count": 33,
   "id": "1d611ae3-fe79-4d84-9127-f03ed9810fa6",
   "metadata": {},
   "outputs": [
    {
     "data": {
      "text/html": [
       "<table>\n",
       "<thead><tr><th scope=col>Sepal.Length</th><th scope=col>Sepal.Width</th><th scope=col>Petal.Length</th><th scope=col>Petal.Width</th><th scope=col>Species</th></tr></thead>\n",
       "<tbody>\n",
       "\t<tr><td>6.3       </td><td>2.9       </td><td>5.6       </td><td>1.8       </td><td>virginica </td></tr>\n",
       "\t<tr><td>5.4       </td><td>3.0       </td><td>4.5       </td><td>1.5       </td><td>versicolor</td></tr>\n",
       "\t<tr><td>7.7       </td><td>3.8       </td><td>6.7       </td><td>2.2       </td><td>virginica </td></tr>\n",
       "\t<tr><td>5.8       </td><td>2.7       </td><td>4.1       </td><td>1.0       </td><td>versicolor</td></tr>\n",
       "\t<tr><td>6.1       </td><td>3.0       </td><td>4.9       </td><td>1.8       </td><td>virginica </td></tr>\n",
       "\t<tr><td>4.3       </td><td>3.0       </td><td>1.1       </td><td>0.1       </td><td>setosa    </td></tr>\n",
       "\t<tr><td>5.0       </td><td>3.5       </td><td>1.6       </td><td>0.6       </td><td>setosa    </td></tr>\n",
       "\t<tr><td>7.3       </td><td>2.9       </td><td>6.3       </td><td>1.8       </td><td>virginica </td></tr>\n",
       "\t<tr><td>5.0       </td><td>3.0       </td><td>1.6       </td><td>0.2       </td><td>setosa    </td></tr>\n",
       "\t<tr><td>4.9       </td><td>2.5       </td><td>4.5       </td><td>1.7       </td><td>virginica </td></tr>\n",
       "\t<tr><td>4.8       </td><td>3.4       </td><td>1.6       </td><td>0.2       </td><td>setosa    </td></tr>\n",
       "\t<tr><td>5.4       </td><td>3.9       </td><td>1.3       </td><td>0.4       </td><td>setosa    </td></tr>\n",
       "\t<tr><td>6.3       </td><td>2.5       </td><td>4.9       </td><td>1.5       </td><td>versicolor</td></tr>\n",
       "\t<tr><td>6.1       </td><td>2.8       </td><td>4.7       </td><td>1.2       </td><td>versicolor</td></tr>\n",
       "\t<tr><td>6.3       </td><td>2.7       </td><td>4.9       </td><td>1.8       </td><td>virginica </td></tr>\n",
       "</tbody>\n",
       "</table>\n"
      ],
      "text/latex": [
       "\\begin{tabular}{r|lllll}\n",
       " Sepal.Length & Sepal.Width & Petal.Length & Petal.Width & Species\\\\\n",
       "\\hline\n",
       "\t 6.3        & 2.9        & 5.6        & 1.8        & virginica \\\\\n",
       "\t 5.4        & 3.0        & 4.5        & 1.5        & versicolor\\\\\n",
       "\t 7.7        & 3.8        & 6.7        & 2.2        & virginica \\\\\n",
       "\t 5.8        & 2.7        & 4.1        & 1.0        & versicolor\\\\\n",
       "\t 6.1        & 3.0        & 4.9        & 1.8        & virginica \\\\\n",
       "\t 4.3        & 3.0        & 1.1        & 0.1        & setosa    \\\\\n",
       "\t 5.0        & 3.5        & 1.6        & 0.6        & setosa    \\\\\n",
       "\t 7.3        & 2.9        & 6.3        & 1.8        & virginica \\\\\n",
       "\t 5.0        & 3.0        & 1.6        & 0.2        & setosa    \\\\\n",
       "\t 4.9        & 2.5        & 4.5        & 1.7        & virginica \\\\\n",
       "\t 4.8        & 3.4        & 1.6        & 0.2        & setosa    \\\\\n",
       "\t 5.4        & 3.9        & 1.3        & 0.4        & setosa    \\\\\n",
       "\t 6.3        & 2.5        & 4.9        & 1.5        & versicolor\\\\\n",
       "\t 6.1        & 2.8        & 4.7        & 1.2        & versicolor\\\\\n",
       "\t 6.3        & 2.7        & 4.9        & 1.8        & virginica \\\\\n",
       "\\end{tabular}\n"
      ],
      "text/markdown": [
       "\n",
       "| Sepal.Length | Sepal.Width | Petal.Length | Petal.Width | Species |\n",
       "|---|---|---|---|---|\n",
       "| 6.3        | 2.9        | 5.6        | 1.8        | virginica  |\n",
       "| 5.4        | 3.0        | 4.5        | 1.5        | versicolor |\n",
       "| 7.7        | 3.8        | 6.7        | 2.2        | virginica  |\n",
       "| 5.8        | 2.7        | 4.1        | 1.0        | versicolor |\n",
       "| 6.1        | 3.0        | 4.9        | 1.8        | virginica  |\n",
       "| 4.3        | 3.0        | 1.1        | 0.1        | setosa     |\n",
       "| 5.0        | 3.5        | 1.6        | 0.6        | setosa     |\n",
       "| 7.3        | 2.9        | 6.3        | 1.8        | virginica  |\n",
       "| 5.0        | 3.0        | 1.6        | 0.2        | setosa     |\n",
       "| 4.9        | 2.5        | 4.5        | 1.7        | virginica  |\n",
       "| 4.8        | 3.4        | 1.6        | 0.2        | setosa     |\n",
       "| 5.4        | 3.9        | 1.3        | 0.4        | setosa     |\n",
       "| 6.3        | 2.5        | 4.9        | 1.5        | versicolor |\n",
       "| 6.1        | 2.8        | 4.7        | 1.2        | versicolor |\n",
       "| 6.3        | 2.7        | 4.9        | 1.8        | virginica  |\n",
       "\n"
      ],
      "text/plain": [
       "   Sepal.Length Sepal.Width Petal.Length Petal.Width Species   \n",
       "1  6.3          2.9         5.6          1.8         virginica \n",
       "2  5.4          3.0         4.5          1.5         versicolor\n",
       "3  7.7          3.8         6.7          2.2         virginica \n",
       "4  5.8          2.7         4.1          1.0         versicolor\n",
       "5  6.1          3.0         4.9          1.8         virginica \n",
       "6  4.3          3.0         1.1          0.1         setosa    \n",
       "7  5.0          3.5         1.6          0.6         setosa    \n",
       "8  7.3          2.9         6.3          1.8         virginica \n",
       "9  5.0          3.0         1.6          0.2         setosa    \n",
       "10 4.9          2.5         4.5          1.7         virginica \n",
       "11 4.8          3.4         1.6          0.2         setosa    \n",
       "12 5.4          3.9         1.3          0.4         setosa    \n",
       "13 6.3          2.5         4.9          1.5         versicolor\n",
       "14 6.1          2.8         4.7          1.2         versicolor\n",
       "15 6.3          2.7         4.9          1.8         virginica "
      ]
     },
     "metadata": {},
     "output_type": "display_data"
    }
   ],
   "source": [
    "iris[take, ]"
   ]
  },
  {
   "cell_type": "markdown",
   "id": "defe8ba8",
   "metadata": {},
   "source": [
    "`dplyr` from tidyverse lets us sample rows from tibbles directly using\n",
    "`slice_sample()`. I set the random number generator seed to make the\n",
    "results reproducible."
   ]
  },
  {
   "cell_type": "code",
   "execution_count": 41,
   "id": "d06ab35f-7c5b-4843-bbdf-8c10a852fd61",
   "metadata": {},
   "outputs": [
    {
     "ename": "ERROR",
     "evalue": "Error in slice_sample(., n = 15): не могу найти функцию \"slice_sample\"\n",
     "output_type": "error",
     "traceback": [
      "Error in slice_sample(., n = 15): не могу найти функцию \"slice_sample\"\nTraceback:\n",
      "1. iris %>% slice_sample(n = 15)",
      "2. withVisible(eval(quote(`_fseq`(`_lhs`)), env, env))",
      "3. eval(quote(`_fseq`(`_lhs`)), env, env)",
      "4. eval(quote(`_fseq`(`_lhs`)), env, env)",
      "5. `_fseq`(`_lhs`)",
      "6. freduce(value, `_function_list`)",
      "7. withVisible(function_list[[k]](value))",
      "8. function_list[[k]](value)"
     ]
    }
   ],
   "source": [
    "set.seed(1000)\n",
    "\n",
    "s <- iris %>% slice_sample(n = 15)"
   ]
  },
  {
   "cell_type": "code",
   "execution_count": null,
   "id": "521ab8e2-0fbf-46cc-a5ed-6bfc52344fcd",
   "metadata": {},
   "outputs": [],
   "source": [
    "ggpairs(s, aes(color = Species))"
   ]
  },
  {
   "cell_type": "markdown",
   "id": "03b17778",
   "metadata": {},
   "source": [
    "### Stratified Sampling\n",
    "\n",
    "[Stratified sampling](https://en.wikipedia.org/wiki/Stratified_sampling)\n",
    "is a method of sampling from a population which can be partitioned into\n",
    "subpopulations, while controlling the proportions of the subpopulation\n",
    "in the resulting sample.\n",
    "\n",
    "In the following, the subpopulations are the different types of species\n",
    "and we want to make sure to sample the same number (5) flowers from\n",
    "each. The library `sampling` provides a function for stratified\n",
    "sampling. The column `ID_unit` in the resulting data.frame contains the\n",
    "row numbers of the sampled rows. We can use `slice()` from `dplyr` to\n",
    "select the sampled rows."
   ]
  },
  {
   "cell_type": "code",
   "execution_count": 45,
   "id": "1f28620c-0bee-4731-8f00-efed2066d9f0",
   "metadata": {},
   "outputs": [
    {
     "data": {
      "text/html": [
       "<table>\n",
       "<thead><tr><th scope=col>Sepal.Length</th><th scope=col>Sepal.Width</th><th scope=col>Petal.Length</th><th scope=col>Petal.Width</th><th scope=col>Species</th></tr></thead>\n",
       "<tbody>\n",
       "\t<tr><td>5.1   </td><td>3.5   </td><td>1.4   </td><td>0.2   </td><td>setosa</td></tr>\n",
       "\t<tr><td>4.9   </td><td>3.0   </td><td>1.4   </td><td>0.2   </td><td>setosa</td></tr>\n",
       "\t<tr><td>4.7   </td><td>3.2   </td><td>1.3   </td><td>0.2   </td><td>setosa</td></tr>\n",
       "\t<tr><td>4.6   </td><td>3.1   </td><td>1.5   </td><td>0.2   </td><td>setosa</td></tr>\n",
       "\t<tr><td>5.0   </td><td>3.6   </td><td>1.4   </td><td>0.2   </td><td>setosa</td></tr>\n",
       "\t<tr><td>5.4   </td><td>3.9   </td><td>1.7   </td><td>0.4   </td><td>setosa</td></tr>\n",
       "</tbody>\n",
       "</table>\n"
      ],
      "text/latex": [
       "\\begin{tabular}{r|lllll}\n",
       " Sepal.Length & Sepal.Width & Petal.Length & Petal.Width & Species\\\\\n",
       "\\hline\n",
       "\t 5.1    & 3.5    & 1.4    & 0.2    & setosa\\\\\n",
       "\t 4.9    & 3.0    & 1.4    & 0.2    & setosa\\\\\n",
       "\t 4.7    & 3.2    & 1.3    & 0.2    & setosa\\\\\n",
       "\t 4.6    & 3.1    & 1.5    & 0.2    & setosa\\\\\n",
       "\t 5.0    & 3.6    & 1.4    & 0.2    & setosa\\\\\n",
       "\t 5.4    & 3.9    & 1.7    & 0.4    & setosa\\\\\n",
       "\\end{tabular}\n"
      ],
      "text/markdown": [
       "\n",
       "| Sepal.Length | Sepal.Width | Petal.Length | Petal.Width | Species |\n",
       "|---|---|---|---|---|\n",
       "| 5.1    | 3.5    | 1.4    | 0.2    | setosa |\n",
       "| 4.9    | 3.0    | 1.4    | 0.2    | setosa |\n",
       "| 4.7    | 3.2    | 1.3    | 0.2    | setosa |\n",
       "| 4.6    | 3.1    | 1.5    | 0.2    | setosa |\n",
       "| 5.0    | 3.6    | 1.4    | 0.2    | setosa |\n",
       "| 5.4    | 3.9    | 1.7    | 0.4    | setosa |\n",
       "\n"
      ],
      "text/plain": [
       "  Sepal.Length Sepal.Width Petal.Length Petal.Width Species\n",
       "1 5.1          3.5         1.4          0.2         setosa \n",
       "2 4.9          3.0         1.4          0.2         setosa \n",
       "3 4.7          3.2         1.3          0.2         setosa \n",
       "4 4.6          3.1         1.5          0.2         setosa \n",
       "5 5.0          3.6         1.4          0.2         setosa \n",
       "6 5.4          3.9         1.7          0.4         setosa "
      ]
     },
     "metadata": {},
     "output_type": "display_data"
    }
   ],
   "source": [
    "iris %>% head"
   ]
  },
  {
   "cell_type": "code",
   "execution_count": 50,
   "id": "53bd65d3-1bfd-4356-8c44-ab70832daf6e",
   "metadata": {},
   "outputs": [
    {
     "data": {
      "text/html": [
       "<table>\n",
       "<thead><tr><th scope=col>Species</th><th scope=col>n</th></tr></thead>\n",
       "<tbody>\n",
       "\t<tr><td>setosa    </td><td>50        </td></tr>\n",
       "\t<tr><td>versicolor</td><td>50        </td></tr>\n",
       "\t<tr><td>virginica </td><td>50        </td></tr>\n",
       "</tbody>\n",
       "</table>\n"
      ],
      "text/latex": [
       "\\begin{tabular}{r|ll}\n",
       " Species & n\\\\\n",
       "\\hline\n",
       "\t setosa     & 50        \\\\\n",
       "\t versicolor & 50        \\\\\n",
       "\t virginica  & 50        \\\\\n",
       "\\end{tabular}\n"
      ],
      "text/markdown": [
       "\n",
       "| Species | n |\n",
       "|---|---|\n",
       "| setosa     | 50         |\n",
       "| versicolor | 50         |\n",
       "| virginica  | 50         |\n",
       "\n"
      ],
      "text/plain": [
       "  Species    n \n",
       "1 setosa     50\n",
       "2 versicolor 50\n",
       "3 virginica  50"
      ]
     },
     "metadata": {},
     "output_type": "display_data"
    }
   ],
   "source": [
    "iris %>% count(Species)"
   ]
  },
  {
   "cell_type": "code",
   "execution_count": 56,
   "id": "60fdca3f-8b85-4d4e-8804-6c779298f682",
   "metadata": {},
   "outputs": [
    {
     "data": {
      "text/html": [
       "<table>\n",
       "<thead><tr><th></th><th scope=col>Sepal.Length</th><th scope=col>Sepal.Width</th><th scope=col>Petal.Length</th><th scope=col>Petal.Width</th></tr></thead>\n",
       "<tbody>\n",
       "\t<tr><th scope=row>Sepal.Length</th><td> 0.6856935</td><td>-0.0424340</td><td> 1.2743154</td><td> 0.5162707</td></tr>\n",
       "\t<tr><th scope=row>Sepal.Width</th><td>-0.0424340</td><td> 0.1899794</td><td>-0.3296564</td><td>-0.1216394</td></tr>\n",
       "\t<tr><th scope=row>Petal.Length</th><td> 1.2743154</td><td>-0.3296564</td><td> 3.1162779</td><td> 1.2956094</td></tr>\n",
       "\t<tr><th scope=row>Petal.Width</th><td> 0.5162707</td><td>-0.1216394</td><td> 1.2956094</td><td> 0.5810063</td></tr>\n",
       "</tbody>\n",
       "</table>\n"
      ],
      "text/latex": [
       "\\begin{tabular}{r|llll}\n",
       "  & Sepal.Length & Sepal.Width & Petal.Length & Petal.Width\\\\\n",
       "\\hline\n",
       "\tSepal.Length &  0.6856935 & -0.0424340 &  1.2743154 &  0.5162707\\\\\n",
       "\tSepal.Width & -0.0424340 &  0.1899794 & -0.3296564 & -0.1216394\\\\\n",
       "\tPetal.Length &  1.2743154 & -0.3296564 &  3.1162779 &  1.2956094\\\\\n",
       "\tPetal.Width &  0.5162707 & -0.1216394 &  1.2956094 &  0.5810063\\\\\n",
       "\\end{tabular}\n"
      ],
      "text/markdown": [
       "\n",
       "| <!--/--> | Sepal.Length | Sepal.Width | Petal.Length | Petal.Width |\n",
       "|---|---|---|---|---|\n",
       "| Sepal.Length |  0.6856935 | -0.0424340 |  1.2743154 |  0.5162707 |\n",
       "| Sepal.Width | -0.0424340 |  0.1899794 | -0.3296564 | -0.1216394 |\n",
       "| Petal.Length |  1.2743154 | -0.3296564 |  3.1162779 |  1.2956094 |\n",
       "| Petal.Width |  0.5162707 | -0.1216394 |  1.2956094 |  0.5810063 |\n",
       "\n"
      ],
      "text/plain": [
       "             Sepal.Length Sepal.Width Petal.Length Petal.Width\n",
       "Sepal.Length  0.6856935   -0.0424340   1.2743154    0.5162707 \n",
       "Sepal.Width  -0.0424340    0.1899794  -0.3296564   -0.1216394 \n",
       "Petal.Length  1.2743154   -0.3296564   3.1162779    1.2956094 \n",
       "Petal.Width   0.5162707   -0.1216394   1.2956094    0.5810063 "
      ]
     },
     "metadata": {},
     "output_type": "display_data"
    }
   ],
   "source": [
    "cov(iris %>% select_if(is.numeric))"
   ]
  },
  {
   "cell_type": "code",
   "execution_count": 55,
   "id": "77bcd4bf-debe-4dc9-b0c1-d645324b19a2",
   "metadata": {},
   "outputs": [
    {
     "data": {
      "text/html": [
       "<table>\n",
       "<thead><tr><th></th><th scope=col>Sepal.Length</th><th scope=col>Sepal.Width</th><th scope=col>Petal.Length</th><th scope=col>Petal.Width</th></tr></thead>\n",
       "<tbody>\n",
       "\t<tr><th scope=row>Sepal.Length</th><td> 1.0000000</td><td>-0.1175698</td><td> 0.8717538</td><td> 0.8179411</td></tr>\n",
       "\t<tr><th scope=row>Sepal.Width</th><td>-0.1175698</td><td> 1.0000000</td><td>-0.4284401</td><td>-0.3661259</td></tr>\n",
       "\t<tr><th scope=row>Petal.Length</th><td> 0.8717538</td><td>-0.4284401</td><td> 1.0000000</td><td> 0.9628654</td></tr>\n",
       "\t<tr><th scope=row>Petal.Width</th><td> 0.8179411</td><td>-0.3661259</td><td> 0.9628654</td><td> 1.0000000</td></tr>\n",
       "</tbody>\n",
       "</table>\n"
      ],
      "text/latex": [
       "\\begin{tabular}{r|llll}\n",
       "  & Sepal.Length & Sepal.Width & Petal.Length & Petal.Width\\\\\n",
       "\\hline\n",
       "\tSepal.Length &  1.0000000 & -0.1175698 &  0.8717538 &  0.8179411\\\\\n",
       "\tSepal.Width & -0.1175698 &  1.0000000 & -0.4284401 & -0.3661259\\\\\n",
       "\tPetal.Length &  0.8717538 & -0.4284401 &  1.0000000 &  0.9628654\\\\\n",
       "\tPetal.Width &  0.8179411 & -0.3661259 &  0.9628654 &  1.0000000\\\\\n",
       "\\end{tabular}\n"
      ],
      "text/markdown": [
       "\n",
       "| <!--/--> | Sepal.Length | Sepal.Width | Petal.Length | Petal.Width |\n",
       "|---|---|---|---|---|\n",
       "| Sepal.Length |  1.0000000 | -0.1175698 |  0.8717538 |  0.8179411 |\n",
       "| Sepal.Width | -0.1175698 |  1.0000000 | -0.4284401 | -0.3661259 |\n",
       "| Petal.Length |  0.8717538 | -0.4284401 |  1.0000000 |  0.9628654 |\n",
       "| Petal.Width |  0.8179411 | -0.3661259 |  0.9628654 |  1.0000000 |\n",
       "\n"
      ],
      "text/plain": [
       "             Sepal.Length Sepal.Width Petal.Length Petal.Width\n",
       "Sepal.Length  1.0000000   -0.1175698   0.8717538    0.8179411 \n",
       "Sepal.Width  -0.1175698    1.0000000  -0.4284401   -0.3661259 \n",
       "Petal.Length  0.8717538   -0.4284401   1.0000000    0.9628654 \n",
       "Petal.Width   0.8179411   -0.3661259   0.9628654    1.0000000 "
      ]
     },
     "metadata": {},
     "output_type": "display_data"
    }
   ],
   "source": [
    "cor(iris %>% select_if(is.numeric))"
   ]
  },
  {
   "cell_type": "code",
   "execution_count": 42,
   "id": "ccd0ece7-e1ea-4672-be51-3269be5904b3",
   "metadata": {},
   "outputs": [
    {
     "ename": "ERROR",
     "evalue": "Error in library(sampling): there is no package called ‘sampling’\n",
     "output_type": "error",
     "traceback": [
      "Error in library(sampling): there is no package called ‘sampling’\nTraceback:\n",
      "1. library(sampling)"
     ]
    }
   ],
   "source": [
    "library(sampling)\n",
    "id2 <- strata(iris, stratanames = \"Species\", size = c(5,5,5), method = \"srswor\")\n",
    "id2"
   ]
  },
  {
   "cell_type": "code",
   "execution_count": null,
   "id": "042c1a87-9573-4c6a-a166-be3363f5061a",
   "metadata": {},
   "outputs": [],
   "source": [
    "s2 <- iris %>% slice(id2$ID_unit)\n",
    "ggpairs(s2, aes(color = Species))"
   ]
  },
  {
   "cell_type": "markdown",
   "id": "6933d53f",
   "metadata": {},
   "source": [
    "## Features\n",
    "\n",
    "### Dimensionality Reduction\n",
    "\n",
    "#### Principal Components Analysis (PCA)\n",
    "\n",
    "[PCA](https://en.wikipedia.org/wiki/Principal_component_analysis)\n",
    "calculates principal components (a set of new orthonormal basis vectors\n",
    "in the data space) from data points such that the first principal\n",
    "component explains the most variability in the data, the second the next\n",
    "most and so on. In data analysis, PCA is used to project\n",
    "high-dimensional data points onto the first few (typically two)\n",
    "principal components for visualization as a scatter plot and as\n",
    "preprocessing for modeling (e.g., before k-means clustering). Points\n",
    "that are closer together in the high-dimensional original space, tend\n",
    "also be closer together when projected into the lower-dimensional space,\n",
    "\n",
    "We can use an interactive 3-d plot (from package `plotly`) to look at\n",
    "three of the four dimensions of the iris dataset. Note that it is hard\n",
    "to visualize more than 3 dimensions."
   ]
  },
  {
   "cell_type": "code",
   "execution_count": null,
   "id": "c488fe08",
   "metadata": {},
   "outputs": [],
   "source": [
    "# library(plotly) # I don't load the package because it's namespace clashes with select in dplyr.\n",
    "plotly::plot_ly(iris, x = ~Sepal.Length, y = ~Petal.Length, z = ~Sepal.Width,\n",
    "  size = ~Petal.Width, color = ~Species, type=\"scatter3d\")"
   ]
  },
  {
   "cell_type": "markdown",
   "id": "dd88e7b9",
   "metadata": {},
   "source": [
    "The principal components can be calculated from a matrix using the\n",
    "function `prcomp()`. We select all numeric columns (by unselecting the\n",
    "species column) and convert the tibble into a matrix before the\n",
    "calculation."
   ]
  },
  {
   "cell_type": "code",
   "execution_count": 7,
   "id": "309634ce-4ca5-44df-b687-ceb60836068c",
   "metadata": {},
   "outputs": [],
   "source": [
    "update.packages(\"ggplot2\")"
   ]
  },
  {
   "cell_type": "code",
   "execution_count": 11,
   "id": "e51f88d0",
   "metadata": {},
   "outputs": [
    {
     "data": {
      "text/plain": [
       "Importance of components:\n",
       "                          PC1     PC2    PC3     PC4\n",
       "Standard deviation     2.0563 0.49262 0.2797 0.15439\n",
       "Proportion of Variance 0.9246 0.05307 0.0171 0.00521\n",
       "Cumulative Proportion  0.9246 0.97769 0.9948 1.00000"
      ]
     },
     "metadata": {},
     "output_type": "display_data"
    }
   ],
   "source": [
    "pc <- iris %>% select(-Species) %>% as.matrix() %>% prcomp()\n",
    "summary(pc)"
   ]
  },
  {
   "cell_type": "markdown",
   "id": "16584b11",
   "metadata": {},
   "source": [
    "How important is each principal component can also be seen using a\n",
    "[scree plot](https://en.wikipedia.org/wiki/Scree_plot). The plot\n",
    "function for the result of the `prcomp` function visualizes how much\n",
    "variability in the data is explained by each additional principal\n",
    "component."
   ]
  },
  {
   "cell_type": "code",
   "execution_count": 10,
   "id": "066b90d2",
   "metadata": {},
   "outputs": [
    {
     "data": {
      "image/png": "[encoded data removed]",
      "text/plain": [
       "Plot with title “pc”"
      ]
     },
     "metadata": {},
     "output_type": "display_data"
    }
   ],
   "source": [
    "plot(pc, type = \"line\")"
   ]
  },
  {
   "cell_type": "markdown",
   "id": "21202974",
   "metadata": {},
   "source": [
    "Note that the first principal component (PC1) explains most of the\n",
    "variability in the iris dataset.\n",
    "\n",
    "To find out what information is stored in the object `pc`, we can\n",
    "inspect the raw object (display *str*ucture)."
   ]
  },
  {
   "cell_type": "code",
   "execution_count": null,
   "id": "88930d8d",
   "metadata": {},
   "outputs": [],
   "source": [
    "str(pc)"
   ]
  },
  {
   "cell_type": "markdown",
   "id": "9fab2af4",
   "metadata": {},
   "source": [
    "The object `pc` (like most objects in R) is a list with a class\n",
    "attribute. The list element `x` contains the data points projected on\n",
    "the principal components. We can convert the matrix into a tibble and\n",
    "add the species column from the original dataset back (since the rows\n",
    "are in the same order), and then display the data projected on the first\n",
    "two principal components."
   ]
  },
  {
   "cell_type": "code",
   "execution_count": 6,
   "id": "6b336fd7",
   "metadata": {},
   "outputs": [
    {
     "data": {
      "image/png": "[encoded data removed]",
      "text/plain": [
       "plot without title"
      ]
     },
     "metadata": {},
     "output_type": "display_data"
    }
   ],
   "source": [
    "iris_projected <- as_tibble(pc$x) %>% add_column(Species = iris$Species)\n",
    "ggplot(iris_projected, aes(x = PC1, y = PC2, color = Species)) + \n",
    "  geom_point()"
   ]
  },
  {
   "cell_type": "markdown",
   "id": "196bceaa",
   "metadata": {},
   "source": [
    "Flowers that are displayed close together in this projection are also\n",
    "close together in the original 4-dimensional space. Since the first\n",
    "principal component represents most of the variability, we can also show\n",
    "the data projected only on PC1."
   ]
  },
  {
   "cell_type": "code",
   "execution_count": null,
   "id": "02b1d701",
   "metadata": {},
   "outputs": [],
   "source": [
    "ggplot(iris_projected, \n",
    "  aes(x = PC1, y = 0, color = Species)) + \n",
    "  geom_point() +\n",
    "  scale_y_continuous(expand=c(0,0)) +\n",
    "  theme(axis.text.y = element_blank(),\n",
    "      axis.title.y = element_blank()\n",
    "  )"
   ]
  },
  {
   "cell_type": "markdown",
   "id": "de916b01",
   "metadata": {},
   "source": [
    "We see that we can perfectly separate the species Setosa using just the\n",
    "first principal component. The other two species are harder to separate.\n",
    "\n",
    "A plot of the projected data with the original axes added as arrows is\n",
    "called a [biplot](https://en.wikipedia.org/wiki/Biplot). If the arrows\n",
    "(original axes) align roughly with the axes of the projection, then they\n",
    "are correlated (linearly dependent)."
   ]
  },
  {
   "cell_type": "code",
   "execution_count": null,
   "id": "4c775f8d",
   "metadata": {},
   "outputs": [],
   "source": [
    "library(factoextra)\n",
    "fviz_pca(pc)"
   ]
  },
  {
   "cell_type": "markdown",
   "id": "26b4ac27",
   "metadata": {},
   "source": [
    "We can also display only the old and new axes."
   ]
  },
  {
   "cell_type": "code",
   "execution_count": null,
   "id": "dafbd3a1",
   "metadata": {},
   "outputs": [],
   "source": [
    "fviz_pca_var(pc)"
   ]
  },
  {
   "cell_type": "markdown",
   "id": "1cf11b5c",
   "metadata": {},
   "source": [
    "We see Petal.Width and Petal.Length point in the same direction which\n",
    "indicates that they are highly correlated. They are also roughly aligned\n",
    "with PC1 (called Dim1 in the plot) which means that PC1 represents most\n",
    "of the variability of these two variables. Sepal.Width is almost aligned\n",
    "with the y-axis and therefore it is represented by PC2 (Dim2).\n",
    "Petal.Width/Petal.Length and Sepal.Width are almost at 90 degrees,\n",
    "indicating that they are close to uncorrelated. Sepal.Length is\n",
    "correlated to all other variables and represented by both, PC1 and PC2\n",
    "in the projection.\n",
    "\n",
    "There exist other methods to embed data from higher dimensions into a\n",
    "lower-dimensional space. A popular method to project data into lower\n",
    "dimensions for visualization is **t-distributed stochastic neighbor\n",
    "embedding (t-SNE)** available in package `Rtsne`.\n",
    "\n",
    "#### Multi-Dimensional Scaling (MDS)\n",
    "\n",
    "[MDS](https://en.wikipedia.org/wiki/Multidimensional_scaling) is similar\n",
    "to PCA. Instead of data points, it starts with pairwise distances (i.e.,\n",
    "a distance matrix) and produces a space where points are placed to\n",
    "represent these distances as well as possible. The axes in this space\n",
    "are called components and are similar to the principal components in\n",
    "PCA.\n",
    "\n",
    "First, we calculate a distance matrix (Euclidean distances) from the 4-d\n",
    "space of the iris dataset."
   ]
  },
  {
   "cell_type": "code",
   "execution_count": null,
   "id": "be968c5c",
   "metadata": {},
   "outputs": [],
   "source": [
    "d <- iris %>% select(-Species) %>% dist()"
   ]
  },
  {
   "cell_type": "markdown",
   "id": "45a7210e",
   "metadata": {},
   "source": [
    "Metric (classic) MDS tries to construct a space where points with lower\n",
    "distances are placed closer together. We project the data represented by\n",
    "a distance matrix on `k = 2` dimensions."
   ]
  },
  {
   "cell_type": "code",
   "execution_count": null,
   "id": "8273a23d",
   "metadata": {},
   "outputs": [],
   "source": [
    "fit <- cmdscale(d, k = 2)\n",
    "colnames(fit) <- c(\"comp1\", \"comp2\")\n",
    "fit <- as_tibble(fit) %>% add_column(Species = iris$Species)\n",
    "\n",
    "ggplot(fit, aes(x = comp1, y = comp2, color = Species)) + geom_point()"
   ]
  },
  {
   "cell_type": "markdown",
   "id": "6a104105",
   "metadata": {},
   "source": [
    "The resulting projection is similar (except for rotation and reflection)\n",
    "to the result of the projection using PCA.\n",
    "\n",
    "#### Non-Parametric Multidimensional Scaling\n",
    "\n",
    "Non-parametric multidimensional scaling performs MDS while relaxing the\n",
    "need of linear relationships. Methods are available in package `MASS` as\n",
    "functions `isoMDS()` and `sammon()`.\n",
    "\n",
    "### Feature Selection\n",
    "\n",
    "Feature selection is the process of identifying the features that are\n",
    "used to create a model. We will talk about feature selection when we\n",
    "discuss classification models in Chapter 3 in \\[Feature Selection and\n",
    "Feature Preparation\\].\n",
    "\n",
    "### Discretize Features\n",
    "\n",
    "Some data mining methods require discrete data. Discretization converts\n",
    "continuous features into discrete features. As an example, we will\n",
    "discretize the continuous feature Petal.Width. Before we perform\n",
    "discretization, we should look at the distribution and see if it gives\n",
    "us an idea how we should group the continuous values into a set of\n",
    "discrete values. A histogram visualizes the distribution of a single\n",
    "continuous feature."
   ]
  },
  {
   "cell_type": "code",
   "execution_count": null,
   "id": "a8c6df91",
   "metadata": {},
   "outputs": [],
   "source": [
    "ggplot(iris, aes(x = Petal.Width)) + geom_histogram(binwidth = .2)"
   ]
  },
  {
   "cell_type": "markdown",
   "id": "19d92e57",
   "metadata": {},
   "source": [
    "The bins in the histogram represent a discretization using a fixed bin\n",
    "width. The R function `cut()` performs equal interval width\n",
    "discretization."
   ]
  },
  {
   "cell_type": "code",
   "execution_count": null,
   "id": "e4f9f68f",
   "metadata": {},
   "outputs": [],
   "source": [
    "iris %>% pull(Sepal.Width) %>% cut(breaks = 3)"
   ]
  },
  {
   "cell_type": "markdown",
   "id": "a23100e9",
   "metadata": {},
   "source": [
    "Other discretization methods include equal frequency discretization or\n",
    "using k-means clustering. These methods are implemented by several R\n",
    "packages. We use here the implementation in package `arules` and\n",
    "visualize the results as histograms with blue lines to separate\n",
    "intervals assigned to each discrete value."
   ]
  },
  {
   "cell_type": "code",
   "execution_count": null,
   "id": "fa12e994",
   "metadata": {},
   "outputs": [],
   "source": [
    "library(arules)\n",
    "iris %>% pull(Petal.Width) %>% discretize(method = \"interval\", breaks = 3)\n",
    "iris %>% pull(Petal.Width) %>% discretize(method = \"frequency\", breaks = 3)\n",
    "iris %>% pull(Petal.Width) %>% discretize(method = \"cluster\", breaks = 3)\n",
    "\n",
    "ggplot(iris, aes(Petal.Width)) + geom_histogram(binwidth = .2) +\n",
    "  geom_vline(xintercept =\n",
    "      iris %>% pull(Petal.Width) %>% discretize(method = \"interval\", breaks = 3, onlycuts = TRUE),\n",
    "    color = \"blue\") +\n",
    "  labs(title = \"Discretization: interval\", subtitle = \"Blue lines are boundaries\")\n",
    "\n",
    "ggplot(iris, aes(Petal.Width)) + geom_histogram(binwidth = .2) +\n",
    "  geom_vline(xintercept =\n",
    "      iris %>% pull(Petal.Width) %>% discretize(method = \"frequency\", breaks = 3, onlycuts = TRUE),\n",
    "    color = \"blue\") +\n",
    "  labs(title = \"Discretization: frequency\", subtitle = \"Blue lines are boundaries\")\n",
    "\n",
    "ggplot(iris, aes(Petal.Width)) + geom_histogram(binwidth = .2) +\n",
    "  geom_vline(xintercept =\n",
    "      iris %>% pull(Petal.Width) %>% discretize(method = \"cluster\", breaks = 3, onlycuts = TRUE),\n",
    "    color = \"blue\") +\n",
    "  labs(title = \"Discretization: cluster\", subtitle = \"Blue lines are boundaries\")"
   ]
  },
  {
   "cell_type": "markdown",
   "id": "0af2aa1b",
   "metadata": {},
   "source": [
    "The user needs to decide on the number of intervals and the used method.\n",
    "\n",
    "### Standardize Data\n",
    "\n",
    "Standardizing (scaling, normalizing) the range of features values is\n",
    "important to make them comparable. The most popular method is to convert\n",
    "the values of each feature to\n",
    "[z-scores](https://en.wikipedia.org/wiki/Standard_score). by subtracting\n",
    "the mean (centering) and dividing by the standard deviation (scaling).\n",
    "The standardized feature will have a mean of zero and are measured in\n",
    "standard deviations from the mean. Positive values indicate how many\n",
    "standard deviation the original feature value was above the average.\n",
    "Negative standardized values indicate below-average values.\n",
    "\n",
    "*Note:* tidyverse currently does not have a simple scale function, so I\n",
    "make one that provides a wrapper for the standard scale function in R:"
   ]
  },
  {
   "cell_type": "code",
   "execution_count": null,
   "id": "88069434",
   "metadata": {},
   "outputs": [],
   "source": [
    "scale_numeric <- function(x) x %>% mutate_if(is.numeric, function(y) as.vector(scale(y)))\n",
    "\n",
    "iris.scaled <- iris %>% scale_numeric()\n",
    "iris.scaled\n",
    "summary(iris.scaled)"
   ]
  },
  {
   "cell_type": "markdown",
   "id": "c712e85c",
   "metadata": {},
   "source": [
    "The standardized feature has a mean of zero and most \"normal\" values\n",
    "will fall in the range \\[-3,3\\] (standard deviations).\n",
    "\n",
    "## Proximities: Similarities and Distances\n",
    "\n",
    "R stores proximity as dissimilarities/distances matrices. Similarities\n",
    "are first converted to dissimilarities. Distances are symmetric, i.e.,\n",
    "the distance from A to B is the same as the distance from B to A. R\n",
    "therefore stores only a triangle (typically the lower triangle) of the\n",
    "distance matrix.\n",
    "\n",
    "### Minkowsky Distances\n",
    "\n",
    "The [Minkowsky\n",
    "distance](https://en.wikipedia.org/wiki/Minkowski_distance) is a family\n",
    "of metric distances including Euclidean and Manhattan distance. To avoid\n",
    "one feature to dominate the distance calculation, scaled data is\n",
    "typically used. We select the first 5 flowers for this example."
   ]
  },
  {
   "cell_type": "code",
   "execution_count": null,
   "id": "692d119b",
   "metadata": {},
   "outputs": [],
   "source": [
    "iris_sample <- iris.scaled %>% select(-Species) %>% slice(1:5)\n",
    "iris_sample"
   ]
  },
  {
   "cell_type": "markdown",
   "id": "64f6e5d1",
   "metadata": {},
   "source": [
    "Different types of Minkowsky distance matrices between the first 5\n",
    "flowers can be calculated using `dist()`."
   ]
  },
  {
   "cell_type": "code",
   "execution_count": null,
   "id": "d7d0bc49",
   "metadata": {},
   "outputs": [],
   "source": [
    "dist(iris_sample, method = \"euclidean\")\n",
    "dist(iris_sample, method = \"manhattan\")\n",
    "dist(iris_sample, method = \"maximum\")"
   ]
  },
  {
   "cell_type": "markdown",
   "id": "043e2899",
   "metadata": {},
   "source": [
    "We see that only the lower triangle of the distance matrices are stored\n",
    "(note that rows start with row 2).\n",
    "\n",
    "### Distances for Binary Data\n",
    "\n",
    "Binary data can be encodes as `0` and `1` (numeric) or `TRUE` and\n",
    "`FALSE` (logical)."
   ]
  },
  {
   "cell_type": "code",
   "execution_count": null,
   "id": "15e6b82b",
   "metadata": {},
   "outputs": [],
   "source": [
    "b <- rbind(\n",
    "  c(0,0,0,1,1,1,1,0,0,1),\n",
    "  c(0,0,1,1,1,0,0,1,0,0)\n",
    "  )\n",
    "b\n",
    "\n",
    "b_logical <- apply(b, MARGIN = 2, as.logical)\n",
    "b_logical"
   ]
  },
  {
   "cell_type": "markdown",
   "id": "d1e6a1ad",
   "metadata": {},
   "source": [
    "#### Hamming Distance\n",
    "\n",
    "The [Hamming distance](https://en.wikipedia.org/wiki/Hamming_distance)\n",
    "is the number of mismatches between two binary vectors. For 0-1 data\n",
    "this is equivalent to the Manhattan distance and also the squared\n",
    "Euclidean distance."
   ]
  },
  {
   "cell_type": "code",
   "execution_count": null,
   "id": "2fa0eb1b",
   "metadata": {},
   "outputs": [],
   "source": [
    "dist(b, method = \"manhattan\")\n",
    "dist(b, method = \"euclidean\")^2"
   ]
  },
  {
   "cell_type": "markdown",
   "id": "6e10ec64",
   "metadata": {},
   "source": [
    "#### Jaccard Index\n",
    "\n",
    "The [Jaccard index](https://en.wikipedia.org/wiki/Jaccard_index) is a\n",
    "similarity measure that focuses on matching 1s. R converts the\n",
    "similarity into a dissimilarity using $d_{J} = 1 - s_{J}$."
   ]
  },
  {
   "cell_type": "code",
   "execution_count": null,
   "id": "3da2496c",
   "metadata": {},
   "outputs": [],
   "source": [
    "dist(b, method = \"binary\")"
   ]
  },
  {
   "cell_type": "markdown",
   "id": "2acf2f20",
   "metadata": {},
   "source": [
    "### Distances for Mixed Data\n",
    "\n",
    "Most distance measures work only on numeric data. Often, we have a\n",
    "mixture of numbers and nominal or ordinal features like this data:"
   ]
  },
  {
   "cell_type": "code",
   "execution_count": null,
   "id": "e07416e3",
   "metadata": {},
   "outputs": [],
   "source": [
    "people <- tibble(\n",
    "  height = c(      160,    185,    170),\n",
    "  weight = c(       52,     90,     75),\n",
    "  sex    = c( \"female\", \"male\", \"male\")\n",
    ")\n",
    "people"
   ]
  },
  {
   "cell_type": "markdown",
   "id": "c77cd8b0",
   "metadata": {},
   "source": [
    "It is important that nominal features are stored as factors and not\n",
    "character (`<chr>`)."
   ]
  },
  {
   "cell_type": "code",
   "execution_count": null,
   "id": "e6366b91",
   "metadata": {},
   "outputs": [],
   "source": [
    "people <- people %>% mutate_if(is.character, factor)\n",
    "people"
   ]
  },
  {
   "cell_type": "markdown",
   "id": "dbd020dc",
   "metadata": {},
   "source": [
    "#### Gower's Coefficient\n",
    "\n",
    "The Gower's coefficient of similarity works with mixed data by\n",
    "calculating the appropriate similarity for each feature and then\n",
    "aggregating them into a single measure. The package `proxy` implements\n",
    "Gower's coefficient converted into a distance."
   ]
  },
  {
   "cell_type": "code",
   "execution_count": null,
   "id": "14718420",
   "metadata": {},
   "outputs": [],
   "source": [
    "library(proxy)\n",
    "d_Gower <- dist(people, method = \"Gower\")\n",
    "d_Gower"
   ]
  },
  {
   "cell_type": "markdown",
   "id": "d8093efb",
   "metadata": {},
   "source": [
    "Gower's coefficient calculation implicitly scales the data because it\n",
    "calculates distances on each feature individually, so there is no need\n",
    "to scale the data first.\n",
    "\n",
    "#### Using Euclidean Distance with Mixed Data\n",
    "\n",
    "Sometimes methods (e.g., k-means) can only use Euclidean distance. In\n",
    "this case, nominal features can be converted into 0-1 dummy variables.\n",
    "After scaling, Euclidean distance will result in a usable distance\n",
    "measure.\n",
    "\n",
    "We use package `caret` to create dummy variables."
   ]
  },
  {
   "cell_type": "code",
   "execution_count": null,
   "id": "5a0e3458",
   "metadata": {},
   "outputs": [],
   "source": [
    "library(caret)\n",
    "data_dummy <- dummyVars(~., people) %>% predict(people)\n",
    "data_dummy"
   ]
  },
  {
   "cell_type": "markdown",
   "id": "d159c21e",
   "metadata": {},
   "source": [
    "Note that feature sex has now two columns. If we want that height,\n",
    "weight and sex have the same influence on the distance measure, then we\n",
    "need to weight the sex columns by 1/2 after scaling."
   ]
  },
  {
   "cell_type": "code",
   "execution_count": null,
   "id": "c468710f",
   "metadata": {},
   "outputs": [],
   "source": [
    "weight_matrix <- matrix(c(1, 1, 1/2, 1/2), ncol = 4, nrow = nrow(data_dummy), byrow = TRUE)\n",
    "data_dummy_scaled <- scale(data_dummy) * weight_matrix\n",
    "\n",
    "d_dummy <- dist(data_dummy_scaled)\n",
    "d_dummy"
   ]
  },
  {
   "cell_type": "markdown",
   "id": "d8a8b708",
   "metadata": {},
   "source": [
    "The distance using dummy variables is consistent with Gower's distance.\n",
    "However, note that Gower's distance is scaled between 0 and 1 while the\n",
    "Euclidean distance is not."
   ]
  },
  {
   "cell_type": "code",
   "execution_count": null,
   "id": "a1ab40b3",
   "metadata": {},
   "outputs": [],
   "source": [
    "ggplot(tibble(d_dummy, d_Gower), aes(x = d_dummy, y = d_Gower)) +\n",
    "  geom_point() +\n",
    "  geom_smooth(method = \"lm\", se = FALSE)"
   ]
  },
  {
   "cell_type": "markdown",
   "id": "3dfc3ee6",
   "metadata": {},
   "source": [
    "### Additional proximity Measures Available in Package proxy\n",
    "\n",
    "The package `proxy` implements a wide array of distances."
   ]
  },
  {
   "cell_type": "code",
   "execution_count": null,
   "id": "ea4f3c51",
   "metadata": {},
   "outputs": [],
   "source": [
    "library(proxy)\n",
    "pr_DB$get_entry_names()"
   ]
  },
  {
   "cell_type": "markdown",
   "id": "1918e60a",
   "metadata": {},
   "source": [
    "Note that loading the package `proxy` replaces the `dist` function in R.\n",
    "You can specify which dist function to use by specifying the package in\n",
    "the call. For example `stats::dist()` calls the default function in R\n",
    "(the package `stats` is part of R) while `proxy::dist()` calls the\n",
    "version in the package `proxy`.\n",
    "\n",
    "## Relationships Between Features\n",
    "\n",
    "### Correlation\n",
    "\n",
    "Correlation can be used for ratio/interval scaled features. We typically\n",
    "think of the [Pearson correlation\n",
    "coefficient](https://en.wikipedia.org/wiki/Pearson_correlation_coefficient)\n",
    "between features (columns)."
   ]
  },
  {
   "cell_type": "code",
   "execution_count": null,
   "id": "6ba120b9",
   "metadata": {},
   "outputs": [],
   "source": [
    "cc <- iris %>% select(-Species) %>% cor()\n",
    "cc"
   ]
  },
  {
   "cell_type": "markdown",
   "id": "9e1c91e2",
   "metadata": {},
   "source": [
    "`cor` calculates a correlation matrix with pairwise correlations between\n",
    "features. Correlation matrices are symmetric, but different to\n",
    "distances, the whole matrix is stored.\n",
    "\n",
    "The correlation between Petal.Length and Petal.Width can be visualized\n",
    "using a scatter plot."
   ]
  },
  {
   "cell_type": "code",
   "execution_count": null,
   "id": "c547f3d2",
   "metadata": {},
   "outputs": [],
   "source": [
    "ggplot(iris, aes(Petal.Length, Petal.Width)) + \n",
    "  geom_point() +\n",
    "  geom_smooth(method = \"lm\")"
   ]
  },
  {
   "cell_type": "markdown",
   "id": "514e8111",
   "metadata": {},
   "source": [
    "`geom_smooth` adds a regression line by fitting a linear model (`lm`).\n",
    "Most points are close to this line indicating strong linear dependence\n",
    "(i.e., high correlation).\n",
    "\n",
    "We can calculate individual correlations by specifying two vectors."
   ]
  },
  {
   "cell_type": "code",
   "execution_count": null,
   "id": "613126b3",
   "metadata": {},
   "outputs": [],
   "source": [
    "with(iris, cor(Petal.Length, Petal.Width))"
   ]
  },
  {
   "cell_type": "markdown",
   "id": "4db45a12",
   "metadata": {},
   "source": [
    "*Note:* `with` lets you use columns using just their names and\n",
    "`with(iris, cor(Petal.Length, Petal.Width))` is the same as\n",
    "`cor(iris$Petal.Length, iris$Petal.Width)`.\n",
    "\n",
    "Finally, we can test if a correlation is significantly different from\n",
    "zero."
   ]
  },
  {
   "cell_type": "code",
   "execution_count": null,
   "id": "364e5b41",
   "metadata": {},
   "outputs": [],
   "source": [
    "with(iris, cor.test(Petal.Length, Petal.Width))"
   ]
  },
  {
   "cell_type": "markdown",
   "id": "24d6e558",
   "metadata": {},
   "source": [
    "A small p-value (less than 0.05) indicates that the observed correlation\n",
    "is significantly different from zero. This can also be seen by the fact\n",
    "that the 95% confidence interval does not span zero.\n",
    "\n",
    "Sepal.Length and Sepal.Width show little correlation:\n",
    "\n",
    "`{ r} ggplot(iris, aes(Sepal.Length, Sepal.Width)) + geom_point() +   geom_smooth(method = \"lm\") with(iris, cor(Sepal.Length, Sepal.Width)) with(iris, cor.test(Sepal.Length, Sepal.Width))`\n",
    "\n",
    "### Rank Correlation\n",
    "\n",
    "Rank correlation is used for ordinal features or if the correlation is\n",
    "not linear. To show this, we first convert the continuous features in\n",
    "the Iris dataset into ordered factors (ordinal) with three levels using\n",
    "the function `cut`."
   ]
  },
  {
   "cell_type": "code",
   "execution_count": null,
   "id": "5e777e88",
   "metadata": {},
   "outputs": [],
   "source": [
    "iris_ord <- iris %>% mutate_if(is.numeric,\n",
    "  function(x) cut(x, 3, labels = c(\"short\", \"medium\", \"long\"), ordered = TRUE))\n",
    "\n",
    "iris_ord\n",
    "summary(iris_ord)\n",
    "iris_ord %>% pull(Sepal.Length)"
   ]
  },
  {
   "cell_type": "markdown",
   "id": "5bcfad92",
   "metadata": {},
   "source": [
    "Two measures for rank correlation are Kendall's Tau and Spearman's Rho.\n",
    "\n",
    "[Kendall's Tau Rank Correlation\n",
    "Coefficient](https://en.wikipedia.org/wiki/Kendall_rank_correlation_coefficient)\n",
    "measures the agreement between two rankings (i.e., ordinal features)."
   ]
  },
  {
   "cell_type": "code",
   "execution_count": null,
   "id": "c067e94a",
   "metadata": {},
   "outputs": [],
   "source": [
    "iris_ord %>% select(-Species) %>% sapply(xtfrm) %>% cor(method = \"kendall\")"
   ]
  },
  {
   "cell_type": "markdown",
   "id": "ee563e22",
   "metadata": {},
   "source": [
    "**Note:** We have to use `xtfrm` to transform the ordered factors into\n",
    "ranks, i.e., numbers representing the order.\n",
    "\n",
    "[Spearman's\n",
    "Rho](https://en.wikipedia.org/wiki/Spearman%27s_rank_correlation_coefficient)\n",
    "is equal to the Pearson correlation between the rank values of those two\n",
    "features."
   ]
  },
  {
   "cell_type": "code",
   "execution_count": null,
   "id": "f7e64529",
   "metadata": {},
   "outputs": [],
   "source": [
    "iris_ord %>% select(-Species) %>% sapply(xtfrm) %>% cor(method = \"spearman\")"
   ]
  },
  {
   "cell_type": "markdown",
   "id": "c64b6ca9",
   "metadata": {},
   "source": [
    "Spearman's Rho is much faster to compute on large datasets then\n",
    "Kendall's Tau.\n",
    "\n",
    "Comparing the rank correlation results with the Pearson correlation on\n",
    "the original data shows that they are very similar. This indicates that\n",
    "discretizing data does not result in the loss of too much information."
   ]
  },
  {
   "cell_type": "code",
   "execution_count": null,
   "id": "7111af5a",
   "metadata": {},
   "outputs": [],
   "source": [
    "iris %>% select(-Species) %>% cor()"
   ]
  },
  {
   "cell_type": "markdown",
   "id": "cf33807c",
   "metadata": {},
   "source": [
    "## Density Estimation\n",
    "\n",
    "[Density estimation](https://en.wikipedia.org/wiki/Density_estimation)\n",
    "constructions an estimate the probability density function\n",
    "(distribution) of a continuous variable based on observed data.\n",
    "\n",
    "Just plotting the data using points is not very helpful for a single\n",
    "feature."
   ]
  },
  {
   "cell_type": "code",
   "execution_count": null,
   "id": "f2b2b578",
   "metadata": {},
   "outputs": [],
   "source": [
    "ggplot(iris, aes(x = Petal.Length, y = 0)) + geom_point()"
   ]
  },
  {
   "cell_type": "markdown",
   "id": "a7cc4315",
   "metadata": {},
   "source": [
    "### Histograms\n",
    "\n",
    "A [histograms](https://en.wikipedia.org/wiki/Histogram) shows more about\n",
    "the distribution by counting how many values fall within a bin and\n",
    "visualizing the counts as a bar chart. We use `geom_rug` to place marks\n",
    "for the original data points at the bottom of the histogram."
   ]
  },
  {
   "cell_type": "code",
   "execution_count": null,
   "id": "ac37f916",
   "metadata": {},
   "outputs": [],
   "source": [
    "ggplot(iris, aes(x = Petal.Length)) +\n",
    "  geom_histogram() +\n",
    "  geom_rug(alpha = 1/2)"
   ]
  },
  {
   "cell_type": "markdown",
   "id": "b57d751e",
   "metadata": {},
   "source": [
    "Two-dimensional distributions can be visualized using 2-d binning or\n",
    "hexagonal bins."
   ]
  },
  {
   "cell_type": "code",
   "execution_count": null,
   "id": "0eea0b8d",
   "metadata": {},
   "outputs": [],
   "source": [
    "ggplot(iris, aes(Sepal.Length, Sepal.Width)) +\n",
    "  geom_bin2d(bins = 10) +\n",
    "  geom_jitter(color = \"red\")\n",
    "\n",
    "ggplot(iris, aes(Sepal.Length, Sepal.Width)) +\n",
    "  geom_hex(bins = 10) +\n",
    "  geom_jitter(color = \"red\")"
   ]
  },
  {
   "cell_type": "markdown",
   "id": "820cd5df",
   "metadata": {},
   "source": [
    "### Kernel Density Estimate (KDE)\n",
    "\n",
    "[Kernel density\n",
    "estimation](https://en.wikipedia.org/wiki/Kernel_density_estimation) is\n",
    "used to estimate the probability density function (distribution) of a\n",
    "feature. It works by replacing each value with a kernel function (often\n",
    "a Gaussian) and then adding them up. The result is an estimated\n",
    "probability density function that looks like a smoothed version of the\n",
    "histogram. The bandwidth (`bw`) of the kernel controls the amount of\n",
    "smoothing."
   ]
  },
  {
   "cell_type": "code",
   "execution_count": null,
   "id": "2e2b3a97",
   "metadata": {},
   "outputs": [],
   "source": [
    "ggplot(iris, aes(Petal.Length)) +\n",
    "  geom_density(bw = .2) +\n",
    "  geom_rug(alpha = 1/2)"
   ]
  },
  {
   "cell_type": "markdown",
   "id": "7a6c6066",
   "metadata": {},
   "source": [
    "Kernel density estimates can also be done in two dimensions."
   ]
  },
  {
   "cell_type": "code",
   "execution_count": null,
   "id": "f8dae309",
   "metadata": {},
   "outputs": [],
   "source": [
    "ggplot(iris, aes(Sepal.Length, Sepal.Width)) +\n",
    "  geom_density_2d_filled() +\n",
    "  geom_jitter()"
   ]
  },
  {
   "cell_type": "markdown",
   "id": "0808a595",
   "metadata": {},
   "source": [
    "## Exploring Data\n",
    "\n",
    "### Basic statistics\n",
    "\n",
    "Get summary statistics (using base R)"
   ]
  },
  {
   "cell_type": "code",
   "execution_count": null,
   "id": "d32a58a5",
   "metadata": {},
   "outputs": [],
   "source": [
    "summary(iris)"
   ]
  },
  {
   "cell_type": "markdown",
   "id": "13d992e5",
   "metadata": {},
   "source": [
    "Get mean and standard deviation for sepal length"
   ]
  },
  {
   "cell_type": "code",
   "execution_count": null,
   "id": "d3bf147a",
   "metadata": {},
   "outputs": [],
   "source": [
    "iris %>% pull(Sepal.Length) %>% mean()\n",
    "iris %>% pull(Sepal.Length) %>% sd()"
   ]
  },
  {
   "cell_type": "markdown",
   "id": "3e42e6e4",
   "metadata": {},
   "source": [
    "Data with missing values will result in statistics of `NA`. Adding the\n",
    "parameter `na.rm = TRUE` can be used in most statistics functions to\n",
    "ignore missing values."
   ]
  },
  {
   "cell_type": "code",
   "execution_count": null,
   "id": "53a26c01",
   "metadata": {},
   "outputs": [],
   "source": [
    "mean(c(1, 2, NA, 3, 4, 5))\n",
    "mean(c(1, 2, NA, 3, 4, 5),  na.rm = TRUE)"
   ]
  },
  {
   "cell_type": "markdown",
   "id": "e57a0006",
   "metadata": {},
   "source": [
    "Outliers are typically the smallest or the largest values of a feature.\n",
    "To make the mean more robust to outliers, we can trim 10% of\n",
    "observations from each end of the distribution."
   ]
  },
  {
   "cell_type": "code",
   "execution_count": null,
   "id": "df3c0f39",
   "metadata": {},
   "outputs": [],
   "source": [
    "iris %>% pull(Sepal.Length) %>% mean()\n",
    "iris %>% pull(Sepal.Length) %>% mean(trim = .1)"
   ]
  },
  {
   "cell_type": "markdown",
   "id": "7083fdee",
   "metadata": {},
   "source": [
    "Sepal length does not have outliers, so the trimmed mean is almost\n",
    "identical.\n",
    "\n",
    "To calculate a summary for a set of features (e.g., all numeric\n",
    "features), tidyverse provides `summarize_if()`."
   ]
  },
  {
   "cell_type": "code",
   "execution_count": null,
   "id": "87f4aa88",
   "metadata": {},
   "outputs": [],
   "source": [
    "iris %>% summarize_if(is.numeric, mean)\n",
    "iris %>% summarize_if(is.numeric, sd)\n",
    "\n",
    "iris %>% summarize_if(is.numeric, list(min = min, median = median, max = max))"
   ]
  },
  {
   "cell_type": "markdown",
   "id": "c6fc4791",
   "metadata": {},
   "source": [
    "The median absolute deviation (MAD) is another measure of dispersion."
   ]
  },
  {
   "cell_type": "code",
   "execution_count": null,
   "id": "5f952f6d",
   "metadata": {},
   "outputs": [],
   "source": [
    "iris %>% summarize_if(is.numeric, mad)"
   ]
  },
  {
   "cell_type": "markdown",
   "id": "db9a08b3",
   "metadata": {},
   "source": [
    "### Grouping\n",
    "\n",
    "We can use the nominal feature to form groups and then calculate\n",
    "group-wise statistics for the continuous features. We often use\n",
    "group-wise averages to see if they differ between groups."
   ]
  },
  {
   "cell_type": "code",
   "execution_count": null,
   "id": "9d3669dc",
   "metadata": {},
   "outputs": [],
   "source": [
    "iris %>% group_by(Species) %>% summarize(across(Sepal.Length, mean))\n",
    "iris %>% group_by(Species) %>% summarize_all(mean)"
   ]
  },
  {
   "cell_type": "markdown",
   "id": "48957a6a",
   "metadata": {},
   "source": [
    "We see that the species Virginica has the highest average for all, but\n",
    "Sepal.Width.\n",
    "\n",
    "The statistical difference between the groups can be tested using [ANOVA\n",
    "(analysis of\n",
    "variance)](http://www.sthda.com/english/wiki/one-way-anova-test-in-r)."
   ]
  },
  {
   "cell_type": "code",
   "execution_count": null,
   "id": "16442fd9",
   "metadata": {},
   "outputs": [],
   "source": [
    "res.aov <- aov(Sepal.Length ~ Species, data = iris)\n",
    "summary(res.aov)\n",
    "TukeyHSD(res.aov)"
   ]
  },
  {
   "cell_type": "markdown",
   "id": "153e329f",
   "metadata": {},
   "source": [
    "The summary shows that there is a significant difference for\n",
    "Sepal.Length between the groups. `TukeyHDS` evaluates differences\n",
    "between pairs of groups. In this case, all are significantly different.\n",
    "If the data only contains two groups, the `t.test` can be used.\n",
    "\n",
    "### Tabulate data\n",
    "\n",
    "We can count the number of flowers for each species."
   ]
  },
  {
   "cell_type": "code",
   "execution_count": null,
   "id": "2f234ae5",
   "metadata": {},
   "outputs": [],
   "source": [
    "iris %>% group_by(Species) %>% summarize(n())"
   ]
  },
  {
   "cell_type": "markdown",
   "id": "4fd9eb8d",
   "metadata": {},
   "source": [
    "In base R, this can be also done using `count(iris$Species)`.\n",
    "\n",
    "For the following examples, we discretize the data using cut."
   ]
  },
  {
   "cell_type": "code",
   "execution_count": null,
   "id": "7691af6f",
   "metadata": {},
   "outputs": [],
   "source": [
    "iris_ord <- iris %>% mutate_if(is.numeric,\n",
    "  function(x) cut(x, 3, labels = c(\"short\", \"medium\", \"long\"), ordered = TRUE))\n",
    "\n",
    "iris_ord\n",
    "summary(iris_ord)"
   ]
  },
  {
   "cell_type": "markdown",
   "id": "50ce93a7",
   "metadata": {},
   "source": [
    "Cross tabulation is used to find out if two discrete features are\n",
    "related."
   ]
  },
  {
   "cell_type": "code",
   "execution_count": null,
   "id": "29ab2d9b",
   "metadata": {},
   "outputs": [],
   "source": [
    "tbl <- iris_ord %>% select(Sepal.Length, Species) %>% table()\n",
    "tbl"
   ]
  },
  {
   "cell_type": "markdown",
   "id": "64ff2095",
   "metadata": {},
   "source": [
    "The table contains the number of rows that contain the combination of\n",
    "values (e.g., the number of flowers with a short Sepal.Length and\n",
    "species Setosa is `r tbl[1, 1]`). If a few cells have very large counts\n",
    "and most others have very low counts, then there might be a\n",
    "relationship. For the iris data, we see that species Setosa has mostly a\n",
    "short Sepal.Length, while Versicolor and Virginica have longer sepals.\n",
    "\n",
    "Creating a cross table with tidyverse is a little more involved and uses\n",
    "pivot operations and grouping."
   ]
  },
  {
   "cell_type": "code",
   "execution_count": null,
   "id": "2889d302",
   "metadata": {},
   "outputs": [],
   "source": [
    "iris_ord %>%\n",
    "  select(Species, Sepal.Length) %>%\n",
    "### Relationship Between Nominal and Ordinal Features\n",
    "  pivot_longer(cols = Sepal.Length) %>%\n",
    "  group_by(Species, value) %>% count() %>% ungroup() %>%\n",
    "  pivot_wider(names_from = Species, values_from = n)"
   ]
  },
  {
   "cell_type": "markdown",
   "id": "387a463e",
   "metadata": {},
   "source": [
    "We can use a statistical test to determine if there is a significant\n",
    "relationship between the two features. [Pearson's chi-squared\n",
    "test](https://en.wikipedia.org/wiki/Chi-squared_test) for independence\n",
    "is performed with the null hypothesis that the joint distribution of the\n",
    "cell counts in a 2-dimensional contingency table is the product of the\n",
    "row and column marginals. The null hypothesis h0 is independence between\n",
    "rows and columns."
   ]
  },
  {
   "cell_type": "code",
   "execution_count": null,
   "id": "6ad5fa81",
   "metadata": {},
   "outputs": [],
   "source": [
    "tbl %>% chisq.test()"
   ]
  },
  {
   "cell_type": "markdown",
   "id": "1ce1d153",
   "metadata": {},
   "source": [
    "The small p-value indicates that the null hypothesis of independence\n",
    "needs to be rejected. For small counts (cells with counts \\<5),\n",
    "[Fisher's exact\n",
    "test](https://en.wikipedia.org/wiki/Fisher%27s_exact_test) is better."
   ]
  },
  {
   "cell_type": "code",
   "execution_count": null,
   "id": "f1c2fc54",
   "metadata": {},
   "outputs": [],
   "source": [
    "fisher.test(tbl)"
   ]
  },
  {
   "cell_type": "markdown",
   "id": "51daf9aa",
   "metadata": {},
   "source": [
    "### Percentiles (Quantiles)\n",
    "\n",
    "[Quantiles](https://en.wikipedia.org/wiki/Quantile) are cutting points\n",
    "dividing the range of a probability distribution into continuous\n",
    "intervals with equal probability. For example, the median is the\n",
    "empirical 50% quantile dividing the observations into 50% of the\n",
    "observations being smaller than the median and the other 50% being\n",
    "larger than the median.\n",
    "\n",
    "By default quartiles are calculated. 25% is typically called Q1, 50% is\n",
    "called Q2 or the median and 75% is called Q3."
   ]
  },
  {
   "cell_type": "code",
   "execution_count": null,
   "id": "867f63ff",
   "metadata": {},
   "outputs": [],
   "source": [
    "iris %>% pull(Petal.Length) %>% quantile()"
   ]
  },
  {
   "cell_type": "markdown",
   "id": "59a2fbfe",
   "metadata": {},
   "source": [
    "The interquartile range is a measure for variability that is robust\n",
    "against outliers. It is defined the length Q3 - Q2 which covers the 50%\n",
    "of the data in the middle."
   ]
  },
  {
   "cell_type": "code",
   "execution_count": null,
   "id": "8b88a4af",
   "metadata": {},
   "outputs": [],
   "source": [
    "iris %>% summarize(IQR = quantile(Petal.Length, probs = 0.75) - quantile(Petal.Length, probs = 0.25))"
   ]
  },
  {
   "cell_type": "markdown",
   "id": "8564b731",
   "metadata": {},
   "source": [
    "## Visualization\n",
    "\n",
    "### Histogram\n",
    "\n",
    "Histograms show the distribution of a single continuous feature."
   ]
  },
  {
   "cell_type": "code",
   "execution_count": null,
   "id": "45785cd2",
   "metadata": {},
   "outputs": [],
   "source": [
    "ggplot(iris, aes(Petal.Width)) + geom_histogram(bins = 20)"
   ]
  },
  {
   "cell_type": "markdown",
   "id": "69290bf9",
   "metadata": {},
   "source": [
    "### Boxplot\n",
    "\n",
    "Boxplots are used to compare the distribution of a feature between\n",
    "different groups. The horizontal line in the middle of the boxes are the\n",
    "group-wise medians, the boxes span the interquartile range. The whiskers\n",
    "(vertical lines) span typically 1.4 times the interquartile range.\n",
    "Points that fall outside that range are typically outliers shown as\n",
    "dots."
   ]
  },
  {
   "cell_type": "code",
   "execution_count": null,
   "id": "e9c9c400",
   "metadata": {},
   "outputs": [],
   "source": [
    "ggplot(iris, aes(Species, Sepal.Length)) + \n",
    "  geom_boxplot()"
   ]
  },
  {
   "cell_type": "markdown",
   "id": "08f8d37e",
   "metadata": {},
   "source": [
    "The group-wise medians can also be calculated directly."
   ]
  },
  {
   "cell_type": "code",
   "execution_count": null,
   "id": "66727a7d",
   "metadata": {},
   "outputs": [],
   "source": [
    "iris %>% group_by(Species) %>% summarize_if(is.numeric, median)"
   ]
  },
  {
   "cell_type": "markdown",
   "id": "6ffaeda5",
   "metadata": {},
   "source": [
    "To compare the distribution of the four features using a ggplot boxplot,\n",
    "we first have to transform the data into long format (i.e., all feature\n",
    "values are combined into a single column)."
   ]
  },
  {
   "cell_type": "code",
   "execution_count": null,
   "id": "328fc493",
   "metadata": {},
   "outputs": [],
   "source": [
    "library(tidyr)\n",
    "iris_long <- iris %>% mutate(id = row_number()) %>% pivot_longer(1:4)\n",
    "ggplot(iris_long, aes(name, value)) + \n",
    "  geom_boxplot() +\n",
    "  labs(y = \"Original value\")"
   ]
  },
  {
   "cell_type": "markdown",
   "id": "b1af7555",
   "metadata": {},
   "source": [
    "This visualization is only useful if all features have roughly the same\n",
    "range. The data can be scaled first to compare the distributions."
   ]
  },
  {
   "cell_type": "code",
   "execution_count": null,
   "id": "ec2cc63c",
   "metadata": {},
   "outputs": [],
   "source": [
    "library(tidyr)\n",
    "iris_long_scaled <- iris %>% scale_numeric() %>% mutate(id = row_number()) %>% pivot_longer(1:4)\n",
    "ggplot(iris_long_scaled, aes(name, value)) + \n",
    "  geom_boxplot() +\n",
    "  labs(y = \"Scaled value\")"
   ]
  },
  {
   "cell_type": "markdown",
   "id": "a64744b1",
   "metadata": {},
   "source": [
    "### Scatter plot\n",
    "\n",
    "Scatter plots show the relationship between two continuous features."
   ]
  },
  {
   "cell_type": "code",
   "execution_count": null,
   "id": "529ec005",
   "metadata": {},
   "outputs": [],
   "source": [
    "ggplot(iris, aes(x = Petal.Length, y = Petal.Width, color = Species)) + \n",
    "  geom_point()"
   ]
  },
  {
   "cell_type": "markdown",
   "id": "af6d2a50",
   "metadata": {},
   "source": [
    "### Scatter Plot Matrix\n",
    "\n",
    "A scatter plot matrix show the relationship between several features"
   ]
  },
  {
   "cell_type": "code",
   "execution_count": null,
   "id": "4a30b769",
   "metadata": {},
   "outputs": [],
   "source": [
    "library(\"GGally\")\n",
    "ggpairs(iris,  aes(color = Species))"
   ]
  },
  {
   "cell_type": "markdown",
   "id": "9940de8b",
   "metadata": {},
   "source": [
    "The implementation in package `GGally` also shows additional plots\n",
    "(histograms, density estimates and box plots) and correlation\n",
    "coefficients.\n",
    "\n",
    "### Data Matrix Visualization\n",
    "\n",
    "Matrix visualization shows the values in the matrix using a color scale."
   ]
  },
  {
   "cell_type": "code",
   "execution_count": null,
   "id": "cb3245c4",
   "metadata": {},
   "outputs": [],
   "source": [
    "iris_matrix <- iris %>% select(-Species) %>% as.matrix()"
   ]
  },
  {
   "cell_type": "markdown",
   "id": "b3957fdf",
   "metadata": {},
   "source": [
    "We need the long format for tidyverse."
   ]
  },
  {
   "cell_type": "code",
   "execution_count": null,
   "id": "85989747",
   "metadata": {},
   "outputs": [],
   "source": [
    "iris_long <- as_tibble(iris_matrix) %>% mutate(id = row_number()) %>% pivot_longer(1:4)\n",
    "head(iris_long)\n",
    "\n",
    "ggplot(iris_long,\n",
    "  aes(x = name, y = id, fill = value)) + geom_tile()"
   ]
  },
  {
   "cell_type": "markdown",
   "id": "3dfd1a3d",
   "metadata": {},
   "source": [
    "Smaller values are darker. Package `seriation` provides a simpler\n",
    "plotting function."
   ]
  },
  {
   "cell_type": "code",
   "execution_count": null,
   "id": "8723454e",
   "metadata": {},
   "outputs": [],
   "source": [
    "library(seriation)\n",
    "ggpimage(iris_matrix, prop = FALSE)"
   ]
  },
  {
   "cell_type": "markdown",
   "id": "62a6acb9",
   "metadata": {},
   "source": [
    "We can scale the features to z-scores to make them better comparable."
   ]
  },
  {
   "cell_type": "code",
   "execution_count": null,
   "id": "dc585e64",
   "metadata": {},
   "outputs": [],
   "source": [
    "iris_scaled <- scale(iris_matrix)\n",
    "ggpimage(iris_scaled, prop = FALSE)"
   ]
  },
  {
   "cell_type": "markdown",
   "id": "9f0d479a",
   "metadata": {},
   "source": [
    "This reveals red and blue blocks. Each row is a flower and the flowers\n",
    "in the Iris dataset are sorted by species. The blue blocks for the top\n",
    "50 flowers show that these flowers are smaller than average for all but\n",
    "Sepal.Width and the red blocks show that the bottom 50 flowers are\n",
    "larger for most features.\n",
    "\n",
    "Often, reordering data matrices help with visualization. A reordering\n",
    "technique is called seriation. Ir reorders rows and columns to place\n",
    "more similar points closer together."
   ]
  },
  {
   "cell_type": "code",
   "execution_count": null,
   "id": "19ccefa6",
   "metadata": {},
   "outputs": [],
   "source": [
    "ggpimage(iris_scaled, order = seriate(iris_scaled), prop = FALSE)"
   ]
  },
  {
   "cell_type": "markdown",
   "id": "96949907",
   "metadata": {},
   "source": [
    "We see that the rows (flowers) are organized from very blue to very red\n",
    "and the features are reordered to move Sepal.Width all the way to the\n",
    "right because it is very different from the other features.\n",
    "\n",
    "### Correlation Matrix\n",
    "\n",
    "A correlation matrix contains the correlation between features."
   ]
  },
  {
   "cell_type": "code",
   "execution_count": null,
   "id": "dde88643",
   "metadata": {},
   "outputs": [],
   "source": [
    "cm1 <- iris %>% select(-Species) %>% as.matrix %>% cor()\n",
    "cm1"
   ]
  },
  {
   "cell_type": "markdown",
   "id": "a0e9a18e",
   "metadata": {},
   "source": [
    "Package `ggcorrplot` provides a visualization for correlation matrices."
   ]
  },
  {
   "cell_type": "code",
   "execution_count": null,
   "id": "eea923a6",
   "metadata": {},
   "outputs": [],
   "source": [
    "library(ggcorrplot)\n",
    "ggcorrplot(cm1)"
   ]
  },
  {
   "cell_type": "markdown",
   "id": "5a1c57d8",
   "metadata": {},
   "source": [
    "Package `seriation` provides a reordered version for this plot using a\n",
    "heatmap."
   ]
  },
  {
   "cell_type": "code",
   "execution_count": null,
   "id": "ce9858e4",
   "metadata": {},
   "outputs": [],
   "source": [
    "gghmap(cm1, prop = TRUE)"
   ]
  },
  {
   "cell_type": "markdown",
   "id": "8f539c65",
   "metadata": {},
   "source": [
    "Correlations can also be calculates between objects by transposing the\n",
    "data matrix."
   ]
  },
  {
   "cell_type": "code",
   "execution_count": null,
   "id": "c5891ea4",
   "metadata": {},
   "outputs": [],
   "source": [
    "cm2 <- iris %>% select(-Species) %>% as.matrix() %>% t() %>% cor()\n",
    "\n",
    "ggcorrplot(cm2)"
   ]
  },
  {
   "cell_type": "markdown",
   "id": "543912da",
   "metadata": {},
   "source": [
    "Object-to-object correlations can be used as a measure of similarity.\n",
    "The dark red blocks indicate different species.\n",
    "\n",
    "### Parallel Coordinates Plot\n",
    "\n",
    "Parallel coordinate plots can visualize several features in a single\n",
    "plot. Lines connect the values for each object (flower)."
   ]
  },
  {
   "cell_type": "code",
   "execution_count": null,
   "id": "fcc080e0",
   "metadata": {},
   "outputs": [],
   "source": [
    "library(GGally)\n",
    "ggparcoord(iris, columns = 1:4, groupColumn = 5)"
   ]
  },
  {
   "cell_type": "markdown",
   "id": "6db55d7e",
   "metadata": {},
   "source": [
    "The plot can be improved by reordering the variables to place correlated\n",
    "features next to each other."
   ]
  },
  {
   "cell_type": "code",
   "execution_count": null,
   "id": "b28c7a09",
   "metadata": {},
   "outputs": [],
   "source": [
    "o <- seriate(as.dist(1-cor(iris[,1:4])), method = \"BBURCG\")\n",
    "get_order(o)\n",
    "ggparcoord(iris, columns = get_order(o), groupColumn = 5)"
   ]
  },
  {
   "cell_type": "markdown",
   "id": "f9a48646",
   "metadata": {},
   "source": [
    "### More Visualizations\n",
    "\n",
    "A well organized collection of visualizations with code can be found at\n",
    "[The R Graph Gallery](https://www.r-graph-gallery.com/)."
   ]
  }
 ],
 "metadata": {
  "jupytext": {
   "cell_metadata_filter": "name,tags,-all",
   "main_language": "R",
   "notebook_metadata_filter": "-all"
  },
  "kernelspec": {
   "display_name": "R",
   "language": "R",
   "name": "ir"
  },
  "language_info": {
   "codemirror_mode": "r",
   "file_extension": ".r",
   "mimetype": "text/x-r-source",
   "name": "R",
   "pygments_lexer": "r",
   "version": "3.6.1"
  }
 },
 "nbformat": 4,
 "nbformat_minor": 5
}
