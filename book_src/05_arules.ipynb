{
 "cells": [
  {
   "cell_type": "raw",
   "id": "4b5769eb",
   "metadata": {},
   "source": [
    "---\n",
    "editor_options: \n",
    "  markdown: \n",
    "    wrap: 72\n",
    "---"
   ]
  },
  {
   "cell_type": "markdown",
   "id": "f89477e4",
   "metadata": {},
   "source": [
    "# Association Analysis: Basic Concepts and Algorithms"
   ]
  },
  {
   "cell_type": "code",
   "execution_count": null,
   "id": "6d76fcc4",
   "metadata": {
    "name": "setup_05",
    "tags": [
     "remove_cell"
    ]
   },
   "outputs": [],
   "source": [
    "pkgs <- sort(c('tidyverse', 'arules', 'arulesViz', 'mlbench'))\n",
    "\n",
    "lapply(pkgs, function(pkg) {\n",
    "  if (system.file(package = pkg) == '') install.packages(pkg)\n",
    "})\n",
    "\n",
    "all_pkgs <- union(all_pkgs, pkgs)"
   ]
  },
  {
   "cell_type": "markdown",
   "id": "5defa71b",
   "metadata": {},
   "source": [
    "**Packages used for this chapter:** `r format_pkgs(pkgs)`\n",
    "\n",
    "You can read the free sample chapter from the textbook [@Tan2005]:\n",
    "[Chapter 5. Association Analysis: Basic Concepts and\n",
    "Algorithms](https://www-users.cs.umn.edu/~kumar001/dmbook/ch5_association_analysis.pdf)\n",
    "\n",
    "## The arules Package\n",
    "\n",
    "Association rule mining in R is implemented in the package `arules`."
   ]
  },
  {
   "cell_type": "code",
   "execution_count": null,
   "id": "aaff79c2",
   "metadata": {},
   "outputs": [],
   "source": [
    "library(tidyverse)\n",
    "library(arules)\n",
    "library(arulesViz)"
   ]
  },
  {
   "cell_type": "markdown",
   "id": "21fe4194",
   "metadata": {},
   "source": [
    "For information about the `arules` package try: `help(package=\"arules\")`\n",
    "and `vignette(\"arules\")` (also available at\n",
    "[CRAN](http://cran.r-project.org/web/packages/arules/vignettes/arules.pdf))\n",
    "\n",
    "arules uses the S4 object system to implement classes and methods.\n",
    "Standard R objects use the [S3 object\n",
    "system](http://adv-r.had.co.nz/S3.html) which do not use formal class\n",
    "definitions and are usually implemented as a list with a class\n",
    "attribute. `arules` and many other R packages use the [S4 object\n",
    "system](http://adv-r.had.co.nz/S4.html) which is based on formal class\n",
    "definitions with member variables and methods (similar to\n",
    "object-oriented programming languages like Java and C++). Some important\n",
    "differences of using S4 objects compared to the usual S3 objects are:\n",
    "\n",
    "-   coercion (casting): `as(from, \"class_name\")`\n",
    "-   help for classes: `class? class_name`\n",
    "\n",
    "## Transactions\n",
    "\n",
    "### Create Transactions\n",
    "\n",
    "We will use the Zoo dataset from `mlbench`."
   ]
  },
  {
   "cell_type": "code",
   "execution_count": null,
   "id": "529dad1a",
   "metadata": {},
   "outputs": [],
   "source": [
    "data(Zoo, package = \"mlbench\")\n",
    "head(Zoo)"
   ]
  },
  {
   "cell_type": "markdown",
   "id": "a51462ac",
   "metadata": {},
   "source": [
    "The data in the data.frame need to be converted into a set of\n",
    "transactions where each row represents a transaction and each column is\n",
    "translated into items. This is done using the constructor\n",
    "`transactions()`. For the Zoo data set this means that we consider\n",
    "animals as transactions and the different traits (features) will become\n",
    "items that each animal has. For example the animal *antelope* has the\n",
    "item *hair* in its transaction."
   ]
  },
  {
   "cell_type": "code",
   "execution_count": null,
   "id": "54ec111c",
   "metadata": {},
   "outputs": [],
   "source": [
    "trans <- transactions(Zoo)"
   ]
  },
  {
   "cell_type": "markdown",
   "id": "99aadc88",
   "metadata": {},
   "source": [
    "The conversion gives a warning because only discrete features (`factor`\n",
    "and `logical`) can be directly translated into items. Continuous\n",
    "features need to be discretized first.\n",
    "\n",
    "What is column 13?"
   ]
  },
  {
   "cell_type": "code",
   "execution_count": null,
   "id": "fe086de9",
   "metadata": {},
   "outputs": [],
   "source": [
    "summary(Zoo[13])\n",
    "ggplot(Zoo, aes(legs)) + geom_bar()\n",
    "table(Zoo$legs)"
   ]
  },
  {
   "cell_type": "markdown",
   "id": "fb3a107f",
   "metadata": {},
   "source": [
    "Possible solution: Make legs into has/does not have legs"
   ]
  },
  {
   "cell_type": "code",
   "execution_count": null,
   "id": "4b7ac213",
   "metadata": {},
   "outputs": [],
   "source": [
    "Zoo_has_legs <- Zoo %>% mutate(legs = legs > 0)\n",
    "ggplot(Zoo_has_legs, aes(legs)) + geom_bar()\n",
    "table(Zoo_has_legs$legs)"
   ]
  },
  {
   "cell_type": "markdown",
   "id": "9de970df",
   "metadata": {},
   "source": [
    "**Alternatives:**\n",
    "\n",
    "-   use each unique value as an item:"
   ]
  },
  {
   "cell_type": "code",
   "execution_count": null,
   "id": "f1317436",
   "metadata": {},
   "outputs": [],
   "source": [
    "Zoo_unique_leg_values <- Zoo %>% mutate(legs = factor(legs))\n",
    "head(Zoo_unique_leg_values$legs)"
   ]
  },
  {
   "cell_type": "markdown",
   "id": "da3df715",
   "metadata": {},
   "source": [
    "-   discretize (see\n",
    "    [`? discretize`](https://www.rdocumentation.org/packages/arules/topics/discretize)\n",
    "    and [discretization in the code for Chapter\n",
    "    2](chap2.html#discretize-features)):"
   ]
  },
  {
   "cell_type": "code",
   "execution_count": null,
   "id": "c10eb3d7",
   "metadata": {},
   "outputs": [],
   "source": [
    "Zoo_discretized_legs <- Zoo %>% mutate(\n",
    "  legs = discretize(legs, breaks = 2, method=\"interval\")\n",
    ")\n",
    "table(Zoo_discretized_legs$legs)"
   ]
  },
  {
   "cell_type": "markdown",
   "id": "cc3f451e",
   "metadata": {},
   "source": [
    "Convert data into a set of transactions"
   ]
  },
  {
   "cell_type": "code",
   "execution_count": null,
   "id": "794313d0",
   "metadata": {},
   "outputs": [],
   "source": [
    "trans <- transactions(Zoo_has_legs)\n",
    "trans"
   ]
  },
  {
   "cell_type": "markdown",
   "id": "788096fd",
   "metadata": {},
   "source": [
    "### Inspect Transactions"
   ]
  },
  {
   "cell_type": "code",
   "execution_count": null,
   "id": "e0ae8114",
   "metadata": {},
   "outputs": [],
   "source": [
    "summary(trans)"
   ]
  },
  {
   "cell_type": "markdown",
   "id": "9df067fe",
   "metadata": {},
   "source": [
    "Look at created items. They are still called column names since the\n",
    "transactions are actually stored as a large sparse logical matrix (see\n",
    "below)."
   ]
  },
  {
   "cell_type": "code",
   "execution_count": null,
   "id": "b92b8541",
   "metadata": {},
   "outputs": [],
   "source": [
    "colnames(trans)"
   ]
  },
  {
   "cell_type": "markdown",
   "id": "10892b76",
   "metadata": {},
   "source": [
    "Compare with the original features (column names) from Zoo"
   ]
  },
  {
   "cell_type": "code",
   "execution_count": null,
   "id": "00bf6605",
   "metadata": {},
   "outputs": [],
   "source": [
    "colnames(Zoo)"
   ]
  },
  {
   "cell_type": "markdown",
   "id": "15118be1",
   "metadata": {},
   "source": [
    "Look at a (first) few transactions as a matrix. 1 indicates the presence\n",
    "of an item."
   ]
  },
  {
   "cell_type": "code",
   "execution_count": null,
   "id": "53880e25",
   "metadata": {},
   "outputs": [],
   "source": [
    "as(trans, \"matrix\")[1:3,]"
   ]
  },
  {
   "cell_type": "markdown",
   "id": "94e52bd6",
   "metadata": {},
   "source": [
    "Look at the transactions as sets of items"
   ]
  },
  {
   "cell_type": "code",
   "execution_count": null,
   "id": "147e2a78",
   "metadata": {},
   "outputs": [],
   "source": [
    "inspect(trans[1:3])"
   ]
  },
  {
   "cell_type": "markdown",
   "id": "2ee7262a",
   "metadata": {},
   "source": [
    "Plot the binary matrix. Dark dots represent 1s."
   ]
  },
  {
   "cell_type": "code",
   "execution_count": null,
   "id": "b1537d01",
   "metadata": {},
   "outputs": [],
   "source": [
    "image(trans)"
   ]
  },
  {
   "cell_type": "markdown",
   "id": "7f7b2dce",
   "metadata": {},
   "source": [
    "Look at the relative frequency (=support) of items in the data set. Here\n",
    "we look at the 10 most frequent items."
   ]
  },
  {
   "cell_type": "code",
   "execution_count": null,
   "id": "44272ba7",
   "metadata": {},
   "outputs": [],
   "source": [
    "itemFrequencyPlot(trans,topN = 20)\n",
    "\n",
    "ggplot(\n",
    "  tibble(\n",
    "    Support = sort(itemFrequency(trans, type = \"absolute\"), decreasing = TRUE),\n",
    "    Item = seq_len(ncol(trans))\n",
    "  ), aes(x = Item, y = Support)) + geom_line()"
   ]
  },
  {
   "cell_type": "markdown",
   "id": "2f138de3",
   "metadata": {},
   "source": [
    "**Alternative encoding:** Also create items for FALSE (use factor)"
   ]
  },
  {
   "cell_type": "code",
   "execution_count": null,
   "id": "f3a08045",
   "metadata": {},
   "outputs": [],
   "source": [
    "sapply(Zoo_has_legs, class)\n",
    "Zoo_factors <- Zoo_has_legs %>% mutate_if(is.logical, factor)\n",
    "sapply(Zoo_factors, class)\n",
    "summary(Zoo_factors)\n",
    "\n",
    "trans_factors <- transactions(Zoo_factors)\n",
    "trans_factors\n",
    "\n",
    "itemFrequencyPlot(trans_factors, topN = 20)\n",
    "\n",
    "## Select transactions that contain a certain item\n",
    "trans_insects <- trans_factors[trans %in% \"type=insect\"]\n",
    "trans_insects\n",
    "inspect(trans_insects)"
   ]
  },
  {
   "cell_type": "markdown",
   "id": "2e2704ac",
   "metadata": {},
   "source": [
    "### Vertical Layout (Transaction ID Lists)\n",
    "\n",
    "The default layout for transactions is horizontal layout (i.e. each\n",
    "transaction is a row). The vertical layout represents transaction data\n",
    "as a list of transaction IDs for each item (= transaction ID lists)."
   ]
  },
  {
   "cell_type": "code",
   "execution_count": null,
   "id": "3cf0ef5c",
   "metadata": {},
   "outputs": [],
   "source": [
    "vertical <- as(trans, \"tidLists\")\n",
    "as(vertical, \"matrix\")[1:10, 1:5]"
   ]
  },
  {
   "cell_type": "markdown",
   "id": "be6d70dd",
   "metadata": {},
   "source": [
    "## Frequent Itemsets\n",
    "\n",
    "### Mine Frequent Itemsets\n",
    "\n",
    "For this dataset we have already a huge number of possible itemsets"
   ]
  },
  {
   "cell_type": "code",
   "execution_count": null,
   "id": "a2a508f2",
   "metadata": {},
   "outputs": [],
   "source": [
    "2^ncol(trans)"
   ]
  },
  {
   "cell_type": "markdown",
   "id": "f10b4db9",
   "metadata": {},
   "source": [
    "Find frequent itemsets (target=\"frequent\") with the default settings."
   ]
  },
  {
   "cell_type": "code",
   "execution_count": null,
   "id": "2f72d92f",
   "metadata": {},
   "outputs": [],
   "source": [
    "its <- apriori(trans, parameter=list(target = \"frequent\"))\n",
    "its"
   ]
  },
  {
   "cell_type": "markdown",
   "id": "ebe521fb",
   "metadata": {},
   "source": [
    "Default minimum support is .1 (10%). **Note:** We use here a very small\n",
    "data set. For larger datasets the default minimum support might be to\n",
    "low and you may run out of memory. You probably want to start out with a\n",
    "higher minimum support like .5 (50%) and then work your way down."
   ]
  },
  {
   "cell_type": "code",
   "execution_count": null,
   "id": "57cbe02e",
   "metadata": {},
   "outputs": [],
   "source": [
    "5/nrow(trans)"
   ]
  },
  {
   "cell_type": "markdown",
   "id": "4b6f01e3",
   "metadata": {},
   "source": [
    "In order to find itemsets that effect 5 animals I need to go down to a\n",
    "support of about 5%."
   ]
  },
  {
   "cell_type": "code",
   "execution_count": null,
   "id": "e172b801",
   "metadata": {},
   "outputs": [],
   "source": [
    "its <- apriori(trans, parameter=list(target = \"frequent\", support = 0.05))\n",
    "its"
   ]
  },
  {
   "cell_type": "markdown",
   "id": "3ea7bd1c",
   "metadata": {},
   "source": [
    "Sort by support"
   ]
  },
  {
   "cell_type": "code",
   "execution_count": null,
   "id": "fb57712f",
   "metadata": {},
   "outputs": [],
   "source": [
    "its <- sort(its, by = \"support\")\n",
    "inspect(head(its, n = 10))"
   ]
  },
  {
   "cell_type": "markdown",
   "id": "5200be06",
   "metadata": {},
   "source": [
    "Look at frequent itemsets with many items (set breaks manually since\n",
    "Automatically chosen breaks look bad)"
   ]
  },
  {
   "cell_type": "code",
   "execution_count": null,
   "id": "7e81c7d1",
   "metadata": {},
   "outputs": [],
   "source": [
    "ggplot(tibble(`Itemset Size` = factor(size(its))), aes(`Itemset Size`)) + geom_bar()\n",
    "inspect(its[size(its) > 8])"
   ]
  },
  {
   "cell_type": "markdown",
   "id": "f8c53a3e",
   "metadata": {},
   "source": [
    "### Concise Representation of Itemsets\n",
    "\n",
    "Find maximal frequent itemsets (no superset if frequent)"
   ]
  },
  {
   "cell_type": "code",
   "execution_count": null,
   "id": "ee5d4e65",
   "metadata": {},
   "outputs": [],
   "source": [
    "its_max <- its[is.maximal(its)]\n",
    "its_max\n",
    "inspect(head(its_max, by = \"support\"))"
   ]
  },
  {
   "cell_type": "markdown",
   "id": "2765adfa",
   "metadata": {},
   "source": [
    "Find closed frequent itemsets (no superset if frequent)"
   ]
  },
  {
   "cell_type": "code",
   "execution_count": null,
   "id": "170e549c",
   "metadata": {},
   "outputs": [],
   "source": [
    "its_closed <- its[is.closed(its)]\n",
    "its_closed\n",
    "inspect(head(its_closed, by = \"support\"))\n",
    "\n",
    "counts <- c(\n",
    "  frequent=length(its),\n",
    "  closed=length(its_closed),\n",
    "  maximal=length(its_max)\n",
    ")\n",
    "\n",
    "ggplot(as_tibble(counts, rownames = \"Itemsets\"),\n",
    "  aes(Itemsets, counts)) + geom_bar(stat = \"identity\")"
   ]
  },
  {
   "cell_type": "markdown",
   "id": "ea0aaca0",
   "metadata": {},
   "source": [
    "## Association Rules\n",
    "\n",
    "### Mine Association Rules\n",
    "\n",
    "We use the APRIORI algorithm (see\n",
    "[`? apriori`](https://www.rdocumentation.org/packages/arules/topics/apriori))"
   ]
  },
  {
   "cell_type": "code",
   "execution_count": null,
   "id": "ad1d9e64",
   "metadata": {},
   "outputs": [],
   "source": [
    "rules <- apriori(trans, parameter = list(support = 0.05, confidence = 0.9))\n",
    "length(rules)\n",
    "\n",
    "inspect(head(rules))\n",
    "quality(head(rules))"
   ]
  },
  {
   "cell_type": "markdown",
   "id": "a30760bb",
   "metadata": {},
   "source": [
    "Look at rules with highest lift"
   ]
  },
  {
   "cell_type": "code",
   "execution_count": null,
   "id": "ac6615e8",
   "metadata": {},
   "outputs": [],
   "source": [
    "rules <- sort(rules, by = \"lift\")\n",
    "inspect(head(rules, n = 10))"
   ]
  },
  {
   "cell_type": "markdown",
   "id": "88c86982",
   "metadata": {},
   "source": [
    "Create rules using the alternative encoding (with \"FALSE\" item)"
   ]
  },
  {
   "cell_type": "code",
   "execution_count": null,
   "id": "18415e12",
   "metadata": {},
   "outputs": [],
   "source": [
    "r <- apriori(trans_factors)\n",
    "r\n",
    "print(object.size(r), unit = \"Mb\")\n",
    "\n",
    "inspect(r[1:10])\n",
    "inspect(head(r, n = 10, by = \"lift\"))"
   ]
  },
  {
   "cell_type": "markdown",
   "id": "c77b0d2d",
   "metadata": {},
   "source": [
    "### Calculate Additional Interest Measures"
   ]
  },
  {
   "cell_type": "code",
   "execution_count": null,
   "id": "4f08c99f",
   "metadata": {},
   "outputs": [],
   "source": [
    "interestMeasure(rules[1:10], measure = c(\"phi\", \"gini\"),\n",
    "  trans = trans)"
   ]
  },
  {
   "cell_type": "markdown",
   "id": "3f8e017a",
   "metadata": {},
   "source": [
    "Add measures to the rules"
   ]
  },
  {
   "cell_type": "code",
   "execution_count": null,
   "id": "caa697de",
   "metadata": {},
   "outputs": [],
   "source": [
    "quality(rules) <- cbind(quality(rules),\n",
    "  interestMeasure(rules, measure = c(\"phi\", \"gini\"),\n",
    "    trans = trans))"
   ]
  },
  {
   "cell_type": "markdown",
   "id": "85f838f5",
   "metadata": {},
   "source": [
    "Find rules which score high for Phi correlation"
   ]
  },
  {
   "cell_type": "code",
   "execution_count": null,
   "id": "6ccefcae",
   "metadata": {},
   "outputs": [],
   "source": [
    "inspect(head(rules, by = \"phi\"))"
   ]
  },
  {
   "cell_type": "markdown",
   "id": "8c3149aa",
   "metadata": {},
   "source": [
    "### Mine Using Templates\n",
    "\n",
    "Sometimes it is beneficial to specify what items should be where in the\n",
    "rule. For apriori we can use the parameter appearance to specify this\n",
    "(see\n",
    "[`? APappearance`](https://www.rdocumentation.org/packages/arules/topics/APappearance)).\n",
    "In the following we restrict rules to an animal `type` in the RHS and\n",
    "any item in the LHS."
   ]
  },
  {
   "cell_type": "code",
   "execution_count": null,
   "id": "5d65b7fe",
   "metadata": {},
   "outputs": [],
   "source": [
    "type <- grep(\"type=\", itemLabels(trans), value = TRUE)\n",
    "type\n",
    "\n",
    "rules_type <- apriori(trans, appearance= list(rhs = type))\n",
    "\n",
    "inspect(head(sort(rules_type, by = \"lift\")))"
   ]
  },
  {
   "cell_type": "markdown",
   "id": "b6e20f77",
   "metadata": {},
   "source": [
    "Saving rules as a CSV-file to be opened with Excel or other tools.\n",
    "\n",
    "`write(rules, file = \"rules.csv\", quote = TRUE)`\n",
    "\n",
    "## Association Rule Visualization"
   ]
  },
  {
   "cell_type": "code",
   "execution_count": null,
   "id": "1f077873",
   "metadata": {},
   "outputs": [],
   "source": [
    "library(arulesViz)"
   ]
  },
  {
   "cell_type": "markdown",
   "id": "a9cc4acd",
   "metadata": {},
   "source": [
    "Default scatterplot"
   ]
  },
  {
   "cell_type": "code",
   "execution_count": null,
   "id": "6f836e93",
   "metadata": {},
   "outputs": [],
   "source": [
    "plot(rules)"
   ]
  },
  {
   "cell_type": "markdown",
   "id": "f23d0aeb",
   "metadata": {},
   "source": [
    "Note that some jitter (randomly move points) was added to show how many\n",
    "rules have the same confidence and support value. Without jitter:"
   ]
  },
  {
   "cell_type": "code",
   "execution_count": null,
   "id": "b2f831be",
   "metadata": {},
   "outputs": [],
   "source": [
    "plot(rules, control = list(jitter = 0))\n",
    "\n",
    "plot(rules, shading = \"order\")\n",
    "##plot(rules, interactive = TRUE)"
   ]
  },
  {
   "cell_type": "markdown",
   "id": "c887f8c5",
   "metadata": {},
   "source": [
    "Grouped plot"
   ]
  },
  {
   "cell_type": "code",
   "execution_count": null,
   "id": "b50a32f8",
   "metadata": {},
   "outputs": [],
   "source": [
    "plot(rules, method = \"grouped\")\n",
    "##plot(rules, method = \"grouped\", engine = \"interactive\")"
   ]
  },
  {
   "cell_type": "markdown",
   "id": "bcacebbd",
   "metadata": {},
   "source": [
    "As a graph"
   ]
  },
  {
   "cell_type": "code",
   "execution_count": null,
   "id": "71748b23",
   "metadata": {},
   "outputs": [],
   "source": [
    "plot(rules, method = \"graph\")\n",
    "plot(head(rules, by = \"phi\", n = 100), method = \"graph\")"
   ]
  },
  {
   "cell_type": "markdown",
   "id": "cae26843",
   "metadata": {},
   "source": [
    "## Interactive Visualizations\n",
    "\n",
    "We will use the association rules mined from the Iris dataset for the\n",
    "following examples."
   ]
  },
  {
   "cell_type": "code",
   "execution_count": null,
   "id": "2aa396d3",
   "metadata": {},
   "outputs": [],
   "source": [
    "data(iris)\n",
    "summary(iris)"
   ]
  },
  {
   "cell_type": "markdown",
   "id": "991efb39",
   "metadata": {},
   "source": [
    "Convert the data to transactions. Note that the features are numeric and\n",
    "need to be discretized. The conversion automatically applies\n",
    "frequency-based discretization with 3 classes to each numeric feature\n",
    "(with a warning)."
   ]
  },
  {
   "cell_type": "code",
   "execution_count": null,
   "id": "7421def2",
   "metadata": {},
   "outputs": [],
   "source": [
    "iris_trans <- transactions(iris)\n",
    "inspect(head(iris_trans))"
   ]
  },
  {
   "cell_type": "markdown",
   "id": "f184076c",
   "metadata": {},
   "source": [
    "Next, we mine association rules."
   ]
  },
  {
   "cell_type": "code",
   "execution_count": null,
   "id": "fcb68e07",
   "metadata": {},
   "outputs": [],
   "source": [
    "rules <- apriori(iris_trans, parameter = list(support = 0.1, confidence = 0.8))\n",
    "rules"
   ]
  },
  {
   "cell_type": "markdown",
   "id": "2da09d76",
   "metadata": {},
   "source": [
    "### Interactive Inspect With Sorting, Filtering and Paging"
   ]
  },
  {
   "cell_type": "code",
   "execution_count": null,
   "id": "c7e53276",
   "metadata": {},
   "outputs": [],
   "source": [
    "inspectDT(rules)"
   ]
  },
  {
   "cell_type": "markdown",
   "id": "cfcc238e",
   "metadata": {},
   "source": [
    "### Scatter Plot\n",
    "\n",
    "Plot rules as a scatter plot using an interactive html widget. To avoid\n",
    "overplotting, jitter is added automatically. Set `jitter = 0` to disable\n",
    "jitter. Hovering over rules shows rule information. *Note:*\n",
    "plotly/javascript does not do well with too many points, so plot selects\n",
    "the top 1000 rules with a warning if more rules are supplied."
   ]
  },
  {
   "cell_type": "code",
   "execution_count": null,
   "id": "7b50852f",
   "metadata": {},
   "outputs": [],
   "source": [
    "plot(rules, engine = \"html\")"
   ]
  },
  {
   "cell_type": "markdown",
   "id": "02df0231",
   "metadata": {},
   "source": [
    "### Matrix Visualization\n",
    "\n",
    "Plot rules as a matrix using an interactive html widget."
   ]
  },
  {
   "cell_type": "code",
   "execution_count": null,
   "id": "409566e9",
   "metadata": {},
   "outputs": [],
   "source": [
    "plot(rules, method = \"matrix\", engine = \"html\") "
   ]
  },
  {
   "cell_type": "markdown",
   "id": "73ed3810",
   "metadata": {},
   "source": [
    "### Visualization as Graph\n",
    "\n",
    "Plot rules as a graph using an interactive html widget. *Note:* the used\n",
    "javascript library does not do well with too many graph nodes, so plot\n",
    "selects the top 100 rules only (with a warning)."
   ]
  },
  {
   "cell_type": "code",
   "execution_count": null,
   "id": "0e3a7a28",
   "metadata": {},
   "outputs": [],
   "source": [
    "plot(rules, method = \"graph\", engine = \"html\")"
   ]
  },
  {
   "cell_type": "markdown",
   "id": "93cfe89d",
   "metadata": {},
   "source": [
    "### Interactive Rule Explorer\n",
    "\n",
    "You can specify a rule set or a dataset. To explore rules that can be\n",
    "mined from iris, use: `ruleExplorer(iris)`\n",
    "\n",
    "The rule explorer creates an interactive Shiny application that can be\n",
    "used locally or deployed on a server for sharing. A deployed version of\n",
    "the ruleExplorer is available\n",
    "[here](https://mhahsler-apps.shinyapps.io/ruleExplorer_demo/) (using\n",
    "[shinyapps.io](https://www.shinyapps.io/))."
   ]
  }
 ],
 "metadata": {
  "jupytext": {
   "cell_metadata_filter": "name,tags,-all",
   "main_language": "R",
   "notebook_metadata_filter": "-all"
  }
 },
 "nbformat": 4,
 "nbformat_minor": 5
}
