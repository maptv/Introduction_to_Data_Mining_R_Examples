{
 "cells": [
  {
   "cell_type": "markdown",
   "id": "8be44360",
   "metadata": {},
   "source": [
    "`r if (knitr::is_html_output()) '\n",
    "# References {-}\n",
    "'`"
   ]
  },
  {
   "cell_type": "code",
   "execution_count": null,
   "id": "1ebd23b0",
   "metadata": {
    "tags": [
     "remove_cell"
    ]
   },
   "outputs": [],
   "source": [
    "knitr::write_bib(c(\n",
    "  .packages(), unique(all_pkgs)), 'packages.bib')"
   ]
  }
 ],
 "metadata": {
  "jupytext": {
   "cell_metadata_filter": "tags,-all",
   "main_language": "R",
   "notebook_metadata_filter": "-all"
  }
 },
 "nbformat": 4,
 "nbformat_minor": 5
}
